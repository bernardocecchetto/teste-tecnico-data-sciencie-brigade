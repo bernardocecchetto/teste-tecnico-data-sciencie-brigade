{
  "cells": [
    {
      "cell_type": "markdown",
      "metadata": {
        "id": "oFQeaeDn0nR_"
      },
      "source": [
        "Importing all the packages that will be necessary"
      ]
    },
    {
      "cell_type": "code",
      "execution_count": 2,
      "metadata": {
        "id": "ryYGnHgm0nSC"
      },
      "outputs": [],
      "source": [
        "import pandas as pd\n",
        "import numpy as np\n",
        "import matplotlib.pyplot as plt\n",
        "import seaborn as sns\n",
        "import os\n",
        "import glob\n"
      ]
    },
    {
      "cell_type": "markdown",
      "metadata": {
        "id": "oEzkOjb-0nSD"
      },
      "source": [
        "Combining all the item's csv files in one dataframe"
      ]
    },
    {
      "cell_type": "code",
      "execution_count": 3,
      "metadata": {
        "colab": {
          "base_uri": "https://localhost:8080/"
        },
        "id": "fNfgntGR0nSE",
        "outputId": "88c14b7e-ff9c-4f21-bdcc-dc41ed0fe644"
      },
      "outputs": [
        {
          "name": "stderr",
          "output_type": "stream",
          "text": [
            "/usr/local/lib/python3.7/dist-packages/ipykernel_launcher.py:6: DtypeWarning: Columns (19,27,28) have mixed types.Specify dtype option on import or set low_memory=False.\n",
            "  \n",
            "/usr/local/lib/python3.7/dist-packages/ipykernel_launcher.py:6: DtypeWarning: Columns (26,27,28) have mixed types.Specify dtype option on import or set low_memory=False.\n",
            "  \n",
            "/usr/local/lib/python3.7/dist-packages/ipykernel_launcher.py:6: DtypeWarning: Columns (8,19,25,26,27,28) have mixed types.Specify dtype option on import or set low_memory=False.\n",
            "  \n",
            "/usr/local/lib/python3.7/dist-packages/ipykernel_launcher.py:6: DtypeWarning: Columns (8,25,26,27) have mixed types.Specify dtype option on import or set low_memory=False.\n",
            "  \n"
          ]
        }
      ],
      "source": [
        "owd = os.getcwd() #saving in a variable the original directory\n",
        "\n",
        "os.chdir(\"data\\item\") #accessing the directory from the item's files\n",
        "extension = 'csv' #extension of the files\n",
        "all_filenames_item = [i for i in glob.glob('*.{}'.format(extension))] #transforming in a list all the filenames from the directory\n",
        "combined_item = pd.concat([pd.read_csv(f) for f in all_filenames_item ]) #combine all files in the list\n",
        "\n"
      ]
    },
    {
      "cell_type": "markdown",
      "metadata": {
        "id": "0UBaXNGk0nSF"
      },
      "source": [
        "Combining all the licitacao's csv files in one dataframe"
      ]
    },
    {
      "cell_type": "code",
      "execution_count": 4,
      "metadata": {
        "colab": {
          "base_uri": "https://localhost:8080/"
        },
        "id": "lYOxb5kx0nSF",
        "outputId": "95aa4cf5-2554-409a-f580-8aa0b5374fad"
      },
      "outputs": [
        {
          "name": "stderr",
          "output_type": "stream",
          "text": [
            "/usr/local/lib/python3.7/dist-packages/ipykernel_launcher.py:5: DtypeWarning: Columns (52,54) have mixed types.Specify dtype option on import or set low_memory=False.\n",
            "  \"\"\"\n",
            "/usr/local/lib/python3.7/dist-packages/ipykernel_launcher.py:5: DtypeWarning: Columns (52,53,54,55) have mixed types.Specify dtype option on import or set low_memory=False.\n",
            "  \"\"\"\n",
            "/usr/local/lib/python3.7/dist-packages/ipykernel_launcher.py:5: DtypeWarning: Columns (53,54) have mixed types.Specify dtype option on import or set low_memory=False.\n",
            "  \"\"\"\n"
          ]
        }
      ],
      "source": [
        "os.chdir(owd) #returning to the original directory\n",
        "os.chdir(\"data\\licitacao\") #accessing the directory from the item's files\n",
        "extension = 'csv' #extension of the files\n",
        "all_filenames_licit = [i for i in glob.glob('*.{}'.format(extension))] #transforming in a list all the filenames from the directory\n",
        "combined_licit = pd.concat([pd.read_csv(f) for f in all_filenames_licit ]) #combine all files in the list\n",
        "\n"
      ]
    },
    {
      "cell_type": "code",
      "execution_count": 5,
      "metadata": {
        "colab": {
          "base_uri": "https://localhost:8080/",
          "height": 438
        },
        "id": "rlUm_FEJcabt",
        "outputId": "aa58dcbd-ad29-465e-e4da-2c7acd37033b"
      },
      "outputs": [
        {
          "data": {
            "text/html": [
              "\n",
              "  <div id=\"df-4edcab14-62ff-4fc4-9808-0a0fb684030d\">\n",
              "    <div class=\"colab-df-container\">\n",
              "      <div>\n",
              "<style scoped>\n",
              "    .dataframe tbody tr th:only-of-type {\n",
              "        vertical-align: middle;\n",
              "    }\n",
              "\n",
              "    .dataframe tbody tr th {\n",
              "        vertical-align: top;\n",
              "    }\n",
              "\n",
              "    .dataframe thead th {\n",
              "        text-align: right;\n",
              "    }\n",
              "</style>\n",
              "<table border=\"1\" class=\"dataframe\">\n",
              "  <thead>\n",
              "    <tr style=\"text-align: right;\">\n",
              "      <th></th>\n",
              "      <th>CD_ORGAO</th>\n",
              "      <th>NM_ORGAO</th>\n",
              "      <th>NR_LICITACAO</th>\n",
              "      <th>ANO_LICITACAO</th>\n",
              "      <th>CD_TIPO_MODALIDADE</th>\n",
              "      <th>NR_COMISSAO</th>\n",
              "      <th>ANO_COMISSAO</th>\n",
              "      <th>TP_COMISSAO</th>\n",
              "      <th>NR_PROCESSO</th>\n",
              "      <th>ANO_PROCESSO</th>\n",
              "      <th>...</th>\n",
              "      <th>TP_DOCUMENTO_FORNECEDOR</th>\n",
              "      <th>NR_DOCUMENTO_FORNECEDOR</th>\n",
              "      <th>TP_DOCUMENTO_VENCEDOR</th>\n",
              "      <th>NR_DOCUMENTO_VENCEDOR</th>\n",
              "      <th>VL_HOMOLOGADO</th>\n",
              "      <th>BL_GERA_DESPESA</th>\n",
              "      <th>DS_OBSERVACAO</th>\n",
              "      <th>PC_TX_ESTIMADA</th>\n",
              "      <th>PC_TX_HOMOLOGADA</th>\n",
              "      <th>BL_COMPARTILHADA</th>\n",
              "    </tr>\n",
              "  </thead>\n",
              "  <tbody>\n",
              "    <tr>\n",
              "      <th>0</th>\n",
              "      <td>84100</td>\n",
              "      <td>PM DE ESPERANÇA DO SUL</td>\n",
              "      <td>1.0</td>\n",
              "      <td>2016</td>\n",
              "      <td>CNV</td>\n",
              "      <td>12.0</td>\n",
              "      <td>2016.0</td>\n",
              "      <td>P</td>\n",
              "      <td>001</td>\n",
              "      <td>2016.0</td>\n",
              "      <td>...</td>\n",
              "      <td>NaN</td>\n",
              "      <td>NaN</td>\n",
              "      <td>J</td>\n",
              "      <td>6233397000148.0</td>\n",
              "      <td>6420.0</td>\n",
              "      <td>S</td>\n",
              "      <td>NaN</td>\n",
              "      <td>NaN</td>\n",
              "      <td>NaN</td>\n",
              "      <td>N</td>\n",
              "    </tr>\n",
              "    <tr>\n",
              "      <th>1</th>\n",
              "      <td>84100</td>\n",
              "      <td>PM DE ESPERANÇA DO SUL</td>\n",
              "      <td>4.0</td>\n",
              "      <td>2016</td>\n",
              "      <td>CNV</td>\n",
              "      <td>12.0</td>\n",
              "      <td>2016.0</td>\n",
              "      <td>P</td>\n",
              "      <td>003</td>\n",
              "      <td>2016.0</td>\n",
              "      <td>...</td>\n",
              "      <td>NaN</td>\n",
              "      <td>NaN</td>\n",
              "      <td>NaN</td>\n",
              "      <td>NaN</td>\n",
              "      <td>NaN</td>\n",
              "      <td>S</td>\n",
              "      <td>NaN</td>\n",
              "      <td>NaN</td>\n",
              "      <td>NaN</td>\n",
              "      <td>N</td>\n",
              "    </tr>\n",
              "    <tr>\n",
              "      <th>2</th>\n",
              "      <td>82701</td>\n",
              "      <td>CM DE XANGRI-LÁ</td>\n",
              "      <td>1.0</td>\n",
              "      <td>2016</td>\n",
              "      <td>PRP</td>\n",
              "      <td>12.0</td>\n",
              "      <td>2016.0</td>\n",
              "      <td>G</td>\n",
              "      <td>01</td>\n",
              "      <td>2016.0</td>\n",
              "      <td>...</td>\n",
              "      <td>NaN</td>\n",
              "      <td>NaN</td>\n",
              "      <td>NaN</td>\n",
              "      <td>NaN</td>\n",
              "      <td>NaN</td>\n",
              "      <td>S</td>\n",
              "      <td>NaN</td>\n",
              "      <td>NaN</td>\n",
              "      <td>NaN</td>\n",
              "      <td>N</td>\n",
              "    </tr>\n",
              "    <tr>\n",
              "      <th>3</th>\n",
              "      <td>84100</td>\n",
              "      <td>PM DE ESPERANÇA DO SUL</td>\n",
              "      <td>6.0</td>\n",
              "      <td>2016</td>\n",
              "      <td>CNV</td>\n",
              "      <td>12.0</td>\n",
              "      <td>2016.0</td>\n",
              "      <td>P</td>\n",
              "      <td>005</td>\n",
              "      <td>2016.0</td>\n",
              "      <td>...</td>\n",
              "      <td>NaN</td>\n",
              "      <td>NaN</td>\n",
              "      <td>NaN</td>\n",
              "      <td>NaN</td>\n",
              "      <td>NaN</td>\n",
              "      <td>S</td>\n",
              "      <td>NaN</td>\n",
              "      <td>NaN</td>\n",
              "      <td>NaN</td>\n",
              "      <td>N</td>\n",
              "    </tr>\n",
              "    <tr>\n",
              "      <th>4</th>\n",
              "      <td>63900</td>\n",
              "      <td>PM DE COTIPORÃ</td>\n",
              "      <td>36.0</td>\n",
              "      <td>2016</td>\n",
              "      <td>PRD</td>\n",
              "      <td>NaN</td>\n",
              "      <td>NaN</td>\n",
              "      <td>NaN</td>\n",
              "      <td>344</td>\n",
              "      <td>2016.0</td>\n",
              "      <td>...</td>\n",
              "      <td>J</td>\n",
              "      <td>9255424000171.0</td>\n",
              "      <td>NaN</td>\n",
              "      <td>NaN</td>\n",
              "      <td>NaN</td>\n",
              "      <td>S</td>\n",
              "      <td>NaN</td>\n",
              "      <td>NaN</td>\n",
              "      <td>NaN</td>\n",
              "      <td>N</td>\n",
              "    </tr>\n",
              "  </tbody>\n",
              "</table>\n",
              "<p>5 rows × 61 columns</p>\n",
              "</div>\n",
              "      <button class=\"colab-df-convert\" onclick=\"convertToInteractive('df-4edcab14-62ff-4fc4-9808-0a0fb684030d')\"\n",
              "              title=\"Convert this dataframe to an interactive table.\"\n",
              "              style=\"display:none;\">\n",
              "        \n",
              "  <svg xmlns=\"http://www.w3.org/2000/svg\" height=\"24px\"viewBox=\"0 0 24 24\"\n",
              "       width=\"24px\">\n",
              "    <path d=\"M0 0h24v24H0V0z\" fill=\"none\"/>\n",
              "    <path d=\"M18.56 5.44l.94 2.06.94-2.06 2.06-.94-2.06-.94-.94-2.06-.94 2.06-2.06.94zm-11 1L8.5 8.5l.94-2.06 2.06-.94-2.06-.94L8.5 2.5l-.94 2.06-2.06.94zm10 10l.94 2.06.94-2.06 2.06-.94-2.06-.94-.94-2.06-.94 2.06-2.06.94z\"/><path d=\"M17.41 7.96l-1.37-1.37c-.4-.4-.92-.59-1.43-.59-.52 0-1.04.2-1.43.59L10.3 9.45l-7.72 7.72c-.78.78-.78 2.05 0 2.83L4 21.41c.39.39.9.59 1.41.59.51 0 1.02-.2 1.41-.59l7.78-7.78 2.81-2.81c.8-.78.8-2.07 0-2.86zM5.41 20L4 18.59l7.72-7.72 1.47 1.35L5.41 20z\"/>\n",
              "  </svg>\n",
              "      </button>\n",
              "      \n",
              "  <style>\n",
              "    .colab-df-container {\n",
              "      display:flex;\n",
              "      flex-wrap:wrap;\n",
              "      gap: 12px;\n",
              "    }\n",
              "\n",
              "    .colab-df-convert {\n",
              "      background-color: #E8F0FE;\n",
              "      border: none;\n",
              "      border-radius: 50%;\n",
              "      cursor: pointer;\n",
              "      display: none;\n",
              "      fill: #1967D2;\n",
              "      height: 32px;\n",
              "      padding: 0 0 0 0;\n",
              "      width: 32px;\n",
              "    }\n",
              "\n",
              "    .colab-df-convert:hover {\n",
              "      background-color: #E2EBFA;\n",
              "      box-shadow: 0px 1px 2px rgba(60, 64, 67, 0.3), 0px 1px 3px 1px rgba(60, 64, 67, 0.15);\n",
              "      fill: #174EA6;\n",
              "    }\n",
              "\n",
              "    [theme=dark] .colab-df-convert {\n",
              "      background-color: #3B4455;\n",
              "      fill: #D2E3FC;\n",
              "    }\n",
              "\n",
              "    [theme=dark] .colab-df-convert:hover {\n",
              "      background-color: #434B5C;\n",
              "      box-shadow: 0px 1px 3px 1px rgba(0, 0, 0, 0.15);\n",
              "      filter: drop-shadow(0px 1px 2px rgba(0, 0, 0, 0.3));\n",
              "      fill: #FFFFFF;\n",
              "    }\n",
              "  </style>\n",
              "\n",
              "      <script>\n",
              "        const buttonEl =\n",
              "          document.querySelector('#df-4edcab14-62ff-4fc4-9808-0a0fb684030d button.colab-df-convert');\n",
              "        buttonEl.style.display =\n",
              "          google.colab.kernel.accessAllowed ? 'block' : 'none';\n",
              "\n",
              "        async function convertToInteractive(key) {\n",
              "          const element = document.querySelector('#df-4edcab14-62ff-4fc4-9808-0a0fb684030d');\n",
              "          const dataTable =\n",
              "            await google.colab.kernel.invokeFunction('convertToInteractive',\n",
              "                                                     [key], {});\n",
              "          if (!dataTable) return;\n",
              "\n",
              "          const docLinkHtml = 'Like what you see? Visit the ' +\n",
              "            '<a target=\"_blank\" href=https://colab.research.google.com/notebooks/data_table.ipynb>data table notebook</a>'\n",
              "            + ' to learn more about interactive tables.';\n",
              "          element.innerHTML = '';\n",
              "          dataTable['output_type'] = 'display_data';\n",
              "          await google.colab.output.renderOutput(dataTable, element);\n",
              "          const docLink = document.createElement('div');\n",
              "          docLink.innerHTML = docLinkHtml;\n",
              "          element.appendChild(docLink);\n",
              "        }\n",
              "      </script>\n",
              "    </div>\n",
              "  </div>\n",
              "  "
            ],
            "text/plain": [
              "   CD_ORGAO                NM_ORGAO  NR_LICITACAO  ANO_LICITACAO  \\\n",
              "0     84100  PM DE ESPERANÇA DO SUL           1.0           2016   \n",
              "1     84100  PM DE ESPERANÇA DO SUL           4.0           2016   \n",
              "2     82701         CM DE XANGRI-LÁ           1.0           2016   \n",
              "3     84100  PM DE ESPERANÇA DO SUL           6.0           2016   \n",
              "4     63900          PM DE COTIPORÃ          36.0           2016   \n",
              "\n",
              "  CD_TIPO_MODALIDADE  NR_COMISSAO  ANO_COMISSAO TP_COMISSAO NR_PROCESSO  \\\n",
              "0                CNV         12.0        2016.0           P         001   \n",
              "1                CNV         12.0        2016.0           P         003   \n",
              "2                PRP         12.0        2016.0           G          01   \n",
              "3                CNV         12.0        2016.0           P         005   \n",
              "4                PRD          NaN           NaN         NaN         344   \n",
              "\n",
              "   ANO_PROCESSO  ... TP_DOCUMENTO_FORNECEDOR NR_DOCUMENTO_FORNECEDOR  \\\n",
              "0        2016.0  ...                     NaN                     NaN   \n",
              "1        2016.0  ...                     NaN                     NaN   \n",
              "2        2016.0  ...                     NaN                     NaN   \n",
              "3        2016.0  ...                     NaN                     NaN   \n",
              "4        2016.0  ...                       J         9255424000171.0   \n",
              "\n",
              "  TP_DOCUMENTO_VENCEDOR NR_DOCUMENTO_VENCEDOR VL_HOMOLOGADO BL_GERA_DESPESA  \\\n",
              "0                     J       6233397000148.0        6420.0               S   \n",
              "1                   NaN                   NaN           NaN               S   \n",
              "2                   NaN                   NaN           NaN               S   \n",
              "3                   NaN                   NaN           NaN               S   \n",
              "4                   NaN                   NaN           NaN               S   \n",
              "\n",
              "  DS_OBSERVACAO PC_TX_ESTIMADA PC_TX_HOMOLOGADA BL_COMPARTILHADA  \n",
              "0           NaN            NaN              NaN                N  \n",
              "1           NaN            NaN              NaN                N  \n",
              "2           NaN            NaN              NaN                N  \n",
              "3           NaN            NaN              NaN                N  \n",
              "4           NaN            NaN              NaN                N  \n",
              "\n",
              "[5 rows x 61 columns]"
            ]
          },
          "execution_count": 5,
          "metadata": {},
          "output_type": "execute_result"
        }
      ],
      "source": [
        "combined_licit.head()"
      ]
    },
    {
      "cell_type": "markdown",
      "metadata": {
        "id": "FrEjEWWa0nSH"
      },
      "source": [
        "### The first thing I want to do here is to cross the tables by the NR_LICITACAO, ANO_LICITACAO and CD_TIPO_MODALIDADE, because they are unique values that can't be repeated. So I filtered them first and, later, I cross the tables the get only the items that matches with the values from those columns"
      ]
    },
    {
      "cell_type": "markdown",
      "metadata": {
        "id": "_f45aK460nSI"
      },
      "source": [
        "Filtering only the relevant columns and values for the test (advice from the enterprise)"
      ]
    },
    {
      "cell_type": "code",
      "execution_count": 6,
      "metadata": {
        "id": "-NWX26gB0nSI"
      },
      "outputs": [],
      "source": [
        "combined_licit = combined_licit.loc[combined_licit['TP_OBJETO'] == \"COM\"]\n",
        "\n",
        "combined_licit = combined_licit[['NR_LICITACAO','ANO_LICITACAO', 'CD_TIPO_MODALIDADE','DS_OBJETO', 'TP_OBJETO']] # filtering only the relevant columns (advice from the company)\n",
        "combined_item = combined_item[['NR_LICITACAO','ANO_LICITACAO', 'CD_TIPO_MODALIDADE', 'NR_LOTE', 'NR_ITEM_ORIGINAL','DS_ITEM', 'VL_UNITARIO_HOMOLOGADO']] # filtering only the relevant columns (advice from the company)"
      ]
    },
    {
      "cell_type": "markdown",
      "metadata": {
        "id": "EyLHrPaKeMI6"
      },
      "source": [
        "Now I will remove (if it exists) duplicates from combined_licit, becase, as the public organ from RS says:\n",
        "\n",
        "***Informações relacionadas aos processos licitatórios sendo realizados.\n",
        "Não podem ser informados, para um mesmo arquivo de leiaute, dois ou mais\n",
        "registros com a mesma combinação de valores dos campos formadores da chave do\n",
        "registro. A chave deste registro é: NR_LICITACAO, ANO_LICITACAO e\n",
        "CD_TIPO_MODALIDADE.***\n",
        "\n",
        "So I dropped those that have these fields duplicated\n",
        "\n",
        "\n"
      ]
    },
    {
      "cell_type": "code",
      "execution_count": 7,
      "metadata": {
        "id": "MhCoorwociPB"
      },
      "outputs": [],
      "source": [
        "combined_licit.drop_duplicates(subset=['NR_LICITACAO', 'ANO_LICITACAO', 'CD_TIPO_MODALIDADE'], inplace=True)"
      ]
    },
    {
      "cell_type": "code",
      "execution_count": 8,
      "metadata": {
        "id": "L8qGGIwbeK7k"
      },
      "outputs": [],
      "source": [
        "combined_licit.reset_index(inplace=True, drop=True) #reseting index"
      ]
    },
    {
      "cell_type": "code",
      "execution_count": 9,
      "metadata": {
        "colab": {
          "base_uri": "https://localhost:8080/",
          "height": 206
        },
        "id": "vTJqDpWgclMb",
        "outputId": "1efab339-d3ba-4757-b04b-eefbfa423787"
      },
      "outputs": [
        {
          "data": {
            "text/html": [
              "\n",
              "  <div id=\"df-fde4dbeb-2b3e-4b23-bbe7-0cd44cc7a916\">\n",
              "    <div class=\"colab-df-container\">\n",
              "      <div>\n",
              "<style scoped>\n",
              "    .dataframe tbody tr th:only-of-type {\n",
              "        vertical-align: middle;\n",
              "    }\n",
              "\n",
              "    .dataframe tbody tr th {\n",
              "        vertical-align: top;\n",
              "    }\n",
              "\n",
              "    .dataframe thead th {\n",
              "        text-align: right;\n",
              "    }\n",
              "</style>\n",
              "<table border=\"1\" class=\"dataframe\">\n",
              "  <thead>\n",
              "    <tr style=\"text-align: right;\">\n",
              "      <th></th>\n",
              "      <th>NR_LICITACAO</th>\n",
              "      <th>ANO_LICITACAO</th>\n",
              "      <th>CD_TIPO_MODALIDADE</th>\n",
              "      <th>DS_OBJETO</th>\n",
              "      <th>TP_OBJETO</th>\n",
              "    </tr>\n",
              "  </thead>\n",
              "  <tbody>\n",
              "    <tr>\n",
              "      <th>0</th>\n",
              "      <td>4.0</td>\n",
              "      <td>2016</td>\n",
              "      <td>CNV</td>\n",
              "      <td>Aquisição de merenda escolar</td>\n",
              "      <td>COM</td>\n",
              "    </tr>\n",
              "    <tr>\n",
              "      <th>1</th>\n",
              "      <td>1.0</td>\n",
              "      <td>2016</td>\n",
              "      <td>PRP</td>\n",
              "      <td>AQUISIÇÃO DE PROTOCOLADORA E FRAGMENTADORA DE ...</td>\n",
              "      <td>COM</td>\n",
              "    </tr>\n",
              "    <tr>\n",
              "      <th>2</th>\n",
              "      <td>6.0</td>\n",
              "      <td>2016</td>\n",
              "      <td>CNV</td>\n",
              "      <td>Aquisição de materiais de limpeza para as dive...</td>\n",
              "      <td>COM</td>\n",
              "    </tr>\n",
              "    <tr>\n",
              "      <th>3</th>\n",
              "      <td>3.0</td>\n",
              "      <td>2016</td>\n",
              "      <td>PRP</td>\n",
              "      <td>Aquisição de tubos de concreto</td>\n",
              "      <td>COM</td>\n",
              "    </tr>\n",
              "    <tr>\n",
              "      <th>4</th>\n",
              "      <td>6.0</td>\n",
              "      <td>2016</td>\n",
              "      <td>PRP</td>\n",
              "      <td>Aquisição de módulos de comunicação de dados ...</td>\n",
              "      <td>COM</td>\n",
              "    </tr>\n",
              "  </tbody>\n",
              "</table>\n",
              "</div>\n",
              "      <button class=\"colab-df-convert\" onclick=\"convertToInteractive('df-fde4dbeb-2b3e-4b23-bbe7-0cd44cc7a916')\"\n",
              "              title=\"Convert this dataframe to an interactive table.\"\n",
              "              style=\"display:none;\">\n",
              "        \n",
              "  <svg xmlns=\"http://www.w3.org/2000/svg\" height=\"24px\"viewBox=\"0 0 24 24\"\n",
              "       width=\"24px\">\n",
              "    <path d=\"M0 0h24v24H0V0z\" fill=\"none\"/>\n",
              "    <path d=\"M18.56 5.44l.94 2.06.94-2.06 2.06-.94-2.06-.94-.94-2.06-.94 2.06-2.06.94zm-11 1L8.5 8.5l.94-2.06 2.06-.94-2.06-.94L8.5 2.5l-.94 2.06-2.06.94zm10 10l.94 2.06.94-2.06 2.06-.94-2.06-.94-.94-2.06-.94 2.06-2.06.94z\"/><path d=\"M17.41 7.96l-1.37-1.37c-.4-.4-.92-.59-1.43-.59-.52 0-1.04.2-1.43.59L10.3 9.45l-7.72 7.72c-.78.78-.78 2.05 0 2.83L4 21.41c.39.39.9.59 1.41.59.51 0 1.02-.2 1.41-.59l7.78-7.78 2.81-2.81c.8-.78.8-2.07 0-2.86zM5.41 20L4 18.59l7.72-7.72 1.47 1.35L5.41 20z\"/>\n",
              "  </svg>\n",
              "      </button>\n",
              "      \n",
              "  <style>\n",
              "    .colab-df-container {\n",
              "      display:flex;\n",
              "      flex-wrap:wrap;\n",
              "      gap: 12px;\n",
              "    }\n",
              "\n",
              "    .colab-df-convert {\n",
              "      background-color: #E8F0FE;\n",
              "      border: none;\n",
              "      border-radius: 50%;\n",
              "      cursor: pointer;\n",
              "      display: none;\n",
              "      fill: #1967D2;\n",
              "      height: 32px;\n",
              "      padding: 0 0 0 0;\n",
              "      width: 32px;\n",
              "    }\n",
              "\n",
              "    .colab-df-convert:hover {\n",
              "      background-color: #E2EBFA;\n",
              "      box-shadow: 0px 1px 2px rgba(60, 64, 67, 0.3), 0px 1px 3px 1px rgba(60, 64, 67, 0.15);\n",
              "      fill: #174EA6;\n",
              "    }\n",
              "\n",
              "    [theme=dark] .colab-df-convert {\n",
              "      background-color: #3B4455;\n",
              "      fill: #D2E3FC;\n",
              "    }\n",
              "\n",
              "    [theme=dark] .colab-df-convert:hover {\n",
              "      background-color: #434B5C;\n",
              "      box-shadow: 0px 1px 3px 1px rgba(0, 0, 0, 0.15);\n",
              "      filter: drop-shadow(0px 1px 2px rgba(0, 0, 0, 0.3));\n",
              "      fill: #FFFFFF;\n",
              "    }\n",
              "  </style>\n",
              "\n",
              "      <script>\n",
              "        const buttonEl =\n",
              "          document.querySelector('#df-fde4dbeb-2b3e-4b23-bbe7-0cd44cc7a916 button.colab-df-convert');\n",
              "        buttonEl.style.display =\n",
              "          google.colab.kernel.accessAllowed ? 'block' : 'none';\n",
              "\n",
              "        async function convertToInteractive(key) {\n",
              "          const element = document.querySelector('#df-fde4dbeb-2b3e-4b23-bbe7-0cd44cc7a916');\n",
              "          const dataTable =\n",
              "            await google.colab.kernel.invokeFunction('convertToInteractive',\n",
              "                                                     [key], {});\n",
              "          if (!dataTable) return;\n",
              "\n",
              "          const docLinkHtml = 'Like what you see? Visit the ' +\n",
              "            '<a target=\"_blank\" href=https://colab.research.google.com/notebooks/data_table.ipynb>data table notebook</a>'\n",
              "            + ' to learn more about interactive tables.';\n",
              "          element.innerHTML = '';\n",
              "          dataTable['output_type'] = 'display_data';\n",
              "          await google.colab.output.renderOutput(dataTable, element);\n",
              "          const docLink = document.createElement('div');\n",
              "          docLink.innerHTML = docLinkHtml;\n",
              "          element.appendChild(docLink);\n",
              "        }\n",
              "      </script>\n",
              "    </div>\n",
              "  </div>\n",
              "  "
            ],
            "text/plain": [
              "   NR_LICITACAO  ANO_LICITACAO CD_TIPO_MODALIDADE  \\\n",
              "0           4.0           2016                CNV   \n",
              "1           1.0           2016                PRP   \n",
              "2           6.0           2016                CNV   \n",
              "3           3.0           2016                PRP   \n",
              "4           6.0           2016                PRP   \n",
              "\n",
              "                                           DS_OBJETO TP_OBJETO  \n",
              "0                      Aquisição de merenda escolar        COM  \n",
              "1  AQUISIÇÃO DE PROTOCOLADORA E FRAGMENTADORA DE ...       COM  \n",
              "2  Aquisição de materiais de limpeza para as dive...       COM  \n",
              "3                     Aquisição de tubos de concreto       COM  \n",
              "4   Aquisição de módulos de comunicação de dados ...       COM  "
            ]
          },
          "execution_count": 9,
          "metadata": {},
          "output_type": "execute_result"
        }
      ],
      "source": [
        "combined_licit.head()"
      ]
    },
    {
      "cell_type": "markdown",
      "metadata": {
        "id": "FGBm31xxevPZ"
      },
      "source": [
        "Now I will remove (if it exists) duplicates from combined_item, becase, as the public organ from RS says:\n",
        "\n",
        "***Não podem ser informados, para um mesmo arquivo de leiaute, dois ou mais\n",
        "registros com a mesma combinação de valores dos campos formadores da chave do registro. A chave deste registro é: NR_LICITACAO, ANO_LICITACAO,\n",
        "CD_TIPO_MODALIDADE, NR_LOTE e NR_ITEM.***\n",
        "\n",
        "So I dropped those that have these fields duplicated\n",
        "\n"
      ]
    },
    {
      "cell_type": "code",
      "execution_count": 10,
      "metadata": {
        "id": "IzCK1114fB-s"
      },
      "outputs": [],
      "source": [
        "combined_item.drop_duplicates(subset=['NR_LICITACAO', 'ANO_LICITACAO', 'CD_TIPO_MODALIDADE', 'NR_LOTE', 'NR_ITEM_ORIGINAL'], inplace=True)"
      ]
    },
    {
      "cell_type": "code",
      "execution_count": 11,
      "metadata": {
        "id": "a105vfVQfB-t"
      },
      "outputs": [],
      "source": [
        "combined_item.reset_index(inplace=True, drop=True) #reseting index"
      ]
    },
    {
      "cell_type": "code",
      "execution_count": 12,
      "metadata": {
        "colab": {
          "base_uri": "https://localhost:8080/",
          "height": 206
        },
        "id": "x4qNI5CNfB-u",
        "outputId": "6db6d54d-c51b-45f3-f2ad-4f0f2f64c869"
      },
      "outputs": [
        {
          "data": {
            "text/html": [
              "\n",
              "  <div id=\"df-b8a66811-6094-4671-8762-f376e25a9437\">\n",
              "    <div class=\"colab-df-container\">\n",
              "      <div>\n",
              "<style scoped>\n",
              "    .dataframe tbody tr th:only-of-type {\n",
              "        vertical-align: middle;\n",
              "    }\n",
              "\n",
              "    .dataframe tbody tr th {\n",
              "        vertical-align: top;\n",
              "    }\n",
              "\n",
              "    .dataframe thead th {\n",
              "        text-align: right;\n",
              "    }\n",
              "</style>\n",
              "<table border=\"1\" class=\"dataframe\">\n",
              "  <thead>\n",
              "    <tr style=\"text-align: right;\">\n",
              "      <th></th>\n",
              "      <th>NR_LICITACAO</th>\n",
              "      <th>ANO_LICITACAO</th>\n",
              "      <th>CD_TIPO_MODALIDADE</th>\n",
              "      <th>NR_LOTE</th>\n",
              "      <th>NR_ITEM_ORIGINAL</th>\n",
              "      <th>DS_ITEM</th>\n",
              "      <th>VL_UNITARIO_HOMOLOGADO</th>\n",
              "    </tr>\n",
              "  </thead>\n",
              "  <tbody>\n",
              "    <tr>\n",
              "      <th>0</th>\n",
              "      <td>15.0</td>\n",
              "      <td>2016</td>\n",
              "      <td>PRP</td>\n",
              "      <td>1</td>\n",
              "      <td>2</td>\n",
              "      <td>Pneu 1000/20 liso radial, dianteiro, 16 lonas,...</td>\n",
              "      <td>1430.0</td>\n",
              "    </tr>\n",
              "    <tr>\n",
              "      <th>1</th>\n",
              "      <td>15.0</td>\n",
              "      <td>2016</td>\n",
              "      <td>PRP</td>\n",
              "      <td>1</td>\n",
              "      <td>4</td>\n",
              "      <td>Pneu 12.4x24 garra baixa, 10 lonas</td>\n",
              "      <td>1258.0</td>\n",
              "    </tr>\n",
              "    <tr>\n",
              "      <th>2</th>\n",
              "      <td>15.0</td>\n",
              "      <td>2016</td>\n",
              "      <td>PRP</td>\n",
              "      <td>1</td>\n",
              "      <td>7</td>\n",
              "      <td>Pneu 1400x24 mínimo 12 lonas</td>\n",
              "      <td>1998.0</td>\n",
              "    </tr>\n",
              "    <tr>\n",
              "      <th>3</th>\n",
              "      <td>15.0</td>\n",
              "      <td>2016</td>\n",
              "      <td>PRP</td>\n",
              "      <td>1</td>\n",
              "      <td>8</td>\n",
              "      <td>Pneu 17.5x25 12 lonas, capacidade mínima de ca...</td>\n",
              "      <td>2978.0</td>\n",
              "    </tr>\n",
              "    <tr>\n",
              "      <th>4</th>\n",
              "      <td>15.0</td>\n",
              "      <td>2016</td>\n",
              "      <td>PRP</td>\n",
              "      <td>1</td>\n",
              "      <td>12</td>\n",
              "      <td>Pneu 18.4x30 garra baixa, mínimo 10 lonas</td>\n",
              "      <td>2500.0</td>\n",
              "    </tr>\n",
              "  </tbody>\n",
              "</table>\n",
              "</div>\n",
              "      <button class=\"colab-df-convert\" onclick=\"convertToInteractive('df-b8a66811-6094-4671-8762-f376e25a9437')\"\n",
              "              title=\"Convert this dataframe to an interactive table.\"\n",
              "              style=\"display:none;\">\n",
              "        \n",
              "  <svg xmlns=\"http://www.w3.org/2000/svg\" height=\"24px\"viewBox=\"0 0 24 24\"\n",
              "       width=\"24px\">\n",
              "    <path d=\"M0 0h24v24H0V0z\" fill=\"none\"/>\n",
              "    <path d=\"M18.56 5.44l.94 2.06.94-2.06 2.06-.94-2.06-.94-.94-2.06-.94 2.06-2.06.94zm-11 1L8.5 8.5l.94-2.06 2.06-.94-2.06-.94L8.5 2.5l-.94 2.06-2.06.94zm10 10l.94 2.06.94-2.06 2.06-.94-2.06-.94-.94-2.06-.94 2.06-2.06.94z\"/><path d=\"M17.41 7.96l-1.37-1.37c-.4-.4-.92-.59-1.43-.59-.52 0-1.04.2-1.43.59L10.3 9.45l-7.72 7.72c-.78.78-.78 2.05 0 2.83L4 21.41c.39.39.9.59 1.41.59.51 0 1.02-.2 1.41-.59l7.78-7.78 2.81-2.81c.8-.78.8-2.07 0-2.86zM5.41 20L4 18.59l7.72-7.72 1.47 1.35L5.41 20z\"/>\n",
              "  </svg>\n",
              "      </button>\n",
              "      \n",
              "  <style>\n",
              "    .colab-df-container {\n",
              "      display:flex;\n",
              "      flex-wrap:wrap;\n",
              "      gap: 12px;\n",
              "    }\n",
              "\n",
              "    .colab-df-convert {\n",
              "      background-color: #E8F0FE;\n",
              "      border: none;\n",
              "      border-radius: 50%;\n",
              "      cursor: pointer;\n",
              "      display: none;\n",
              "      fill: #1967D2;\n",
              "      height: 32px;\n",
              "      padding: 0 0 0 0;\n",
              "      width: 32px;\n",
              "    }\n",
              "\n",
              "    .colab-df-convert:hover {\n",
              "      background-color: #E2EBFA;\n",
              "      box-shadow: 0px 1px 2px rgba(60, 64, 67, 0.3), 0px 1px 3px 1px rgba(60, 64, 67, 0.15);\n",
              "      fill: #174EA6;\n",
              "    }\n",
              "\n",
              "    [theme=dark] .colab-df-convert {\n",
              "      background-color: #3B4455;\n",
              "      fill: #D2E3FC;\n",
              "    }\n",
              "\n",
              "    [theme=dark] .colab-df-convert:hover {\n",
              "      background-color: #434B5C;\n",
              "      box-shadow: 0px 1px 3px 1px rgba(0, 0, 0, 0.15);\n",
              "      filter: drop-shadow(0px 1px 2px rgba(0, 0, 0, 0.3));\n",
              "      fill: #FFFFFF;\n",
              "    }\n",
              "  </style>\n",
              "\n",
              "      <script>\n",
              "        const buttonEl =\n",
              "          document.querySelector('#df-b8a66811-6094-4671-8762-f376e25a9437 button.colab-df-convert');\n",
              "        buttonEl.style.display =\n",
              "          google.colab.kernel.accessAllowed ? 'block' : 'none';\n",
              "\n",
              "        async function convertToInteractive(key) {\n",
              "          const element = document.querySelector('#df-b8a66811-6094-4671-8762-f376e25a9437');\n",
              "          const dataTable =\n",
              "            await google.colab.kernel.invokeFunction('convertToInteractive',\n",
              "                                                     [key], {});\n",
              "          if (!dataTable) return;\n",
              "\n",
              "          const docLinkHtml = 'Like what you see? Visit the ' +\n",
              "            '<a target=\"_blank\" href=https://colab.research.google.com/notebooks/data_table.ipynb>data table notebook</a>'\n",
              "            + ' to learn more about interactive tables.';\n",
              "          element.innerHTML = '';\n",
              "          dataTable['output_type'] = 'display_data';\n",
              "          await google.colab.output.renderOutput(dataTable, element);\n",
              "          const docLink = document.createElement('div');\n",
              "          docLink.innerHTML = docLinkHtml;\n",
              "          element.appendChild(docLink);\n",
              "        }\n",
              "      </script>\n",
              "    </div>\n",
              "  </div>\n",
              "  "
            ],
            "text/plain": [
              "   NR_LICITACAO  ANO_LICITACAO CD_TIPO_MODALIDADE  NR_LOTE NR_ITEM_ORIGINAL  \\\n",
              "0          15.0           2016                PRP        1                2   \n",
              "1          15.0           2016                PRP        1                4   \n",
              "2          15.0           2016                PRP        1                7   \n",
              "3          15.0           2016                PRP        1                8   \n",
              "4          15.0           2016                PRP        1               12   \n",
              "\n",
              "                                             DS_ITEM  VL_UNITARIO_HOMOLOGADO  \n",
              "0  Pneu 1000/20 liso radial, dianteiro, 16 lonas,...                  1430.0  \n",
              "1                 Pneu 12.4x24 garra baixa, 10 lonas                  1258.0  \n",
              "2                       Pneu 1400x24 mínimo 12 lonas                  1998.0  \n",
              "3  Pneu 17.5x25 12 lonas, capacidade mínima de ca...                  2978.0  \n",
              "4          Pneu 18.4x30 garra baixa, mínimo 10 lonas                  2500.0  "
            ]
          },
          "execution_count": 12,
          "metadata": {},
          "output_type": "execute_result"
        }
      ],
      "source": [
        "combined_item.head()"
      ]
    },
    {
      "cell_type": "code",
      "execution_count": 13,
      "metadata": {
        "colab": {
          "base_uri": "https://localhost:8080/"
        },
        "id": "GK_V-4GGfVRq",
        "outputId": "3dee5144-389f-496f-872e-d00ba5d16007"
      },
      "outputs": [
        {
          "name": "stdout",
          "output_type": "stream",
          "text": [
            "Shape from licitacao's dataframe: (13362, 5)\n",
            "Shape from item's dataframe: (1616670, 7)\n"
          ]
        }
      ],
      "source": [
        "print(\"Shape from licitacao's dataframe: \" + str(np.shape(combined_licit)))\n",
        "print(\"Shape from item's dataframe: \" + str(np.shape(combined_item)))"
      ]
    },
    {
      "cell_type": "markdown",
      "metadata": {
        "id": "j4AzmT8LdVxC"
      },
      "source": [
        "## Now we have both dataframes filtered. I would like to merge them, but I will not because of memory usage from my computer, which is a limitation for me."
      ]
    },
    {
      "cell_type": "markdown",
      "metadata": {
        "id": "VeGMnWeKgkGx"
      },
      "source": [
        "As the field 'DS_ITEM' doesn't have a pattern of writting, we will just check how many unique values this has:"
      ]
    },
    {
      "cell_type": "code",
      "execution_count": 14,
      "metadata": {
        "colab": {
          "base_uri": "https://localhost:8080/"
        },
        "id": "5eok1xN5gTJI",
        "outputId": "810e8858-73ff-472e-91ed-645c140b13ba"
      },
      "outputs": [
        {
          "data": {
            "text/plain": [
              "958792"
            ]
          },
          "execution_count": 14,
          "metadata": {},
          "output_type": "execute_result"
        }
      ],
      "source": [
        "len(combined_item['DS_ITEM'].unique())"
      ]
    },
    {
      "cell_type": "markdown",
      "metadata": {
        "id": "IsM5_3JnoA_h"
      },
      "source": [
        "But, first, lets check if has some fields that have some pattern, just to have sure:"
      ]
    },
    {
      "cell_type": "code",
      "execution_count": 15,
      "metadata": {
        "colab": {
          "base_uri": "https://localhost:8080/"
        },
        "id": "Zn1CgJ39nMM7",
        "outputId": "6e6e599f-36ba-4513-9078-975b94f471e6"
      },
      "outputs": [
        {
          "data": {
            "text/plain": [
              "SERVIÇO                      1658\n",
              "LIVRO                        1142\n",
              "MATERIAL                      900\n",
              "MANGUEIRA SILICONE 2.1/2\"     827\n",
              "FILTRO                        669\n",
              "PNEU                          599\n",
              "SERVIÇOS GERAIS               567\n",
              "CENOURA                       554\n",
              "BETERRABA                     538\n",
              "VALE TRANSPORTE               526\n",
              "Name: DS_ITEM, dtype: int64"
            ]
          },
          "execution_count": 15,
          "metadata": {},
          "output_type": "execute_result"
        }
      ],
      "source": [
        "combined_item['DS_ITEM'].value_counts()[:10]"
      ]
    },
    {
      "cell_type": "markdown",
      "metadata": {
        "id": "6p31FPg3oGPx"
      },
      "source": [
        "That's it! So we can realize that some fields have some patterns to be written, e some other, does not. \\\n",
        "\n",
        "So we can see that the most bought item is \"Serviço\", the second, \"Livro\", the third, \"Material\" and etc. But let's see that in a histogram. I will plot just the top 30 most common items. But why the top 30? Because we have too much data, and I think with the top 30 we can have a good view of what's happening."
      ]
    },
    {
      "cell_type": "code",
      "execution_count": 16,
      "metadata": {
        "colab": {
          "base_uri": "https://localhost:8080/",
          "height": 369
        },
        "id": "8VtThp3lovJU",
        "outputId": "4bb933a5-3a13-44b4-d943-04236fbc87a8"
      },
      "outputs": [
        {
          "data": {
            "image/png": "[encoded data removed]",
            "text/plain": [
              "<Figure size 720x360 with 1 Axes>"
            ]
          },
          "metadata": {
            "needs_background": "light"
          },
          "output_type": "display_data"
        }
      ],
      "source": [
        "top = 30\n",
        "from matplotlib.pyplot import figure\n",
        "\n",
        "figure(figsize=(10, 5))\n",
        "combined_item['DS_ITEM'].value_counts()[:top].sort_values().plot.barh()\n",
        "plt.xlabel(\"Count\")\n",
        "plt.tight_layout()\n"
      ]
    },
    {
      "cell_type": "markdown",
      "metadata": {
        "id": "BwR5T84Bw05N"
      },
      "source": [
        "Ok, now we have the top 30 items that was bought. We can see that has some car stuffs and some foods. But, mostly, we have more service items. But lets divide this by year: lets see the most common item bought divided by the year"
      ]
    },
    {
      "cell_type": "code",
      "execution_count": 17,
      "metadata": {
        "colab": {
          "base_uri": "https://localhost:8080/",
          "height": 621
        },
        "id": "Q8GByy8HxTY0",
        "outputId": "984209fc-d3c3-4d3a-e9a4-5d012738b909"
      },
      "outputs": [
        {
          "data": {
            "image/png": "[encoded data removed]",
            "text/plain": [
              "<Figure size 720x720 with 4 Axes>"
            ]
          },
          "metadata": {
            "needs_background": "light"
          },
          "output_type": "display_data"
        }
      ],
      "source": [
        "top = 1\n",
        "from matplotlib.pyplot import figure\n",
        "figure(figsize=(10, 10))\n",
        "plot = 1\n",
        "for i in ([2016, 2017, 2018, 2019]):\n",
        "  plt.subplot(2,2,plot)\n",
        "  plt.title(\"Year: \" + str(i))\n",
        "  combined_item['DS_ITEM'][combined_item['ANO_LICITACAO'] == i].value_counts()[:top].sort_values().plot.barh()\n",
        "  plt.xlabel('Count')\n",
        "  plot+=1"
      ]
    },
    {
      "cell_type": "markdown",
      "metadata": {
        "id": "4Q-wfYPC1CVf"
      },
      "source": [
        "Now we can see that services wasn't all the time the most common bought item. We can see that in 2016 it was materials, and in 2019 was Livro the most common. But lets analyse how much was SPENT with these items. Because Serviço can be the most frequent, but not necessarily is the one that was most spent with it. \\\n",
        "Lets analyse first with all the data, with all the 4 years."
      ]
    },
    {
      "cell_type": "code",
      "execution_count": 18,
      "metadata": {
        "id": "CgkeSGA72MgJ"
      },
      "outputs": [],
      "source": [
        "items = combined_item['DS_ITEM'].value_counts()[:10].keys() # save the top items\n",
        "\n",
        "most_freq_items = combined_item[combined_item['DS_ITEM'].isin(items)] #filtering the dataframe only with the top-10 most frequent items"
      ]
    },
    {
      "cell_type": "code",
      "execution_count": 19,
      "metadata": {
        "colab": {
          "base_uri": "https://localhost:8080/",
          "height": 296
        },
        "id": "4ZSxfSFm4WaQ",
        "outputId": "d7b20335-4be5-4b38-b93c-ce7599cc143d"
      },
      "outputs": [
        {
          "data": {
            "text/plain": [
              "Text(0.5, 0, 'Spent (R$)')"
            ]
          },
          "execution_count": 19,
          "metadata": {},
          "output_type": "execute_result"
        },
        {
          "data": {
            "image/png": "[encoded data removed]",
            "text/plain": [
              "<Figure size 432x288 with 1 Axes>"
            ]
          },
          "metadata": {
            "needs_background": "light"
          },
          "output_type": "display_data"
        }
      ],
      "source": [
        "most_freq_items.groupby('DS_ITEM').sum()['VL_UNITARIO_HOMOLOGADO'].plot.barh()\n",
        "plt.xlabel(\"Spent (R$)\")"
      ]
    },
    {
      "cell_type": "markdown",
      "metadata": {
        "id": "NpXTQJjP5Eju"
      },
      "source": [
        "Ok, serviço is, by far, the item that was the most spent with."
      ]
    },
    {
      "cell_type": "markdown",
      "metadata": {
        "id": "pJDnO9QXkkcc"
      },
      "source": [
        "Lets analyse this divider by year. That's it: how much was spent with the most frequent item by year?"
      ]
    },
    {
      "cell_type": "code",
      "execution_count": 28,
      "metadata": {
        "colab": {
          "base_uri": "https://localhost:8080/",
          "height": 1000
        },
        "id": "GqarAceEkr3h",
        "outputId": "65395629-6968-41ed-a134-370c1a7ed564"
      },
      "outputs": [
        {
          "data": {
            "image/png": "[encoded data removed]",
            "text/plain": [
              "<Figure size 1440x2160 with 4 Axes>"
            ]
          },
          "metadata": {
            "needs_background": "light"
          },
          "output_type": "display_data"
        }
      ],
      "source": [
        "top = 1\n",
        "from matplotlib.pyplot import figure\n",
        "figure(figsize=(20, 30))\n",
        "plot = 1\n",
        "for i in ([2016, 2017, 2018, 2019]):\n",
        "  plt.subplot(4,1,plot)\n",
        "  plt.title(\"Year: \" + str(i))\n",
        "  most_freq_items[most_freq_items['ANO_LICITACAO'] == i].groupby('DS_ITEM').sum()['VL_UNITARIO_HOMOLOGADO'].plot.barh()\n",
        "  plt.xlabel(\"Spent (R$)\")  \n",
        "  plot+=1"
      ]
    },
    {
      "cell_type": "markdown",
      "metadata": {
        "id": "FTgSTUrRlfyR"
      },
      "source": [
        "All the years Serviço was the one that was most spent with it. So, even if he wasn't the most frequent in each year, he is the most that was spent with it."
      ]
    },
    {
      "cell_type": "markdown",
      "metadata": {
        "id": "Lta10C9Q6T_w"
      },
      "source": [
        "Let's now check in the combined_licit dataframe what are those services, seeing the columns that specifies what are these licitations."
      ]
    },
    {
      "cell_type": "code",
      "execution_count": 22,
      "metadata": {
        "colab": {
          "base_uri": "https://localhost:8080/",
          "height": 206
        },
        "id": "rtbxYJJB60tc",
        "outputId": "6709527b-cdd5-4852-e222-f06b9a7a494d"
      },
      "outputs": [
        {
          "data": {
            "text/html": [
              "\n",
              "  <div id=\"df-69131c6f-43d4-4ae1-bf33-a3e1566003e7\">\n",
              "    <div class=\"colab-df-container\">\n",
              "      <div>\n",
              "<style scoped>\n",
              "    .dataframe tbody tr th:only-of-type {\n",
              "        vertical-align: middle;\n",
              "    }\n",
              "\n",
              "    .dataframe tbody tr th {\n",
              "        vertical-align: top;\n",
              "    }\n",
              "\n",
              "    .dataframe thead th {\n",
              "        text-align: right;\n",
              "    }\n",
              "</style>\n",
              "<table border=\"1\" class=\"dataframe\">\n",
              "  <thead>\n",
              "    <tr style=\"text-align: right;\">\n",
              "      <th></th>\n",
              "      <th>NR_LICITACAO</th>\n",
              "      <th>ANO_LICITACAO</th>\n",
              "      <th>CD_TIPO_MODALIDADE</th>\n",
              "      <th>NR_LOTE</th>\n",
              "      <th>NR_ITEM_ORIGINAL</th>\n",
              "      <th>DS_ITEM</th>\n",
              "      <th>VL_UNITARIO_HOMOLOGADO</th>\n",
              "    </tr>\n",
              "  </thead>\n",
              "  <tbody>\n",
              "    <tr>\n",
              "      <th>15793</th>\n",
              "      <td>22.0</td>\n",
              "      <td>2016</td>\n",
              "      <td>PRP</td>\n",
              "      <td>1</td>\n",
              "      <td>6124</td>\n",
              "      <td>SERVIÇO</td>\n",
              "      <td>34711.41</td>\n",
              "    </tr>\n",
              "    <tr>\n",
              "      <th>33406</th>\n",
              "      <td>22.0</td>\n",
              "      <td>2016</td>\n",
              "      <td>PRP</td>\n",
              "      <td>1</td>\n",
              "      <td>6123</td>\n",
              "      <td>SERVIÇO</td>\n",
              "      <td>28260.30</td>\n",
              "    </tr>\n",
              "    <tr>\n",
              "      <th>37221</th>\n",
              "      <td>25.0</td>\n",
              "      <td>2016</td>\n",
              "      <td>PRP</td>\n",
              "      <td>1</td>\n",
              "      <td>6136</td>\n",
              "      <td>SERVIÇO</td>\n",
              "      <td>48600.00</td>\n",
              "    </tr>\n",
              "    <tr>\n",
              "      <th>40543</th>\n",
              "      <td>29.0</td>\n",
              "      <td>2016</td>\n",
              "      <td>PRP</td>\n",
              "      <td>1</td>\n",
              "      <td>19880</td>\n",
              "      <td>SERVIÇO</td>\n",
              "      <td>15500.00</td>\n",
              "    </tr>\n",
              "    <tr>\n",
              "      <th>72282</th>\n",
              "      <td>4.0</td>\n",
              "      <td>2016</td>\n",
              "      <td>TMP</td>\n",
              "      <td>1</td>\n",
              "      <td>5938</td>\n",
              "      <td>SERVIÇO</td>\n",
              "      <td>12830.95</td>\n",
              "    </tr>\n",
              "  </tbody>\n",
              "</table>\n",
              "</div>\n",
              "      <button class=\"colab-df-convert\" onclick=\"convertToInteractive('df-69131c6f-43d4-4ae1-bf33-a3e1566003e7')\"\n",
              "              title=\"Convert this dataframe to an interactive table.\"\n",
              "              style=\"display:none;\">\n",
              "        \n",
              "  <svg xmlns=\"http://www.w3.org/2000/svg\" height=\"24px\"viewBox=\"0 0 24 24\"\n",
              "       width=\"24px\">\n",
              "    <path d=\"M0 0h24v24H0V0z\" fill=\"none\"/>\n",
              "    <path d=\"M18.56 5.44l.94 2.06.94-2.06 2.06-.94-2.06-.94-.94-2.06-.94 2.06-2.06.94zm-11 1L8.5 8.5l.94-2.06 2.06-.94-2.06-.94L8.5 2.5l-.94 2.06-2.06.94zm10 10l.94 2.06.94-2.06 2.06-.94-2.06-.94-.94-2.06-.94 2.06-2.06.94z\"/><path d=\"M17.41 7.96l-1.37-1.37c-.4-.4-.92-.59-1.43-.59-.52 0-1.04.2-1.43.59L10.3 9.45l-7.72 7.72c-.78.78-.78 2.05 0 2.83L4 21.41c.39.39.9.59 1.41.59.51 0 1.02-.2 1.41-.59l7.78-7.78 2.81-2.81c.8-.78.8-2.07 0-2.86zM5.41 20L4 18.59l7.72-7.72 1.47 1.35L5.41 20z\"/>\n",
              "  </svg>\n",
              "      </button>\n",
              "      \n",
              "  <style>\n",
              "    .colab-df-container {\n",
              "      display:flex;\n",
              "      flex-wrap:wrap;\n",
              "      gap: 12px;\n",
              "    }\n",
              "\n",
              "    .colab-df-convert {\n",
              "      background-color: #E8F0FE;\n",
              "      border: none;\n",
              "      border-radius: 50%;\n",
              "      cursor: pointer;\n",
              "      display: none;\n",
              "      fill: #1967D2;\n",
              "      height: 32px;\n",
              "      padding: 0 0 0 0;\n",
              "      width: 32px;\n",
              "    }\n",
              "\n",
              "    .colab-df-convert:hover {\n",
              "      background-color: #E2EBFA;\n",
              "      box-shadow: 0px 1px 2px rgba(60, 64, 67, 0.3), 0px 1px 3px 1px rgba(60, 64, 67, 0.15);\n",
              "      fill: #174EA6;\n",
              "    }\n",
              "\n",
              "    [theme=dark] .colab-df-convert {\n",
              "      background-color: #3B4455;\n",
              "      fill: #D2E3FC;\n",
              "    }\n",
              "\n",
              "    [theme=dark] .colab-df-convert:hover {\n",
              "      background-color: #434B5C;\n",
              "      box-shadow: 0px 1px 3px 1px rgba(0, 0, 0, 0.15);\n",
              "      filter: drop-shadow(0px 1px 2px rgba(0, 0, 0, 0.3));\n",
              "      fill: #FFFFFF;\n",
              "    }\n",
              "  </style>\n",
              "\n",
              "      <script>\n",
              "        const buttonEl =\n",
              "          document.querySelector('#df-69131c6f-43d4-4ae1-bf33-a3e1566003e7 button.colab-df-convert');\n",
              "        buttonEl.style.display =\n",
              "          google.colab.kernel.accessAllowed ? 'block' : 'none';\n",
              "\n",
              "        async function convertToInteractive(key) {\n",
              "          const element = document.querySelector('#df-69131c6f-43d4-4ae1-bf33-a3e1566003e7');\n",
              "          const dataTable =\n",
              "            await google.colab.kernel.invokeFunction('convertToInteractive',\n",
              "                                                     [key], {});\n",
              "          if (!dataTable) return;\n",
              "\n",
              "          const docLinkHtml = 'Like what you see? Visit the ' +\n",
              "            '<a target=\"_blank\" href=https://colab.research.google.com/notebooks/data_table.ipynb>data table notebook</a>'\n",
              "            + ' to learn more about interactive tables.';\n",
              "          element.innerHTML = '';\n",
              "          dataTable['output_type'] = 'display_data';\n",
              "          await google.colab.output.renderOutput(dataTable, element);\n",
              "          const docLink = document.createElement('div');\n",
              "          docLink.innerHTML = docLinkHtml;\n",
              "          element.appendChild(docLink);\n",
              "        }\n",
              "      </script>\n",
              "    </div>\n",
              "  </div>\n",
              "  "
            ],
            "text/plain": [
              "       NR_LICITACAO  ANO_LICITACAO CD_TIPO_MODALIDADE  NR_LOTE  \\\n",
              "15793          22.0           2016                PRP        1   \n",
              "33406          22.0           2016                PRP        1   \n",
              "37221          25.0           2016                PRP        1   \n",
              "40543          29.0           2016                PRP        1   \n",
              "72282           4.0           2016                TMP        1   \n",
              "\n",
              "      NR_ITEM_ORIGINAL  DS_ITEM  VL_UNITARIO_HOMOLOGADO  \n",
              "15793             6124  SERVIÇO                34711.41  \n",
              "33406             6123  SERVIÇO                28260.30  \n",
              "37221             6136  SERVIÇO                48600.00  \n",
              "40543            19880  SERVIÇO                15500.00  \n",
              "72282             5938  SERVIÇO                12830.95  "
            ]
          },
          "execution_count": 22,
          "metadata": {},
          "output_type": "execute_result"
        }
      ],
      "source": [
        "service_items = most_freq_items[most_freq_items['DS_ITEM'] == 'SERVIÇO'] # filtering only the serviços values\n",
        "service_items.head()"
      ]
    },
    {
      "cell_type": "markdown",
      "metadata": {
        "id": "X9VusPDNoiS5"
      },
      "source": [
        "here I am filtering in combined_licit only those fields that match with 'NR_LICITACAO',\t'ANO_LICITACAO' and\t'CD_TIPO_MODALIDADE' from service_items\n"
      ]
    },
    {
      "cell_type": "code",
      "execution_count": 30,
      "metadata": {
        "colab": {
          "base_uri": "https://localhost:8080/",
          "height": 337
        },
        "id": "MIfsOTW96a8p",
        "outputId": "5f341985-939d-4026-811c-b9f45d725b21"
      },
      "outputs": [
        {
          "data": {
            "text/html": [
              "\n",
              "  <div id=\"df-4223afa9-71cc-44fe-a304-bff7ff7d88b0\">\n",
              "    <div class=\"colab-df-container\">\n",
              "      <div>\n",
              "<style scoped>\n",
              "    .dataframe tbody tr th:only-of-type {\n",
              "        vertical-align: middle;\n",
              "    }\n",
              "\n",
              "    .dataframe tbody tr th {\n",
              "        vertical-align: top;\n",
              "    }\n",
              "\n",
              "    .dataframe thead th {\n",
              "        text-align: right;\n",
              "    }\n",
              "</style>\n",
              "<table border=\"1\" class=\"dataframe\">\n",
              "  <thead>\n",
              "    <tr style=\"text-align: right;\">\n",
              "      <th></th>\n",
              "      <th>NR_LICITACAO</th>\n",
              "      <th>ANO_LICITACAO</th>\n",
              "      <th>CD_TIPO_MODALIDADE</th>\n",
              "      <th>NR_LOTE</th>\n",
              "      <th>NR_ITEM_ORIGINAL</th>\n",
              "      <th>DS_ITEM</th>\n",
              "      <th>VL_UNITARIO_HOMOLOGADO</th>\n",
              "      <th>DS_OBJETO</th>\n",
              "      <th>TP_OBJETO</th>\n",
              "    </tr>\n",
              "  </thead>\n",
              "  <tbody>\n",
              "    <tr>\n",
              "      <th>0</th>\n",
              "      <td>22.0</td>\n",
              "      <td>2016</td>\n",
              "      <td>PRP</td>\n",
              "      <td>1</td>\n",
              "      <td>6124</td>\n",
              "      <td>SERVIÇO</td>\n",
              "      <td>34711.41</td>\n",
              "      <td>Aquisição de 60 t (sessenta toneladas) de Clor...</td>\n",
              "      <td>COM</td>\n",
              "    </tr>\n",
              "    <tr>\n",
              "      <th>1</th>\n",
              "      <td>22.0</td>\n",
              "      <td>2016</td>\n",
              "      <td>PRP</td>\n",
              "      <td>1</td>\n",
              "      <td>6123</td>\n",
              "      <td>SERVIÇO</td>\n",
              "      <td>28260.30</td>\n",
              "      <td>Aquisição de 60 t (sessenta toneladas) de Clor...</td>\n",
              "      <td>COM</td>\n",
              "    </tr>\n",
              "    <tr>\n",
              "      <th>2</th>\n",
              "      <td>22.0</td>\n",
              "      <td>2016</td>\n",
              "      <td>PRP</td>\n",
              "      <td>1</td>\n",
              "      <td>6125</td>\n",
              "      <td>SERVIÇO</td>\n",
              "      <td>NaN</td>\n",
              "      <td>Aquisição de 60 t (sessenta toneladas) de Clor...</td>\n",
              "      <td>COM</td>\n",
              "    </tr>\n",
              "    <tr>\n",
              "      <th>3</th>\n",
              "      <td>25.0</td>\n",
              "      <td>2016</td>\n",
              "      <td>PRP</td>\n",
              "      <td>1</td>\n",
              "      <td>6136</td>\n",
              "      <td>SERVIÇO</td>\n",
              "      <td>48600.00</td>\n",
              "      <td>Aquisição de 90 t (noventa toneladas) de Cloro...</td>\n",
              "      <td>COM</td>\n",
              "    </tr>\n",
              "    <tr>\n",
              "      <th>4</th>\n",
              "      <td>29.0</td>\n",
              "      <td>2016</td>\n",
              "      <td>PRP</td>\n",
              "      <td>1</td>\n",
              "      <td>19880</td>\n",
              "      <td>SERVIÇO</td>\n",
              "      <td>15500.00</td>\n",
              "      <td>Aquisição de lacres antifraude para extremidad...</td>\n",
              "      <td>COM</td>\n",
              "    </tr>\n",
              "  </tbody>\n",
              "</table>\n",
              "</div>\n",
              "      <button class=\"colab-df-convert\" onclick=\"convertToInteractive('df-4223afa9-71cc-44fe-a304-bff7ff7d88b0')\"\n",
              "              title=\"Convert this dataframe to an interactive table.\"\n",
              "              style=\"display:none;\">\n",
              "        \n",
              "  <svg xmlns=\"http://www.w3.org/2000/svg\" height=\"24px\"viewBox=\"0 0 24 24\"\n",
              "       width=\"24px\">\n",
              "    <path d=\"M0 0h24v24H0V0z\" fill=\"none\"/>\n",
              "    <path d=\"M18.56 5.44l.94 2.06.94-2.06 2.06-.94-2.06-.94-.94-2.06-.94 2.06-2.06.94zm-11 1L8.5 8.5l.94-2.06 2.06-.94-2.06-.94L8.5 2.5l-.94 2.06-2.06.94zm10 10l.94 2.06.94-2.06 2.06-.94-2.06-.94-.94-2.06-.94 2.06-2.06.94z\"/><path d=\"M17.41 7.96l-1.37-1.37c-.4-.4-.92-.59-1.43-.59-.52 0-1.04.2-1.43.59L10.3 9.45l-7.72 7.72c-.78.78-.78 2.05 0 2.83L4 21.41c.39.39.9.59 1.41.59.51 0 1.02-.2 1.41-.59l7.78-7.78 2.81-2.81c.8-.78.8-2.07 0-2.86zM5.41 20L4 18.59l7.72-7.72 1.47 1.35L5.41 20z\"/>\n",
              "  </svg>\n",
              "      </button>\n",
              "      \n",
              "  <style>\n",
              "    .colab-df-container {\n",
              "      display:flex;\n",
              "      flex-wrap:wrap;\n",
              "      gap: 12px;\n",
              "    }\n",
              "\n",
              "    .colab-df-convert {\n",
              "      background-color: #E8F0FE;\n",
              "      border: none;\n",
              "      border-radius: 50%;\n",
              "      cursor: pointer;\n",
              "      display: none;\n",
              "      fill: #1967D2;\n",
              "      height: 32px;\n",
              "      padding: 0 0 0 0;\n",
              "      width: 32px;\n",
              "    }\n",
              "\n",
              "    .colab-df-convert:hover {\n",
              "      background-color: #E2EBFA;\n",
              "      box-shadow: 0px 1px 2px rgba(60, 64, 67, 0.3), 0px 1px 3px 1px rgba(60, 64, 67, 0.15);\n",
              "      fill: #174EA6;\n",
              "    }\n",
              "\n",
              "    [theme=dark] .colab-df-convert {\n",
              "      background-color: #3B4455;\n",
              "      fill: #D2E3FC;\n",
              "    }\n",
              "\n",
              "    [theme=dark] .colab-df-convert:hover {\n",
              "      background-color: #434B5C;\n",
              "      box-shadow: 0px 1px 3px 1px rgba(0, 0, 0, 0.15);\n",
              "      filter: drop-shadow(0px 1px 2px rgba(0, 0, 0, 0.3));\n",
              "      fill: #FFFFFF;\n",
              "    }\n",
              "  </style>\n",
              "\n",
              "      <script>\n",
              "        const buttonEl =\n",
              "          document.querySelector('#df-4223afa9-71cc-44fe-a304-bff7ff7d88b0 button.colab-df-convert');\n",
              "        buttonEl.style.display =\n",
              "          google.colab.kernel.accessAllowed ? 'block' : 'none';\n",
              "\n",
              "        async function convertToInteractive(key) {\n",
              "          const element = document.querySelector('#df-4223afa9-71cc-44fe-a304-bff7ff7d88b0');\n",
              "          const dataTable =\n",
              "            await google.colab.kernel.invokeFunction('convertToInteractive',\n",
              "                                                     [key], {});\n",
              "          if (!dataTable) return;\n",
              "\n",
              "          const docLinkHtml = 'Like what you see? Visit the ' +\n",
              "            '<a target=\"_blank\" href=https://colab.research.google.com/notebooks/data_table.ipynb>data table notebook</a>'\n",
              "            + ' to learn more about interactive tables.';\n",
              "          element.innerHTML = '';\n",
              "          dataTable['output_type'] = 'display_data';\n",
              "          await google.colab.output.renderOutput(dataTable, element);\n",
              "          const docLink = document.createElement('div');\n",
              "          docLink.innerHTML = docLinkHtml;\n",
              "          element.appendChild(docLink);\n",
              "        }\n",
              "      </script>\n",
              "    </div>\n",
              "  </div>\n",
              "  "
            ],
            "text/plain": [
              "   NR_LICITACAO  ANO_LICITACAO CD_TIPO_MODALIDADE  NR_LOTE NR_ITEM_ORIGINAL  \\\n",
              "0          22.0           2016                PRP        1             6124   \n",
              "1          22.0           2016                PRP        1             6123   \n",
              "2          22.0           2016                PRP        1             6125   \n",
              "3          25.0           2016                PRP        1             6136   \n",
              "4          29.0           2016                PRP        1            19880   \n",
              "\n",
              "   DS_ITEM  VL_UNITARIO_HOMOLOGADO  \\\n",
              "0  SERVIÇO                34711.41   \n",
              "1  SERVIÇO                28260.30   \n",
              "2  SERVIÇO                     NaN   \n",
              "3  SERVIÇO                48600.00   \n",
              "4  SERVIÇO                15500.00   \n",
              "\n",
              "                                           DS_OBJETO TP_OBJETO  \n",
              "0  Aquisição de 60 t (sessenta toneladas) de Clor...       COM  \n",
              "1  Aquisição de 60 t (sessenta toneladas) de Clor...       COM  \n",
              "2  Aquisição de 60 t (sessenta toneladas) de Clor...       COM  \n",
              "3  Aquisição de 90 t (noventa toneladas) de Cloro...       COM  \n",
              "4  Aquisição de lacres antifraude para extremidad...       COM  "
            ]
          },
          "execution_count": 30,
          "metadata": {},
          "output_type": "execute_result"
        }
      ],
      "source": [
        "merge_servico_licit = pd.merge(service_items, combined_licit, on=['NR_LICITACAO',\t'ANO_LICITACAO',\t'CD_TIPO_MODALIDADE'], how='inner')\n",
        "\n",
        "merge_servico_licit.head()\n"
      ]
    },
    {
      "cell_type": "code",
      "execution_count": 36,
      "metadata": {
        "colab": {
          "base_uri": "https://localhost:8080/"
        },
        "id": "goxTESAvm4p0",
        "outputId": "246169e1-ee2d-4dea-b175-98130b9700a7"
      },
      "outputs": [
        {
          "data": {
            "text/plain": [
              "CONTRATAÇÃO DE HORAS MECÂNICAS PARA MANUTENÇÃO, RECUPERAÇÃO, AVALIAÇÃO, IDENTIFICAÇÃO E SUBSTITUIÇÃO DE PEÇAS NOS VEÍCULOS DA SMOV, SME, SMUTS E SMADR. O  PROCESSO LICITATÓRIO É EXCLUSIVO ÀS EMPRESAS  BENEFICIÁRIAS DA LC Nº 123/2006.                                                                                                      45\n",
              "Aquisição de alimentos não perecíveis.                                                                                                                                                                                                                                                                                                         45\n",
              "Aquisição de equipamento visando atender as necessidades das Salas multifuncionais das escolas da rede municipal, para atendimento de crianças com necessidades educacionais especiais, por dispensa de licitação, tendo em vista a empresa possuir exclusividade dos produtos oferecidos, para Secretaria Municipal de Educação e Cultura.    29\n",
              "AQUISIÇÃO EMERGENCIAL DE 9.000M³ DE OXIGÊNIO LÍQUIDO PARA O HOSPITAL MUNICIPAL DE SANTO ANTÔNIO DA PATRULHA.                                                                                                                                                                                                                                   24\n",
              "AQUISIÇÃO DE VEICULO AMBULANCIA TIPO A, ZERO KM DESTINADO A MANUTENÇÃO DAS ATIVIDADES DO CENTRO MUNICIPAL DE SAÚDE, PROPOSTA Nº 4305871712181747950                                                                                                                                                                                            24\n",
              "                                                                                                                                                                                                                                                                                                                                               ..\n",
              "Aquisição para vale transporte cerro grande do sul/ eldorado do sul- linha R Ipê x R Itai.                                                                                                                                                                                                                                                      1\n",
              "Aquisição de passagens para o transporte  escolar destinados a alunos do Novo Mais Educação da Escola Municipal de Ensino Fundamental Eva Alves Pereira.                                                                                                                                                                                        1\n",
              "vale transporte sem seguro linha 278, Barra do Ribeiro/ rádio itaí eldorado do sul                                                                                                                                                                                                                                                              1\n",
              "Materiais de consumo para conserto de Respiradores Servo, marca Maquet.                                                                                                                                                                                                                                                                         1\n",
              "Equipamento de processamento TIC - computadores                                                                                                                                                                                                                                                                                                 1\n",
              "Name: DS_OBJETO, Length: 552, dtype: int64"
            ]
          },
          "execution_count": 36,
          "metadata": {},
          "output_type": "execute_result"
        }
      ],
      "source": [
        "merge_servico_licit['DS_OBJETO'].value_counts()"
      ]
    },
    {
      "cell_type": "markdown",
      "metadata": {
        "id": "lUpETvN8pjpB"
      },
      "source": [
        "Here we can see what are these \"Serviço\" items. Mostly, are related to hiring hours in auto mechanics, or about a aquisition of some stuffs (aliments, equipaments, vehicles and etc). \\\n",
        "\n",
        "Here we can conclude some patterns observed: Serviço is, in the four years, the most frequent bought item, but not every year, in 2016 was material and in 2019 was livro. But, if we plot the histogram to analyse how much was spent with the items, serviço in all the years was the item that was most spent with it. So he forms part of most of the state's annual budget. \\\n",
        "These services have to do with spending on car maintenance, purchases of some products, contracts with companies, etc.\n"
      ]
    },
    {
      "cell_type": "markdown",
      "metadata": {
        "id": "CP1x9Xj_v8FM"
      },
      "source": [
        "Lets analyze now how much percent the Serviço represents from the state's budget. I expect that can be a high percentage. \n"
      ]
    },
    {
      "cell_type": "code",
      "execution_count": 48,
      "metadata": {
        "colab": {
          "base_uri": "https://localhost:8080/"
        },
        "id": "W7RJfKUBphdN",
        "outputId": "c452aa66-4af2-4cde-9014-c6f7648b1136"
      },
      "outputs": [
        {
          "name": "stdout",
          "output_type": "stream",
          "text": [
            "In 4 years, the state spent with licitations R$ 3618477301.0\n",
            " -------------------------------------------------------- \n",
            "R$ 40359705.0 was with serviço item\n",
            " -------------------------------------------------------- \n",
            "Serviço represents 1.0% of the total budget spent\n"
          ]
        }
      ],
      "source": [
        "servico_sum = combined_item['VL_UNITARIO_HOMOLOGADO'][combined_item['DS_ITEM'] == 'SERVIÇO'].sum()\n",
        "total_sum = combined_item['VL_UNITARIO_HOMOLOGADO'].sum()\n",
        "\n",
        "pct_servico = (servico_sum/total_sum)*100\n",
        "print('In 4 years, the state spent with licitations R$ ' + str(np.round(total_sum)))\n",
        "print(' -------------------------------------------------------- ')\n",
        "print('R$ ' + str(np.round(servico_sum)) + ' was with serviço item')\n",
        "print(' -------------------------------------------------------- ')\n",
        "print('Serviço represents ' + str(np.round(pct_servico)) + '% of the total budget spent')"
      ]
    },
    {
      "cell_type": "markdown",
      "metadata": {
        "id": "AG4khLhD0mZ6"
      },
      "source": [
        "The result is not what I was expecting, but, after think a little, makes sense. \\\n",
        "So we can see here that, even if Serviço is the item that was most spent with it, it represents only 1% of the total budget spent, because we have too many items that was bought by the public organs that represent even less than 1%, obviously.d"
      ]
    }
  ],
  "metadata": {
    "colab": {
      "collapsed_sections": [],
      "machine_shape": "hm",
      "name": "analisys.ipynb",
      "provenance": []
    },
    "interpreter": {
      "hash": "a4ebc76ad9d7e6de8f1f27745eeb2e994a5682238ecd675a73f317097a250eb4"
    },
    "kernelspec": {
      "display_name": "Python 3.10.2 ('venv': venv)",
      "language": "python",
      "name": "python3"
    },
    "language_info": {
      "codemirror_mode": {
        "name": "ipython",
        "version": 3
      },
      "file_extension": ".py",
      "mimetype": "text/x-python",
      "name": "python",
      "nbconvert_exporter": "python",
      "pygments_lexer": "ipython3",
      "version": "3.10.2"
    },
    "orig_nbformat": 4
  },
  "nbformat": 4,
  "nbformat_minor": 0
}
