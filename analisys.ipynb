{
  "cells": [
    {
      "cell_type": "markdown",
      "metadata": {
        "id": "oFQeaeDn0nR_"
      },
      "source": [
        "Importing all the packages that will be necessary"
      ]
    },
    {
      "cell_type": "code",
      "execution_count": null,
      "metadata": {
        "id": "ryYGnHgm0nSC"
      },
      "outputs": [],
      "source": [
        "import pandas as pd\n",
        "import numpy as np\n",
        "import matplotlib.pyplot as plt\n",
        "import seaborn as sns\n",
        "import os\n",
        "import glob\n"
      ]
    },
    {
      "cell_type": "markdown",
      "metadata": {
        "id": "oEzkOjb-0nSD"
      },
      "source": [
        "Combining all the item's csv files in one dataframe"
      ]
    },
    {
      "cell_type": "code",
      "execution_count": null,
      "metadata": {
        "id": "fNfgntGR0nSE",
        "outputId": "8783c762-22f1-4f18-aceb-ce5364b71a7c"
      },
      "outputs": [
        {
          "name": "stderr",
          "output_type": "stream",
          "text": [
            "C:\\Users\\V4\\AppData\\Local\\Temp\\ipykernel_17140\\1882663710.py:6: DtypeWarning: Columns (19,27,28) have mixed types. Specify dtype option on import or set low_memory=False.\n",
            "  combined_item = pd.concat([pd.read_csv(f) for f in all_filenames_item ]) #combine all files in the list\n",
            "C:\\Users\\V4\\AppData\\Local\\Temp\\ipykernel_17140\\1882663710.py:6: DtypeWarning: Columns (26,27,28) have mixed types. Specify dtype option on import or set low_memory=False.\n",
            "  combined_item = pd.concat([pd.read_csv(f) for f in all_filenames_item ]) #combine all files in the list\n",
            "C:\\Users\\V4\\AppData\\Local\\Temp\\ipykernel_17140\\1882663710.py:6: DtypeWarning: Columns (8,19,25,26,27,28) have mixed types. Specify dtype option on import or set low_memory=False.\n",
            "  combined_item = pd.concat([pd.read_csv(f) for f in all_filenames_item ]) #combine all files in the list\n",
            "C:\\Users\\V4\\AppData\\Local\\Temp\\ipykernel_17140\\1882663710.py:6: DtypeWarning: Columns (8,25,26,27) have mixed types. Specify dtype option on import or set low_memory=False.\n",
            "  combined_item = pd.concat([pd.read_csv(f) for f in all_filenames_item ]) #combine all files in the list\n"
          ]
        }
      ],
      "source": [
        "owd = os.getcwd() #saving in a variable the original directory\n",
        "\n",
        "os.chdir(\"data\\item\") #accessing the directory from the item's files\n",
        "extension = 'csv' #extension of the files\n",
        "all_filenames_item = [i for i in glob.glob('*.{}'.format(extension))] #transforming in a list all the filenames from the directory\n",
        "combined_item = pd.concat([pd.read_csv(f) for f in all_filenames_item ]) #combine all files in the list\n",
        "\n"
      ]
    },
    {
      "cell_type": "markdown",
      "metadata": {
        "id": "0UBaXNGk0nSF"
      },
      "source": [
        "Combining all the licitacao's csv files in one dataframe"
      ]
    },
    {
      "cell_type": "code",
      "execution_count": null,
      "metadata": {
        "id": "lYOxb5kx0nSF",
        "outputId": "6a31cd48-05bd-4cc7-bd0d-0f460a109864"
      },
      "outputs": [
        {
          "name": "stderr",
          "output_type": "stream",
          "text": [
            "C:\\Users\\V4\\AppData\\Local\\Temp\\ipykernel_17140\\1473495076.py:5: DtypeWarning: Columns (52,54) have mixed types. Specify dtype option on import or set low_memory=False.\n",
            "  combined_licit = pd.concat([pd.read_csv(f) for f in all_filenames_licit ]) #combine all files in the list\n",
            "C:\\Users\\V4\\AppData\\Local\\Temp\\ipykernel_17140\\1473495076.py:5: DtypeWarning: Columns (52,53,54,55) have mixed types. Specify dtype option on import or set low_memory=False.\n",
            "  combined_licit = pd.concat([pd.read_csv(f) for f in all_filenames_licit ]) #combine all files in the list\n",
            "C:\\Users\\V4\\AppData\\Local\\Temp\\ipykernel_17140\\1473495076.py:5: DtypeWarning: Columns (53,54) have mixed types. Specify dtype option on import or set low_memory=False.\n",
            "  combined_licit = pd.concat([pd.read_csv(f) for f in all_filenames_licit ]) #combine all files in the list\n"
          ]
        }
      ],
      "source": [
        "os.chdir(owd) #returning to the original directory\n",
        "os.chdir(\"data\\licitacao\") #accessing the directory from the item's files\n",
        "extension = 'csv' #extension of the files\n",
        "all_filenames_licit = [i for i in glob.glob('*.{}'.format(extension))] #transforming in a list all the filenames from the directory\n",
        "combined_licit = pd.concat([pd.read_csv(f) for f in all_filenames_licit ]) #combine all files in the list\n",
        "\n"
      ]
    },
    {
      "cell_type": "code",
      "execution_count": null,
      "metadata": {
        "id": "s5wK9Yt00nSG",
        "outputId": "1a96fc72-dd8c-4dc8-aff3-e1b4b07278aa"
      },
      "outputs": [
        {
          "data": {
            "text/html": [
              "<div>\n",
              "<style scoped>\n",
              "    .dataframe tbody tr th:only-of-type {\n",
              "        vertical-align: middle;\n",
              "    }\n",
              "\n",
              "    .dataframe tbody tr th {\n",
              "        vertical-align: top;\n",
              "    }\n",
              "\n",
              "    .dataframe thead th {\n",
              "        text-align: right;\n",
              "    }\n",
              "</style>\n",
              "<table border=\"1\" class=\"dataframe\">\n",
              "  <thead>\n",
              "    <tr style=\"text-align: right;\">\n",
              "      <th></th>\n",
              "      <th>CD_ORGAO</th>\n",
              "      <th>NM_ORGAO</th>\n",
              "      <th>NR_LICITACAO</th>\n",
              "      <th>ANO_LICITACAO</th>\n",
              "      <th>CD_TIPO_MODALIDADE</th>\n",
              "      <th>NR_COMISSAO</th>\n",
              "      <th>ANO_COMISSAO</th>\n",
              "      <th>TP_COMISSAO</th>\n",
              "      <th>NR_PROCESSO</th>\n",
              "      <th>ANO_PROCESSO</th>\n",
              "      <th>...</th>\n",
              "      <th>TP_DOCUMENTO_FORNECEDOR</th>\n",
              "      <th>NR_DOCUMENTO_FORNECEDOR</th>\n",
              "      <th>TP_DOCUMENTO_VENCEDOR</th>\n",
              "      <th>NR_DOCUMENTO_VENCEDOR</th>\n",
              "      <th>VL_HOMOLOGADO</th>\n",
              "      <th>BL_GERA_DESPESA</th>\n",
              "      <th>DS_OBSERVACAO</th>\n",
              "      <th>PC_TX_ESTIMADA</th>\n",
              "      <th>PC_TX_HOMOLOGADA</th>\n",
              "      <th>BL_COMPARTILHADA</th>\n",
              "    </tr>\n",
              "  </thead>\n",
              "  <tbody>\n",
              "    <tr>\n",
              "      <th>0</th>\n",
              "      <td>84100</td>\n",
              "      <td>PM DE ESPERANÇA DO SUL</td>\n",
              "      <td>1.0</td>\n",
              "      <td>2016</td>\n",
              "      <td>CNV</td>\n",
              "      <td>12.0</td>\n",
              "      <td>2016.0</td>\n",
              "      <td>P</td>\n",
              "      <td>001</td>\n",
              "      <td>2016.0</td>\n",
              "      <td>...</td>\n",
              "      <td>NaN</td>\n",
              "      <td>NaN</td>\n",
              "      <td>J</td>\n",
              "      <td>6233397000148.0</td>\n",
              "      <td>6420.0</td>\n",
              "      <td>S</td>\n",
              "      <td>NaN</td>\n",
              "      <td>NaN</td>\n",
              "      <td>NaN</td>\n",
              "      <td>N</td>\n",
              "    </tr>\n",
              "    <tr>\n",
              "      <th>1</th>\n",
              "      <td>84100</td>\n",
              "      <td>PM DE ESPERANÇA DO SUL</td>\n",
              "      <td>4.0</td>\n",
              "      <td>2016</td>\n",
              "      <td>CNV</td>\n",
              "      <td>12.0</td>\n",
              "      <td>2016.0</td>\n",
              "      <td>P</td>\n",
              "      <td>003</td>\n",
              "      <td>2016.0</td>\n",
              "      <td>...</td>\n",
              "      <td>NaN</td>\n",
              "      <td>NaN</td>\n",
              "      <td>NaN</td>\n",
              "      <td>NaN</td>\n",
              "      <td>NaN</td>\n",
              "      <td>S</td>\n",
              "      <td>NaN</td>\n",
              "      <td>NaN</td>\n",
              "      <td>NaN</td>\n",
              "      <td>N</td>\n",
              "    </tr>\n",
              "    <tr>\n",
              "      <th>2</th>\n",
              "      <td>82701</td>\n",
              "      <td>CM DE XANGRI-LÁ</td>\n",
              "      <td>1.0</td>\n",
              "      <td>2016</td>\n",
              "      <td>PRP</td>\n",
              "      <td>12.0</td>\n",
              "      <td>2016.0</td>\n",
              "      <td>G</td>\n",
              "      <td>01</td>\n",
              "      <td>2016.0</td>\n",
              "      <td>...</td>\n",
              "      <td>NaN</td>\n",
              "      <td>NaN</td>\n",
              "      <td>NaN</td>\n",
              "      <td>NaN</td>\n",
              "      <td>NaN</td>\n",
              "      <td>S</td>\n",
              "      <td>NaN</td>\n",
              "      <td>NaN</td>\n",
              "      <td>NaN</td>\n",
              "      <td>N</td>\n",
              "    </tr>\n",
              "    <tr>\n",
              "      <th>3</th>\n",
              "      <td>84100</td>\n",
              "      <td>PM DE ESPERANÇA DO SUL</td>\n",
              "      <td>6.0</td>\n",
              "      <td>2016</td>\n",
              "      <td>CNV</td>\n",
              "      <td>12.0</td>\n",
              "      <td>2016.0</td>\n",
              "      <td>P</td>\n",
              "      <td>005</td>\n",
              "      <td>2016.0</td>\n",
              "      <td>...</td>\n",
              "      <td>NaN</td>\n",
              "      <td>NaN</td>\n",
              "      <td>NaN</td>\n",
              "      <td>NaN</td>\n",
              "      <td>NaN</td>\n",
              "      <td>S</td>\n",
              "      <td>NaN</td>\n",
              "      <td>NaN</td>\n",
              "      <td>NaN</td>\n",
              "      <td>N</td>\n",
              "    </tr>\n",
              "    <tr>\n",
              "      <th>4</th>\n",
              "      <td>63900</td>\n",
              "      <td>PM DE COTIPORÃ</td>\n",
              "      <td>36.0</td>\n",
              "      <td>2016</td>\n",
              "      <td>PRD</td>\n",
              "      <td>NaN</td>\n",
              "      <td>NaN</td>\n",
              "      <td>NaN</td>\n",
              "      <td>344</td>\n",
              "      <td>2016.0</td>\n",
              "      <td>...</td>\n",
              "      <td>J</td>\n",
              "      <td>9255424000171.0</td>\n",
              "      <td>NaN</td>\n",
              "      <td>NaN</td>\n",
              "      <td>NaN</td>\n",
              "      <td>S</td>\n",
              "      <td>NaN</td>\n",
              "      <td>NaN</td>\n",
              "      <td>NaN</td>\n",
              "      <td>N</td>\n",
              "    </tr>\n",
              "  </tbody>\n",
              "</table>\n",
              "<p>5 rows × 61 columns</p>\n",
              "</div>"
            ],
            "text/plain": [
              "   CD_ORGAO                NM_ORGAO  NR_LICITACAO  ANO_LICITACAO  \\\n",
              "0     84100  PM DE ESPERANÇA DO SUL           1.0           2016   \n",
              "1     84100  PM DE ESPERANÇA DO SUL           4.0           2016   \n",
              "2     82701         CM DE XANGRI-LÁ           1.0           2016   \n",
              "3     84100  PM DE ESPERANÇA DO SUL           6.0           2016   \n",
              "4     63900          PM DE COTIPORÃ          36.0           2016   \n",
              "\n",
              "  CD_TIPO_MODALIDADE  NR_COMISSAO  ANO_COMISSAO TP_COMISSAO NR_PROCESSO  \\\n",
              "0                CNV         12.0        2016.0           P         001   \n",
              "1                CNV         12.0        2016.0           P         003   \n",
              "2                PRP         12.0        2016.0           G          01   \n",
              "3                CNV         12.0        2016.0           P         005   \n",
              "4                PRD          NaN           NaN         NaN         344   \n",
              "\n",
              "   ANO_PROCESSO  ... TP_DOCUMENTO_FORNECEDOR NR_DOCUMENTO_FORNECEDOR  \\\n",
              "0        2016.0  ...                     NaN                     NaN   \n",
              "1        2016.0  ...                     NaN                     NaN   \n",
              "2        2016.0  ...                     NaN                     NaN   \n",
              "3        2016.0  ...                     NaN                     NaN   \n",
              "4        2016.0  ...                       J         9255424000171.0   \n",
              "\n",
              "  TP_DOCUMENTO_VENCEDOR NR_DOCUMENTO_VENCEDOR VL_HOMOLOGADO BL_GERA_DESPESA  \\\n",
              "0                     J       6233397000148.0        6420.0               S   \n",
              "1                   NaN                   NaN           NaN               S   \n",
              "2                   NaN                   NaN           NaN               S   \n",
              "3                   NaN                   NaN           NaN               S   \n",
              "4                   NaN                   NaN           NaN               S   \n",
              "\n",
              "  DS_OBSERVACAO PC_TX_ESTIMADA PC_TX_HOMOLOGADA BL_COMPARTILHADA  \n",
              "0           NaN            NaN              NaN                N  \n",
              "1           NaN            NaN              NaN                N  \n",
              "2           NaN            NaN              NaN                N  \n",
              "3           NaN            NaN              NaN                N  \n",
              "4           NaN            NaN              NaN                N  \n",
              "\n",
              "[5 rows x 61 columns]"
            ]
          },
          "execution_count": 4,
          "metadata": {},
          "output_type": "execute_result"
        }
      ],
      "source": [
        "combined_licit.head()"
      ]
    },
    {
      "cell_type": "code",
      "execution_count": null,
      "metadata": {
        "id": "FMOm2diV0nSH",
        "outputId": "f83c8752-82c0-4bd7-d17f-a88bf50402ab"
      },
      "outputs": [
        {
          "data": {
            "text/html": [
              "<div>\n",
              "<style scoped>\n",
              "    .dataframe tbody tr th:only-of-type {\n",
              "        vertical-align: middle;\n",
              "    }\n",
              "\n",
              "    .dataframe tbody tr th {\n",
              "        vertical-align: top;\n",
              "    }\n",
              "\n",
              "    .dataframe thead th {\n",
              "        text-align: right;\n",
              "    }\n",
              "</style>\n",
              "<table border=\"1\" class=\"dataframe\">\n",
              "  <thead>\n",
              "    <tr style=\"text-align: right;\">\n",
              "      <th></th>\n",
              "      <th>CD_ORGAO</th>\n",
              "      <th>NR_LICITACAO</th>\n",
              "      <th>ANO_LICITACAO</th>\n",
              "      <th>CD_TIPO_MODALIDADE</th>\n",
              "      <th>NR_LOTE</th>\n",
              "      <th>NR_ITEM</th>\n",
              "      <th>NR_ITEM_ORIGINAL</th>\n",
              "      <th>DS_ITEM</th>\n",
              "      <th>QT_ITENS</th>\n",
              "      <th>SG_UNIDADE_MEDIDA</th>\n",
              "      <th>...</th>\n",
              "      <th>TP_ORCAMENTO</th>\n",
              "      <th>CD_TIPO_FAMILIA</th>\n",
              "      <th>CD_TIPO_SUBFAMILIA</th>\n",
              "      <th>TP_DOCUMENTO</th>\n",
              "      <th>NR_DOCUMENTO</th>\n",
              "      <th>TP_DOCUMENTO.1</th>\n",
              "      <th>NR_DOCUMENTO.1</th>\n",
              "      <th>TP_BENEFICIO_MICRO_EPP</th>\n",
              "      <th>PC_TX_ESTIMADA</th>\n",
              "      <th>PC_TX_HOMOLOGADA</th>\n",
              "    </tr>\n",
              "  </thead>\n",
              "  <tbody>\n",
              "    <tr>\n",
              "      <th>0</th>\n",
              "      <td>77200</td>\n",
              "      <td>15.0</td>\n",
              "      <td>2016</td>\n",
              "      <td>PRP</td>\n",
              "      <td>1</td>\n",
              "      <td>2</td>\n",
              "      <td>2</td>\n",
              "      <td>Pneu 1000/20 liso radial, dianteiro, 16 lonas,...</td>\n",
              "      <td>10.0</td>\n",
              "      <td>UN</td>\n",
              "      <td>...</td>\n",
              "      <td>M</td>\n",
              "      <td>745.0</td>\n",
              "      <td>632.0</td>\n",
              "      <td>J</td>\n",
              "      <td>8774832000177.0</td>\n",
              "      <td>NaN</td>\n",
              "      <td>NaN</td>\n",
              "      <td>L</td>\n",
              "      <td>NaN</td>\n",
              "      <td>NaN</td>\n",
              "    </tr>\n",
              "    <tr>\n",
              "      <th>1</th>\n",
              "      <td>77200</td>\n",
              "      <td>15.0</td>\n",
              "      <td>2016</td>\n",
              "      <td>PRP</td>\n",
              "      <td>1</td>\n",
              "      <td>4</td>\n",
              "      <td>4</td>\n",
              "      <td>Pneu 12.4x24 garra baixa, 10 lonas</td>\n",
              "      <td>4.0</td>\n",
              "      <td>UN</td>\n",
              "      <td>...</td>\n",
              "      <td>M</td>\n",
              "      <td>745.0</td>\n",
              "      <td>632.0</td>\n",
              "      <td>J</td>\n",
              "      <td>8774832000177.0</td>\n",
              "      <td>NaN</td>\n",
              "      <td>NaN</td>\n",
              "      <td>L</td>\n",
              "      <td>NaN</td>\n",
              "      <td>NaN</td>\n",
              "    </tr>\n",
              "    <tr>\n",
              "      <th>2</th>\n",
              "      <td>77200</td>\n",
              "      <td>15.0</td>\n",
              "      <td>2016</td>\n",
              "      <td>PRP</td>\n",
              "      <td>1</td>\n",
              "      <td>7</td>\n",
              "      <td>7</td>\n",
              "      <td>Pneu 1400x24 mínimo 12 lonas</td>\n",
              "      <td>6.0</td>\n",
              "      <td>UN</td>\n",
              "      <td>...</td>\n",
              "      <td>M</td>\n",
              "      <td>745.0</td>\n",
              "      <td>632.0</td>\n",
              "      <td>J</td>\n",
              "      <td>8774832000177.0</td>\n",
              "      <td>NaN</td>\n",
              "      <td>NaN</td>\n",
              "      <td>L</td>\n",
              "      <td>NaN</td>\n",
              "      <td>NaN</td>\n",
              "    </tr>\n",
              "    <tr>\n",
              "      <th>3</th>\n",
              "      <td>77200</td>\n",
              "      <td>15.0</td>\n",
              "      <td>2016</td>\n",
              "      <td>PRP</td>\n",
              "      <td>1</td>\n",
              "      <td>8</td>\n",
              "      <td>8</td>\n",
              "      <td>Pneu 17.5x25 12 lonas, capacidade mínima de ca...</td>\n",
              "      <td>4.0</td>\n",
              "      <td>UN</td>\n",
              "      <td>...</td>\n",
              "      <td>M</td>\n",
              "      <td>745.0</td>\n",
              "      <td>632.0</td>\n",
              "      <td>J</td>\n",
              "      <td>8774832000177.0</td>\n",
              "      <td>NaN</td>\n",
              "      <td>NaN</td>\n",
              "      <td>L</td>\n",
              "      <td>NaN</td>\n",
              "      <td>NaN</td>\n",
              "    </tr>\n",
              "    <tr>\n",
              "      <th>4</th>\n",
              "      <td>77200</td>\n",
              "      <td>15.0</td>\n",
              "      <td>2016</td>\n",
              "      <td>PRP</td>\n",
              "      <td>1</td>\n",
              "      <td>12</td>\n",
              "      <td>12</td>\n",
              "      <td>Pneu 18.4x30 garra baixa, mínimo 10 lonas</td>\n",
              "      <td>4.0</td>\n",
              "      <td>UN</td>\n",
              "      <td>...</td>\n",
              "      <td>M</td>\n",
              "      <td>745.0</td>\n",
              "      <td>632.0</td>\n",
              "      <td>J</td>\n",
              "      <td>8774832000177.0</td>\n",
              "      <td>NaN</td>\n",
              "      <td>NaN</td>\n",
              "      <td>L</td>\n",
              "      <td>NaN</td>\n",
              "      <td>NaN</td>\n",
              "    </tr>\n",
              "  </tbody>\n",
              "</table>\n",
              "<p>5 rows × 32 columns</p>\n",
              "</div>"
            ],
            "text/plain": [
              "   CD_ORGAO  NR_LICITACAO  ANO_LICITACAO CD_TIPO_MODALIDADE  NR_LOTE  NR_ITEM  \\\n",
              "0     77200          15.0           2016                PRP        1        2   \n",
              "1     77200          15.0           2016                PRP        1        4   \n",
              "2     77200          15.0           2016                PRP        1        7   \n",
              "3     77200          15.0           2016                PRP        1        8   \n",
              "4     77200          15.0           2016                PRP        1       12   \n",
              "\n",
              "  NR_ITEM_ORIGINAL                                            DS_ITEM  \\\n",
              "0                2  Pneu 1000/20 liso radial, dianteiro, 16 lonas,...   \n",
              "1                4                 Pneu 12.4x24 garra baixa, 10 lonas   \n",
              "2                7                       Pneu 1400x24 mínimo 12 lonas   \n",
              "3                8  Pneu 17.5x25 12 lonas, capacidade mínima de ca...   \n",
              "4               12          Pneu 18.4x30 garra baixa, mínimo 10 lonas   \n",
              "\n",
              "  QT_ITENS SG_UNIDADE_MEDIDA  ...  TP_ORCAMENTO  CD_TIPO_FAMILIA  \\\n",
              "0     10.0                UN  ...             M            745.0   \n",
              "1      4.0                UN  ...             M            745.0   \n",
              "2      6.0                UN  ...             M            745.0   \n",
              "3      4.0                UN  ...             M            745.0   \n",
              "4      4.0                UN  ...             M            745.0   \n",
              "\n",
              "  CD_TIPO_SUBFAMILIA  TP_DOCUMENTO     NR_DOCUMENTO TP_DOCUMENTO.1  \\\n",
              "0              632.0             J  8774832000177.0            NaN   \n",
              "1              632.0             J  8774832000177.0            NaN   \n",
              "2              632.0             J  8774832000177.0            NaN   \n",
              "3              632.0             J  8774832000177.0            NaN   \n",
              "4              632.0             J  8774832000177.0            NaN   \n",
              "\n",
              "  NR_DOCUMENTO.1 TP_BENEFICIO_MICRO_EPP  PC_TX_ESTIMADA PC_TX_HOMOLOGADA  \n",
              "0            NaN                      L             NaN              NaN  \n",
              "1            NaN                      L             NaN              NaN  \n",
              "2            NaN                      L             NaN              NaN  \n",
              "3            NaN                      L             NaN              NaN  \n",
              "4            NaN                      L             NaN              NaN  \n",
              "\n",
              "[5 rows x 32 columns]"
            ]
          },
          "execution_count": 5,
          "metadata": {},
          "output_type": "execute_result"
        }
      ],
      "source": [
        "combined_item.head()"
      ]
    },
    {
      "cell_type": "markdown",
      "metadata": {
        "id": "FrEjEWWa0nSH"
      },
      "source": [
        "### The first thing I want to do here is to cross the tables by the NR_LICITACAO, ANO_LICITACAO and CD_TIPO_MODALIDADE, because they are unique values that can't be repeated. So I filtered them first and, later, I cross the tables the get only the items that matches with the values from those columns"
      ]
    },
    {
      "cell_type": "markdown",
      "metadata": {
        "id": "_f45aK460nSI"
      },
      "source": [
        "Filtering only the relevant columns and values for the test (advice from the enterprise)"
      ]
    },
    {
      "cell_type": "code",
      "execution_count": null,
      "metadata": {
        "id": "-NWX26gB0nSI"
      },
      "outputs": [],
      "source": [
        "combined_licit = combined_licit[['NR_LICITACAO','ANO_LICITACAO', 'CD_TIPO_MODALIDADE','DS_OBJETO', 'TP_OBJETO']] # filtering only the relevant columns (advice from the company)\n",
        "combined_item = combined_item[['NR_LICITACAO','ANO_LICITACAO', 'CD_TIPO_MODALIDADE', 'NR_LOTE', 'NR_ITEM_ORIGINAL','DS_ITEM', 'VL_UNITARIO_HOMOLOGADO']] # filtering only the relevant columns (advice from the company)"
      ]
    },
    {
      "cell_type": "code",
      "execution_count": null,
      "metadata": {
        "id": "e2HaQeOX0nSJ",
        "outputId": "5ed23732-41c9-4f23-e69b-6b1017c0e55c"
      },
      "outputs": [
        {
          "data": {
            "text/html": [
              "<div>\n",
              "<style scoped>\n",
              "    .dataframe tbody tr th:only-of-type {\n",
              "        vertical-align: middle;\n",
              "    }\n",
              "\n",
              "    .dataframe tbody tr th {\n",
              "        vertical-align: top;\n",
              "    }\n",
              "\n",
              "    .dataframe thead th {\n",
              "        text-align: right;\n",
              "    }\n",
              "</style>\n",
              "<table border=\"1\" class=\"dataframe\">\n",
              "  <thead>\n",
              "    <tr style=\"text-align: right;\">\n",
              "      <th></th>\n",
              "      <th>NR_LICITACAO</th>\n",
              "      <th>ANO_LICITACAO</th>\n",
              "      <th>CD_TIPO_MODALIDADE</th>\n",
              "      <th>DS_OBJETO</th>\n",
              "      <th>TP_OBJETO</th>\n",
              "    </tr>\n",
              "  </thead>\n",
              "  <tbody>\n",
              "    <tr>\n",
              "      <th>0</th>\n",
              "      <td>4.0</td>\n",
              "      <td>2016</td>\n",
              "      <td>CNV</td>\n",
              "      <td>Aquisição de merenda escolar</td>\n",
              "      <td>COM</td>\n",
              "    </tr>\n",
              "    <tr>\n",
              "      <th>1</th>\n",
              "      <td>1.0</td>\n",
              "      <td>2016</td>\n",
              "      <td>PRP</td>\n",
              "      <td>AQUISIÇÃO DE PROTOCOLADORA E FRAGMENTADORA DE ...</td>\n",
              "      <td>COM</td>\n",
              "    </tr>\n",
              "    <tr>\n",
              "      <th>2</th>\n",
              "      <td>6.0</td>\n",
              "      <td>2016</td>\n",
              "      <td>CNV</td>\n",
              "      <td>Aquisição de materiais de limpeza para as dive...</td>\n",
              "      <td>COM</td>\n",
              "    </tr>\n",
              "    <tr>\n",
              "      <th>3</th>\n",
              "      <td>3.0</td>\n",
              "      <td>2016</td>\n",
              "      <td>PRP</td>\n",
              "      <td>Aquisição de tubos de concreto</td>\n",
              "      <td>COM</td>\n",
              "    </tr>\n",
              "    <tr>\n",
              "      <th>4</th>\n",
              "      <td>3.0</td>\n",
              "      <td>2016</td>\n",
              "      <td>PRP</td>\n",
              "      <td>Aquisição de tubos de concreto</td>\n",
              "      <td>COM</td>\n",
              "    </tr>\n",
              "  </tbody>\n",
              "</table>\n",
              "</div>"
            ],
            "text/plain": [
              "   NR_LICITACAO  ANO_LICITACAO CD_TIPO_MODALIDADE  \\\n",
              "0           4.0           2016                CNV   \n",
              "1           1.0           2016                PRP   \n",
              "2           6.0           2016                CNV   \n",
              "3           3.0           2016                PRP   \n",
              "4           3.0           2016                PRP   \n",
              "\n",
              "                                           DS_OBJETO TP_OBJETO  \n",
              "0                      Aquisição de merenda escolar        COM  \n",
              "1  AQUISIÇÃO DE PROTOCOLADORA E FRAGMENTADORA DE ...       COM  \n",
              "2  Aquisição de materiais de limpeza para as dive...       COM  \n",
              "3                     Aquisição de tubos de concreto       COM  \n",
              "4                     Aquisição de tubos de concreto       COM  "
            ]
          },
          "execution_count": 7,
          "metadata": {},
          "output_type": "execute_result"
        }
      ],
      "source": [
        "combined_licit = combined_licit.loc[combined_licit['TP_OBJETO'] == \"COM\"] # filtering only the TP_OBJETO that is equal to \"COM\" (compras)\n",
        "combined_licit.reset_index(inplace=True, drop=True)\n",
        "combined_licit.head()"
      ]
    },
    {
      "cell_type": "markdown",
      "metadata": {
        "id": "0zuggEnO0nSJ"
      },
      "source": [
        "Now we need to merge the tables by the fields that are unique indentifies from the licitacao"
      ]
    },
    {
      "cell_type": "code",
      "execution_count": null,
      "metadata": {
        "id": "JOPRvCI-0nSK",
        "outputId": "0fff0327-bfad-4585-e115-d0d7adf60a93"
      },
      "outputs": [
        {
          "ename": "MemoryError",
          "evalue": "Unable to allocate 3.74 GiB for an array with shape (2, 250687494) and data type object",
          "output_type": "error",
          "traceback": [
            "\u001b[1;31m---------------------------------------------------------------------------\u001b[0m",
            "\u001b[1;31mMemoryError\u001b[0m                               Traceback (most recent call last)",
            "\u001b[1;32mc:\\Users\\V4\\Documents\\teste-tecnico-data-sciencie-brigade\\analisys.ipynb Cell 14'\u001b[0m in \u001b[0;36m<cell line: 1>\u001b[1;34m()\u001b[0m\n\u001b[1;32m----> <a href='vscode-notebook-cell:/c%3A/Users/V4/Documents/teste-tecnico-data-sciencie-brigade/analisys.ipynb#ch0000027?line=0'>1</a>\u001b[0m combined_tables \u001b[39m=\u001b[39m pd\u001b[39m.\u001b[39;49mmerge(combined_licit, combined_item, how\u001b[39m=\u001b[39;49m\u001b[39m\"\u001b[39;49m\u001b[39mleft\u001b[39;49m\u001b[39m\"\u001b[39;49m, on\u001b[39m=\u001b[39;49m[\u001b[39m'\u001b[39;49m\u001b[39mNR_LICITACAO\u001b[39;49m\u001b[39m'\u001b[39;49m,\u001b[39m'\u001b[39;49m\u001b[39mANO_LICITACAO\u001b[39;49m\u001b[39m'\u001b[39;49m, \u001b[39m'\u001b[39;49m\u001b[39mCD_TIPO_MODALIDADE\u001b[39;49m\u001b[39m'\u001b[39;49m])\n",
            "File \u001b[1;32mc:\\Users\\V4\\Documents\\teste-tecnico-data-sciencie-brigade\\venv\\lib\\site-packages\\pandas\\core\\reshape\\merge.py:122\u001b[0m, in \u001b[0;36mmerge\u001b[1;34m(left, right, how, on, left_on, right_on, left_index, right_index, sort, suffixes, copy, indicator, validate)\u001b[0m\n\u001b[0;32m     <a href='file:///c%3A/Users/V4/Documents/teste-tecnico-data-sciencie-brigade/venv/lib/site-packages/pandas/core/reshape/merge.py?line=89'>90</a>\u001b[0m \u001b[39m@Substitution\u001b[39m(\u001b[39m\"\u001b[39m\u001b[39m\\n\u001b[39;00m\u001b[39mleft : DataFrame or named Series\u001b[39m\u001b[39m\"\u001b[39m)\n\u001b[0;32m     <a href='file:///c%3A/Users/V4/Documents/teste-tecnico-data-sciencie-brigade/venv/lib/site-packages/pandas/core/reshape/merge.py?line=90'>91</a>\u001b[0m \u001b[39m@Appender\u001b[39m(_merge_doc, indents\u001b[39m=\u001b[39m\u001b[39m0\u001b[39m)\n\u001b[0;32m     <a href='file:///c%3A/Users/V4/Documents/teste-tecnico-data-sciencie-brigade/venv/lib/site-packages/pandas/core/reshape/merge.py?line=91'>92</a>\u001b[0m \u001b[39mdef\u001b[39;00m \u001b[39mmerge\u001b[39m(\n\u001b[1;32m   (...)\u001b[0m\n\u001b[0;32m    <a href='file:///c%3A/Users/V4/Documents/teste-tecnico-data-sciencie-brigade/venv/lib/site-packages/pandas/core/reshape/merge.py?line=104'>105</a>\u001b[0m     validate: \u001b[39mstr\u001b[39m \u001b[39m|\u001b[39m \u001b[39mNone\u001b[39;00m \u001b[39m=\u001b[39m \u001b[39mNone\u001b[39;00m,\n\u001b[0;32m    <a href='file:///c%3A/Users/V4/Documents/teste-tecnico-data-sciencie-brigade/venv/lib/site-packages/pandas/core/reshape/merge.py?line=105'>106</a>\u001b[0m ) \u001b[39m-\u001b[39m\u001b[39m>\u001b[39m DataFrame:\n\u001b[0;32m    <a href='file:///c%3A/Users/V4/Documents/teste-tecnico-data-sciencie-brigade/venv/lib/site-packages/pandas/core/reshape/merge.py?line=106'>107</a>\u001b[0m     op \u001b[39m=\u001b[39m _MergeOperation(\n\u001b[0;32m    <a href='file:///c%3A/Users/V4/Documents/teste-tecnico-data-sciencie-brigade/venv/lib/site-packages/pandas/core/reshape/merge.py?line=107'>108</a>\u001b[0m         left,\n\u001b[0;32m    <a href='file:///c%3A/Users/V4/Documents/teste-tecnico-data-sciencie-brigade/venv/lib/site-packages/pandas/core/reshape/merge.py?line=108'>109</a>\u001b[0m         right,\n\u001b[1;32m   (...)\u001b[0m\n\u001b[0;32m    <a href='file:///c%3A/Users/V4/Documents/teste-tecnico-data-sciencie-brigade/venv/lib/site-packages/pandas/core/reshape/merge.py?line=119'>120</a>\u001b[0m         validate\u001b[39m=\u001b[39mvalidate,\n\u001b[0;32m    <a href='file:///c%3A/Users/V4/Documents/teste-tecnico-data-sciencie-brigade/venv/lib/site-packages/pandas/core/reshape/merge.py?line=120'>121</a>\u001b[0m     )\n\u001b[1;32m--> <a href='file:///c%3A/Users/V4/Documents/teste-tecnico-data-sciencie-brigade/venv/lib/site-packages/pandas/core/reshape/merge.py?line=121'>122</a>\u001b[0m     \u001b[39mreturn\u001b[39;00m op\u001b[39m.\u001b[39;49mget_result()\n",
            "File \u001b[1;32mc:\\Users\\V4\\Documents\\teste-tecnico-data-sciencie-brigade\\venv\\lib\\site-packages\\pandas\\core\\reshape\\merge.py:725\u001b[0m, in \u001b[0;36m_MergeOperation.get_result\u001b[1;34m(self)\u001b[0m\n\u001b[0;32m    <a href='file:///c%3A/Users/V4/Documents/teste-tecnico-data-sciencie-brigade/venv/lib/site-packages/pandas/core/reshape/merge.py?line=721'>722</a>\u001b[0m lindexers \u001b[39m=\u001b[39m {\u001b[39m1\u001b[39m: left_indexer} \u001b[39mif\u001b[39;00m left_indexer \u001b[39mis\u001b[39;00m \u001b[39mnot\u001b[39;00m \u001b[39mNone\u001b[39;00m \u001b[39melse\u001b[39;00m {}\n\u001b[0;32m    <a href='file:///c%3A/Users/V4/Documents/teste-tecnico-data-sciencie-brigade/venv/lib/site-packages/pandas/core/reshape/merge.py?line=722'>723</a>\u001b[0m rindexers \u001b[39m=\u001b[39m {\u001b[39m1\u001b[39m: right_indexer} \u001b[39mif\u001b[39;00m right_indexer \u001b[39mis\u001b[39;00m \u001b[39mnot\u001b[39;00m \u001b[39mNone\u001b[39;00m \u001b[39melse\u001b[39;00m {}\n\u001b[1;32m--> <a href='file:///c%3A/Users/V4/Documents/teste-tecnico-data-sciencie-brigade/venv/lib/site-packages/pandas/core/reshape/merge.py?line=724'>725</a>\u001b[0m result_data \u001b[39m=\u001b[39m concatenate_managers(\n\u001b[0;32m    <a href='file:///c%3A/Users/V4/Documents/teste-tecnico-data-sciencie-brigade/venv/lib/site-packages/pandas/core/reshape/merge.py?line=725'>726</a>\u001b[0m     [(\u001b[39mself\u001b[39;49m\u001b[39m.\u001b[39;49mleft\u001b[39m.\u001b[39;49m_mgr, lindexers), (\u001b[39mself\u001b[39;49m\u001b[39m.\u001b[39;49mright\u001b[39m.\u001b[39;49m_mgr, rindexers)],\n\u001b[0;32m    <a href='file:///c%3A/Users/V4/Documents/teste-tecnico-data-sciencie-brigade/venv/lib/site-packages/pandas/core/reshape/merge.py?line=726'>727</a>\u001b[0m     axes\u001b[39m=\u001b[39;49m[llabels\u001b[39m.\u001b[39;49mappend(rlabels), join_index],\n\u001b[0;32m    <a href='file:///c%3A/Users/V4/Documents/teste-tecnico-data-sciencie-brigade/venv/lib/site-packages/pandas/core/reshape/merge.py?line=727'>728</a>\u001b[0m     concat_axis\u001b[39m=\u001b[39;49m\u001b[39m0\u001b[39;49m,\n\u001b[0;32m    <a href='file:///c%3A/Users/V4/Documents/teste-tecnico-data-sciencie-brigade/venv/lib/site-packages/pandas/core/reshape/merge.py?line=728'>729</a>\u001b[0m     copy\u001b[39m=\u001b[39;49m\u001b[39mself\u001b[39;49m\u001b[39m.\u001b[39;49mcopy,\n\u001b[0;32m    <a href='file:///c%3A/Users/V4/Documents/teste-tecnico-data-sciencie-brigade/venv/lib/site-packages/pandas/core/reshape/merge.py?line=729'>730</a>\u001b[0m )\n\u001b[0;32m    <a href='file:///c%3A/Users/V4/Documents/teste-tecnico-data-sciencie-brigade/venv/lib/site-packages/pandas/core/reshape/merge.py?line=731'>732</a>\u001b[0m typ \u001b[39m=\u001b[39m \u001b[39mself\u001b[39m\u001b[39m.\u001b[39mleft\u001b[39m.\u001b[39m_constructor\n\u001b[0;32m    <a href='file:///c%3A/Users/V4/Documents/teste-tecnico-data-sciencie-brigade/venv/lib/site-packages/pandas/core/reshape/merge.py?line=732'>733</a>\u001b[0m result \u001b[39m=\u001b[39m typ(result_data)\u001b[39m.\u001b[39m__finalize__(\u001b[39mself\u001b[39m, method\u001b[39m=\u001b[39m\u001b[39mself\u001b[39m\u001b[39m.\u001b[39m_merge_type)\n",
            "File \u001b[1;32mc:\\Users\\V4\\Documents\\teste-tecnico-data-sciencie-brigade\\venv\\lib\\site-packages\\pandas\\core\\internals\\concat.py:202\u001b[0m, in \u001b[0;36mconcatenate_managers\u001b[1;34m(mgrs_indexers, axes, concat_axis, copy)\u001b[0m\n\u001b[0;32m    <a href='file:///c%3A/Users/V4/Documents/teste-tecnico-data-sciencie-brigade/venv/lib/site-packages/pandas/core/internals/concat.py?line=194'>195</a>\u001b[0m \u001b[39m# Assertions disabled for performance\u001b[39;00m\n\u001b[0;32m    <a href='file:///c%3A/Users/V4/Documents/teste-tecnico-data-sciencie-brigade/venv/lib/site-packages/pandas/core/internals/concat.py?line=195'>196</a>\u001b[0m \u001b[39m# for tup in mgrs_indexers:\u001b[39;00m\n\u001b[0;32m    <a href='file:///c%3A/Users/V4/Documents/teste-tecnico-data-sciencie-brigade/venv/lib/site-packages/pandas/core/internals/concat.py?line=196'>197</a>\u001b[0m \u001b[39m#    # caller is responsible for ensuring this\u001b[39;00m\n\u001b[0;32m    <a href='file:///c%3A/Users/V4/Documents/teste-tecnico-data-sciencie-brigade/venv/lib/site-packages/pandas/core/internals/concat.py?line=197'>198</a>\u001b[0m \u001b[39m#    indexers = tup[1]\u001b[39;00m\n\u001b[0;32m    <a href='file:///c%3A/Users/V4/Documents/teste-tecnico-data-sciencie-brigade/venv/lib/site-packages/pandas/core/internals/concat.py?line=198'>199</a>\u001b[0m \u001b[39m#    assert concat_axis not in indexers\u001b[39;00m\n\u001b[0;32m    <a href='file:///c%3A/Users/V4/Documents/teste-tecnico-data-sciencie-brigade/venv/lib/site-packages/pandas/core/internals/concat.py?line=200'>201</a>\u001b[0m \u001b[39mif\u001b[39;00m concat_axis \u001b[39m==\u001b[39m \u001b[39m0\u001b[39m:\n\u001b[1;32m--> <a href='file:///c%3A/Users/V4/Documents/teste-tecnico-data-sciencie-brigade/venv/lib/site-packages/pandas/core/internals/concat.py?line=201'>202</a>\u001b[0m     \u001b[39mreturn\u001b[39;00m _concat_managers_axis0(mgrs_indexers, axes, copy)\n\u001b[0;32m    <a href='file:///c%3A/Users/V4/Documents/teste-tecnico-data-sciencie-brigade/venv/lib/site-packages/pandas/core/internals/concat.py?line=203'>204</a>\u001b[0m mgrs_indexers \u001b[39m=\u001b[39m _maybe_reindex_columns_na_proxy(axes, mgrs_indexers)\n\u001b[0;32m    <a href='file:///c%3A/Users/V4/Documents/teste-tecnico-data-sciencie-brigade/venv/lib/site-packages/pandas/core/internals/concat.py?line=205'>206</a>\u001b[0m \u001b[39m# Assertion disabled for performance\u001b[39;00m\n\u001b[0;32m    <a href='file:///c%3A/Users/V4/Documents/teste-tecnico-data-sciencie-brigade/venv/lib/site-packages/pandas/core/internals/concat.py?line=206'>207</a>\u001b[0m \u001b[39m# assert all(not x[1] for x in mgrs_indexers)\u001b[39;00m\n",
            "File \u001b[1;32mc:\\Users\\V4\\Documents\\teste-tecnico-data-sciencie-brigade\\venv\\lib\\site-packages\\pandas\\core\\internals\\concat.py:264\u001b[0m, in \u001b[0;36m_concat_managers_axis0\u001b[1;34m(mgrs_indexers, axes, copy)\u001b[0m\n\u001b[0;32m    <a href='file:///c%3A/Users/V4/Documents/teste-tecnico-data-sciencie-brigade/venv/lib/site-packages/pandas/core/internals/concat.py?line=256'>257</a>\u001b[0m \u001b[39m\"\"\"\u001b[39;00m\n\u001b[0;32m    <a href='file:///c%3A/Users/V4/Documents/teste-tecnico-data-sciencie-brigade/venv/lib/site-packages/pandas/core/internals/concat.py?line=257'>258</a>\u001b[0m \u001b[39mconcat_managers specialized to concat_axis=0, with reindexing already\u001b[39;00m\n\u001b[0;32m    <a href='file:///c%3A/Users/V4/Documents/teste-tecnico-data-sciencie-brigade/venv/lib/site-packages/pandas/core/internals/concat.py?line=258'>259</a>\u001b[0m \u001b[39mhaving been done in _maybe_reindex_columns_na_proxy.\u001b[39;00m\n\u001b[0;32m    <a href='file:///c%3A/Users/V4/Documents/teste-tecnico-data-sciencie-brigade/venv/lib/site-packages/pandas/core/internals/concat.py?line=259'>260</a>\u001b[0m \u001b[39m\"\"\"\u001b[39;00m\n\u001b[0;32m    <a href='file:///c%3A/Users/V4/Documents/teste-tecnico-data-sciencie-brigade/venv/lib/site-packages/pandas/core/internals/concat.py?line=260'>261</a>\u001b[0m had_reindexers \u001b[39m=\u001b[39m {\n\u001b[0;32m    <a href='file:///c%3A/Users/V4/Documents/teste-tecnico-data-sciencie-brigade/venv/lib/site-packages/pandas/core/internals/concat.py?line=261'>262</a>\u001b[0m     i: \u001b[39mlen\u001b[39m(mgrs_indexers[i][\u001b[39m1\u001b[39m]) \u001b[39m>\u001b[39m \u001b[39m0\u001b[39m \u001b[39mfor\u001b[39;00m i \u001b[39min\u001b[39;00m \u001b[39mrange\u001b[39m(\u001b[39mlen\u001b[39m(mgrs_indexers))\n\u001b[0;32m    <a href='file:///c%3A/Users/V4/Documents/teste-tecnico-data-sciencie-brigade/venv/lib/site-packages/pandas/core/internals/concat.py?line=262'>263</a>\u001b[0m }\n\u001b[1;32m--> <a href='file:///c%3A/Users/V4/Documents/teste-tecnico-data-sciencie-brigade/venv/lib/site-packages/pandas/core/internals/concat.py?line=263'>264</a>\u001b[0m mgrs_indexers \u001b[39m=\u001b[39m _maybe_reindex_columns_na_proxy(axes, mgrs_indexers)\n\u001b[0;32m    <a href='file:///c%3A/Users/V4/Documents/teste-tecnico-data-sciencie-brigade/venv/lib/site-packages/pandas/core/internals/concat.py?line=265'>266</a>\u001b[0m mgrs \u001b[39m=\u001b[39m [x[\u001b[39m0\u001b[39m] \u001b[39mfor\u001b[39;00m x \u001b[39min\u001b[39;00m mgrs_indexers]\n\u001b[0;32m    <a href='file:///c%3A/Users/V4/Documents/teste-tecnico-data-sciencie-brigade/venv/lib/site-packages/pandas/core/internals/concat.py?line=267'>268</a>\u001b[0m offset \u001b[39m=\u001b[39m \u001b[39m0\u001b[39m\n",
            "File \u001b[1;32mc:\\Users\\V4\\Documents\\teste-tecnico-data-sciencie-brigade\\venv\\lib\\site-packages\\pandas\\core\\internals\\concat.py:306\u001b[0m, in \u001b[0;36m_maybe_reindex_columns_na_proxy\u001b[1;34m(axes, mgrs_indexers)\u001b[0m\n\u001b[0;32m    <a href='file:///c%3A/Users/V4/Documents/teste-tecnico-data-sciencie-brigade/venv/lib/site-packages/pandas/core/internals/concat.py?line=301'>302</a>\u001b[0m \u001b[39mfor\u001b[39;00m mgr, indexers \u001b[39min\u001b[39;00m mgrs_indexers:\n\u001b[0;32m    <a href='file:///c%3A/Users/V4/Documents/teste-tecnico-data-sciencie-brigade/venv/lib/site-packages/pandas/core/internals/concat.py?line=302'>303</a>\u001b[0m     \u001b[39m# For axis=0 (i.e. columns) we use_na_proxy and only_slice, so this\u001b[39;00m\n\u001b[0;32m    <a href='file:///c%3A/Users/V4/Documents/teste-tecnico-data-sciencie-brigade/venv/lib/site-packages/pandas/core/internals/concat.py?line=303'>304</a>\u001b[0m     \u001b[39m#  is a cheap reindexing.\u001b[39;00m\n\u001b[0;32m    <a href='file:///c%3A/Users/V4/Documents/teste-tecnico-data-sciencie-brigade/venv/lib/site-packages/pandas/core/internals/concat.py?line=304'>305</a>\u001b[0m     \u001b[39mfor\u001b[39;00m i, indexer \u001b[39min\u001b[39;00m indexers\u001b[39m.\u001b[39mitems():\n\u001b[1;32m--> <a href='file:///c%3A/Users/V4/Documents/teste-tecnico-data-sciencie-brigade/venv/lib/site-packages/pandas/core/internals/concat.py?line=305'>306</a>\u001b[0m         mgr \u001b[39m=\u001b[39m mgr\u001b[39m.\u001b[39;49mreindex_indexer(\n\u001b[0;32m    <a href='file:///c%3A/Users/V4/Documents/teste-tecnico-data-sciencie-brigade/venv/lib/site-packages/pandas/core/internals/concat.py?line=306'>307</a>\u001b[0m             axes[i],\n\u001b[0;32m    <a href='file:///c%3A/Users/V4/Documents/teste-tecnico-data-sciencie-brigade/venv/lib/site-packages/pandas/core/internals/concat.py?line=307'>308</a>\u001b[0m             indexers[i],\n\u001b[0;32m    <a href='file:///c%3A/Users/V4/Documents/teste-tecnico-data-sciencie-brigade/venv/lib/site-packages/pandas/core/internals/concat.py?line=308'>309</a>\u001b[0m             axis\u001b[39m=\u001b[39;49mi,\n\u001b[0;32m    <a href='file:///c%3A/Users/V4/Documents/teste-tecnico-data-sciencie-brigade/venv/lib/site-packages/pandas/core/internals/concat.py?line=309'>310</a>\u001b[0m             copy\u001b[39m=\u001b[39;49m\u001b[39mFalse\u001b[39;49;00m,\n\u001b[0;32m    <a href='file:///c%3A/Users/V4/Documents/teste-tecnico-data-sciencie-brigade/venv/lib/site-packages/pandas/core/internals/concat.py?line=310'>311</a>\u001b[0m             only_slice\u001b[39m=\u001b[39;49m\u001b[39mTrue\u001b[39;49;00m,  \u001b[39m# only relevant for i==0\u001b[39;49;00m\n\u001b[0;32m    <a href='file:///c%3A/Users/V4/Documents/teste-tecnico-data-sciencie-brigade/venv/lib/site-packages/pandas/core/internals/concat.py?line=311'>312</a>\u001b[0m             allow_dups\u001b[39m=\u001b[39;49m\u001b[39mTrue\u001b[39;49;00m,\n\u001b[0;32m    <a href='file:///c%3A/Users/V4/Documents/teste-tecnico-data-sciencie-brigade/venv/lib/site-packages/pandas/core/internals/concat.py?line=312'>313</a>\u001b[0m             use_na_proxy\u001b[39m=\u001b[39;49m\u001b[39mTrue\u001b[39;49;00m,  \u001b[39m# only relevant for i==0\u001b[39;49;00m\n\u001b[0;32m    <a href='file:///c%3A/Users/V4/Documents/teste-tecnico-data-sciencie-brigade/venv/lib/site-packages/pandas/core/internals/concat.py?line=313'>314</a>\u001b[0m         )\n\u001b[0;32m    <a href='file:///c%3A/Users/V4/Documents/teste-tecnico-data-sciencie-brigade/venv/lib/site-packages/pandas/core/internals/concat.py?line=314'>315</a>\u001b[0m     new_mgrs_indexers\u001b[39m.\u001b[39mappend((mgr, {}))\n\u001b[0;32m    <a href='file:///c%3A/Users/V4/Documents/teste-tecnico-data-sciencie-brigade/venv/lib/site-packages/pandas/core/internals/concat.py?line=316'>317</a>\u001b[0m \u001b[39mreturn\u001b[39;00m new_mgrs_indexers\n",
            "File \u001b[1;32mc:\\Users\\V4\\Documents\\teste-tecnico-data-sciencie-brigade\\venv\\lib\\site-packages\\pandas\\core\\internals\\managers.py:692\u001b[0m, in \u001b[0;36mBaseBlockManager.reindex_indexer\u001b[1;34m(self, new_axis, indexer, axis, fill_value, allow_dups, copy, consolidate, only_slice, use_na_proxy)\u001b[0m\n\u001b[0;32m    <a href='file:///c%3A/Users/V4/Documents/teste-tecnico-data-sciencie-brigade/venv/lib/site-packages/pandas/core/internals/managers.py?line=684'>685</a>\u001b[0m     new_blocks \u001b[39m=\u001b[39m \u001b[39mself\u001b[39m\u001b[39m.\u001b[39m_slice_take_blocks_ax0(\n\u001b[0;32m    <a href='file:///c%3A/Users/V4/Documents/teste-tecnico-data-sciencie-brigade/venv/lib/site-packages/pandas/core/internals/managers.py?line=685'>686</a>\u001b[0m         indexer,\n\u001b[0;32m    <a href='file:///c%3A/Users/V4/Documents/teste-tecnico-data-sciencie-brigade/venv/lib/site-packages/pandas/core/internals/managers.py?line=686'>687</a>\u001b[0m         fill_value\u001b[39m=\u001b[39mfill_value,\n\u001b[0;32m    <a href='file:///c%3A/Users/V4/Documents/teste-tecnico-data-sciencie-brigade/venv/lib/site-packages/pandas/core/internals/managers.py?line=687'>688</a>\u001b[0m         only_slice\u001b[39m=\u001b[39monly_slice,\n\u001b[0;32m    <a href='file:///c%3A/Users/V4/Documents/teste-tecnico-data-sciencie-brigade/venv/lib/site-packages/pandas/core/internals/managers.py?line=688'>689</a>\u001b[0m         use_na_proxy\u001b[39m=\u001b[39muse_na_proxy,\n\u001b[0;32m    <a href='file:///c%3A/Users/V4/Documents/teste-tecnico-data-sciencie-brigade/venv/lib/site-packages/pandas/core/internals/managers.py?line=689'>690</a>\u001b[0m     )\n\u001b[0;32m    <a href='file:///c%3A/Users/V4/Documents/teste-tecnico-data-sciencie-brigade/venv/lib/site-packages/pandas/core/internals/managers.py?line=690'>691</a>\u001b[0m \u001b[39melse\u001b[39;00m:\n\u001b[1;32m--> <a href='file:///c%3A/Users/V4/Documents/teste-tecnico-data-sciencie-brigade/venv/lib/site-packages/pandas/core/internals/managers.py?line=691'>692</a>\u001b[0m     new_blocks \u001b[39m=\u001b[39m [\n\u001b[0;32m    <a href='file:///c%3A/Users/V4/Documents/teste-tecnico-data-sciencie-brigade/venv/lib/site-packages/pandas/core/internals/managers.py?line=692'>693</a>\u001b[0m         blk\u001b[39m.\u001b[39mtake_nd(\n\u001b[0;32m    <a href='file:///c%3A/Users/V4/Documents/teste-tecnico-data-sciencie-brigade/venv/lib/site-packages/pandas/core/internals/managers.py?line=693'>694</a>\u001b[0m             indexer,\n\u001b[0;32m    <a href='file:///c%3A/Users/V4/Documents/teste-tecnico-data-sciencie-brigade/venv/lib/site-packages/pandas/core/internals/managers.py?line=694'>695</a>\u001b[0m             axis\u001b[39m=\u001b[39m\u001b[39m1\u001b[39m,\n\u001b[0;32m    <a href='file:///c%3A/Users/V4/Documents/teste-tecnico-data-sciencie-brigade/venv/lib/site-packages/pandas/core/internals/managers.py?line=695'>696</a>\u001b[0m             fill_value\u001b[39m=\u001b[39m(\n\u001b[0;32m    <a href='file:///c%3A/Users/V4/Documents/teste-tecnico-data-sciencie-brigade/venv/lib/site-packages/pandas/core/internals/managers.py?line=696'>697</a>\u001b[0m                 fill_value \u001b[39mif\u001b[39;00m fill_value \u001b[39mis\u001b[39;00m \u001b[39mnot\u001b[39;00m \u001b[39mNone\u001b[39;00m \u001b[39melse\u001b[39;00m blk\u001b[39m.\u001b[39mfill_value\n\u001b[0;32m    <a href='file:///c%3A/Users/V4/Documents/teste-tecnico-data-sciencie-brigade/venv/lib/site-packages/pandas/core/internals/managers.py?line=697'>698</a>\u001b[0m             ),\n\u001b[0;32m    <a href='file:///c%3A/Users/V4/Documents/teste-tecnico-data-sciencie-brigade/venv/lib/site-packages/pandas/core/internals/managers.py?line=698'>699</a>\u001b[0m         )\n\u001b[0;32m    <a href='file:///c%3A/Users/V4/Documents/teste-tecnico-data-sciencie-brigade/venv/lib/site-packages/pandas/core/internals/managers.py?line=699'>700</a>\u001b[0m         \u001b[39mfor\u001b[39;00m blk \u001b[39min\u001b[39;00m \u001b[39mself\u001b[39m\u001b[39m.\u001b[39mblocks\n\u001b[0;32m    <a href='file:///c%3A/Users/V4/Documents/teste-tecnico-data-sciencie-brigade/venv/lib/site-packages/pandas/core/internals/managers.py?line=700'>701</a>\u001b[0m     ]\n\u001b[0;32m    <a href='file:///c%3A/Users/V4/Documents/teste-tecnico-data-sciencie-brigade/venv/lib/site-packages/pandas/core/internals/managers.py?line=702'>703</a>\u001b[0m new_axes \u001b[39m=\u001b[39m \u001b[39mlist\u001b[39m(\u001b[39mself\u001b[39m\u001b[39m.\u001b[39maxes)\n\u001b[0;32m    <a href='file:///c%3A/Users/V4/Documents/teste-tecnico-data-sciencie-brigade/venv/lib/site-packages/pandas/core/internals/managers.py?line=703'>704</a>\u001b[0m new_axes[axis] \u001b[39m=\u001b[39m new_axis\n",
            "File \u001b[1;32mc:\\Users\\V4\\Documents\\teste-tecnico-data-sciencie-brigade\\venv\\lib\\site-packages\\pandas\\core\\internals\\managers.py:693\u001b[0m, in \u001b[0;36m<listcomp>\u001b[1;34m(.0)\u001b[0m\n\u001b[0;32m    <a href='file:///c%3A/Users/V4/Documents/teste-tecnico-data-sciencie-brigade/venv/lib/site-packages/pandas/core/internals/managers.py?line=684'>685</a>\u001b[0m     new_blocks \u001b[39m=\u001b[39m \u001b[39mself\u001b[39m\u001b[39m.\u001b[39m_slice_take_blocks_ax0(\n\u001b[0;32m    <a href='file:///c%3A/Users/V4/Documents/teste-tecnico-data-sciencie-brigade/venv/lib/site-packages/pandas/core/internals/managers.py?line=685'>686</a>\u001b[0m         indexer,\n\u001b[0;32m    <a href='file:///c%3A/Users/V4/Documents/teste-tecnico-data-sciencie-brigade/venv/lib/site-packages/pandas/core/internals/managers.py?line=686'>687</a>\u001b[0m         fill_value\u001b[39m=\u001b[39mfill_value,\n\u001b[0;32m    <a href='file:///c%3A/Users/V4/Documents/teste-tecnico-data-sciencie-brigade/venv/lib/site-packages/pandas/core/internals/managers.py?line=687'>688</a>\u001b[0m         only_slice\u001b[39m=\u001b[39monly_slice,\n\u001b[0;32m    <a href='file:///c%3A/Users/V4/Documents/teste-tecnico-data-sciencie-brigade/venv/lib/site-packages/pandas/core/internals/managers.py?line=688'>689</a>\u001b[0m         use_na_proxy\u001b[39m=\u001b[39muse_na_proxy,\n\u001b[0;32m    <a href='file:///c%3A/Users/V4/Documents/teste-tecnico-data-sciencie-brigade/venv/lib/site-packages/pandas/core/internals/managers.py?line=689'>690</a>\u001b[0m     )\n\u001b[0;32m    <a href='file:///c%3A/Users/V4/Documents/teste-tecnico-data-sciencie-brigade/venv/lib/site-packages/pandas/core/internals/managers.py?line=690'>691</a>\u001b[0m \u001b[39melse\u001b[39;00m:\n\u001b[0;32m    <a href='file:///c%3A/Users/V4/Documents/teste-tecnico-data-sciencie-brigade/venv/lib/site-packages/pandas/core/internals/managers.py?line=691'>692</a>\u001b[0m     new_blocks \u001b[39m=\u001b[39m [\n\u001b[1;32m--> <a href='file:///c%3A/Users/V4/Documents/teste-tecnico-data-sciencie-brigade/venv/lib/site-packages/pandas/core/internals/managers.py?line=692'>693</a>\u001b[0m         blk\u001b[39m.\u001b[39;49mtake_nd(\n\u001b[0;32m    <a href='file:///c%3A/Users/V4/Documents/teste-tecnico-data-sciencie-brigade/venv/lib/site-packages/pandas/core/internals/managers.py?line=693'>694</a>\u001b[0m             indexer,\n\u001b[0;32m    <a href='file:///c%3A/Users/V4/Documents/teste-tecnico-data-sciencie-brigade/venv/lib/site-packages/pandas/core/internals/managers.py?line=694'>695</a>\u001b[0m             axis\u001b[39m=\u001b[39;49m\u001b[39m1\u001b[39;49m,\n\u001b[0;32m    <a href='file:///c%3A/Users/V4/Documents/teste-tecnico-data-sciencie-brigade/venv/lib/site-packages/pandas/core/internals/managers.py?line=695'>696</a>\u001b[0m             fill_value\u001b[39m=\u001b[39;49m(\n\u001b[0;32m    <a href='file:///c%3A/Users/V4/Documents/teste-tecnico-data-sciencie-brigade/venv/lib/site-packages/pandas/core/internals/managers.py?line=696'>697</a>\u001b[0m                 fill_value \u001b[39mif\u001b[39;49;00m fill_value \u001b[39mis\u001b[39;49;00m \u001b[39mnot\u001b[39;49;00m \u001b[39mNone\u001b[39;49;00m \u001b[39melse\u001b[39;49;00m blk\u001b[39m.\u001b[39;49mfill_value\n\u001b[0;32m    <a href='file:///c%3A/Users/V4/Documents/teste-tecnico-data-sciencie-brigade/venv/lib/site-packages/pandas/core/internals/managers.py?line=697'>698</a>\u001b[0m             ),\n\u001b[0;32m    <a href='file:///c%3A/Users/V4/Documents/teste-tecnico-data-sciencie-brigade/venv/lib/site-packages/pandas/core/internals/managers.py?line=698'>699</a>\u001b[0m         )\n\u001b[0;32m    <a href='file:///c%3A/Users/V4/Documents/teste-tecnico-data-sciencie-brigade/venv/lib/site-packages/pandas/core/internals/managers.py?line=699'>700</a>\u001b[0m         \u001b[39mfor\u001b[39;00m blk \u001b[39min\u001b[39;00m \u001b[39mself\u001b[39m\u001b[39m.\u001b[39mblocks\n\u001b[0;32m    <a href='file:///c%3A/Users/V4/Documents/teste-tecnico-data-sciencie-brigade/venv/lib/site-packages/pandas/core/internals/managers.py?line=700'>701</a>\u001b[0m     ]\n\u001b[0;32m    <a href='file:///c%3A/Users/V4/Documents/teste-tecnico-data-sciencie-brigade/venv/lib/site-packages/pandas/core/internals/managers.py?line=702'>703</a>\u001b[0m new_axes \u001b[39m=\u001b[39m \u001b[39mlist\u001b[39m(\u001b[39mself\u001b[39m\u001b[39m.\u001b[39maxes)\n\u001b[0;32m    <a href='file:///c%3A/Users/V4/Documents/teste-tecnico-data-sciencie-brigade/venv/lib/site-packages/pandas/core/internals/managers.py?line=703'>704</a>\u001b[0m new_axes[axis] \u001b[39m=\u001b[39m new_axis\n",
            "File \u001b[1;32mc:\\Users\\V4\\Documents\\teste-tecnico-data-sciencie-brigade\\venv\\lib\\site-packages\\pandas\\core\\internals\\blocks.py:1121\u001b[0m, in \u001b[0;36mBlock.take_nd\u001b[1;34m(self, indexer, axis, new_mgr_locs, fill_value)\u001b[0m\n\u001b[0;32m   <a href='file:///c%3A/Users/V4/Documents/teste-tecnico-data-sciencie-brigade/venv/lib/site-packages/pandas/core/internals/blocks.py?line=1117'>1118</a>\u001b[0m \u001b[39melse\u001b[39;00m:\n\u001b[0;32m   <a href='file:///c%3A/Users/V4/Documents/teste-tecnico-data-sciencie-brigade/venv/lib/site-packages/pandas/core/internals/blocks.py?line=1118'>1119</a>\u001b[0m     allow_fill \u001b[39m=\u001b[39m \u001b[39mTrue\u001b[39;00m\n\u001b[1;32m-> <a href='file:///c%3A/Users/V4/Documents/teste-tecnico-data-sciencie-brigade/venv/lib/site-packages/pandas/core/internals/blocks.py?line=1120'>1121</a>\u001b[0m new_values \u001b[39m=\u001b[39m algos\u001b[39m.\u001b[39;49mtake_nd(\n\u001b[0;32m   <a href='file:///c%3A/Users/V4/Documents/teste-tecnico-data-sciencie-brigade/venv/lib/site-packages/pandas/core/internals/blocks.py?line=1121'>1122</a>\u001b[0m     values, indexer, axis\u001b[39m=\u001b[39;49maxis, allow_fill\u001b[39m=\u001b[39;49mallow_fill, fill_value\u001b[39m=\u001b[39;49mfill_value\n\u001b[0;32m   <a href='file:///c%3A/Users/V4/Documents/teste-tecnico-data-sciencie-brigade/venv/lib/site-packages/pandas/core/internals/blocks.py?line=1122'>1123</a>\u001b[0m )\n\u001b[0;32m   <a href='file:///c%3A/Users/V4/Documents/teste-tecnico-data-sciencie-brigade/venv/lib/site-packages/pandas/core/internals/blocks.py?line=1124'>1125</a>\u001b[0m \u001b[39m# Called from three places in managers, all of which satisfy\u001b[39;00m\n\u001b[0;32m   <a href='file:///c%3A/Users/V4/Documents/teste-tecnico-data-sciencie-brigade/venv/lib/site-packages/pandas/core/internals/blocks.py?line=1125'>1126</a>\u001b[0m \u001b[39m#  this assertion\u001b[39;00m\n\u001b[0;32m   <a href='file:///c%3A/Users/V4/Documents/teste-tecnico-data-sciencie-brigade/venv/lib/site-packages/pandas/core/internals/blocks.py?line=1126'>1127</a>\u001b[0m \u001b[39massert\u001b[39;00m \u001b[39mnot\u001b[39;00m (axis \u001b[39m==\u001b[39m \u001b[39m0\u001b[39m \u001b[39mand\u001b[39;00m new_mgr_locs \u001b[39mis\u001b[39;00m \u001b[39mNone\u001b[39;00m)\n",
            "File \u001b[1;32mc:\\Users\\V4\\Documents\\teste-tecnico-data-sciencie-brigade\\venv\\lib\\site-packages\\pandas\\core\\array_algos\\take.py:117\u001b[0m, in \u001b[0;36mtake_nd\u001b[1;34m(arr, indexer, axis, fill_value, allow_fill)\u001b[0m\n\u001b[0;32m    <a href='file:///c%3A/Users/V4/Documents/teste-tecnico-data-sciencie-brigade/venv/lib/site-packages/pandas/core/array_algos/take.py?line=113'>114</a>\u001b[0m     \u001b[39mreturn\u001b[39;00m arr\u001b[39m.\u001b[39mtake(indexer, fill_value\u001b[39m=\u001b[39mfill_value, allow_fill\u001b[39m=\u001b[39mallow_fill)\n\u001b[0;32m    <a href='file:///c%3A/Users/V4/Documents/teste-tecnico-data-sciencie-brigade/venv/lib/site-packages/pandas/core/array_algos/take.py?line=115'>116</a>\u001b[0m arr \u001b[39m=\u001b[39m np\u001b[39m.\u001b[39masarray(arr)\n\u001b[1;32m--> <a href='file:///c%3A/Users/V4/Documents/teste-tecnico-data-sciencie-brigade/venv/lib/site-packages/pandas/core/array_algos/take.py?line=116'>117</a>\u001b[0m \u001b[39mreturn\u001b[39;00m _take_nd_ndarray(arr, indexer, axis, fill_value, allow_fill)\n",
            "File \u001b[1;32mc:\\Users\\V4\\Documents\\teste-tecnico-data-sciencie-brigade\\venv\\lib\\site-packages\\pandas\\core\\array_algos\\take.py:158\u001b[0m, in \u001b[0;36m_take_nd_ndarray\u001b[1;34m(arr, indexer, axis, fill_value, allow_fill)\u001b[0m\n\u001b[0;32m    <a href='file:///c%3A/Users/V4/Documents/teste-tecnico-data-sciencie-brigade/venv/lib/site-packages/pandas/core/array_algos/take.py?line=155'>156</a>\u001b[0m     out \u001b[39m=\u001b[39m np\u001b[39m.\u001b[39mempty(out_shape, dtype\u001b[39m=\u001b[39mdtype, order\u001b[39m=\u001b[39m\u001b[39m\"\u001b[39m\u001b[39mF\u001b[39m\u001b[39m\"\u001b[39m)\n\u001b[0;32m    <a href='file:///c%3A/Users/V4/Documents/teste-tecnico-data-sciencie-brigade/venv/lib/site-packages/pandas/core/array_algos/take.py?line=156'>157</a>\u001b[0m \u001b[39melse\u001b[39;00m:\n\u001b[1;32m--> <a href='file:///c%3A/Users/V4/Documents/teste-tecnico-data-sciencie-brigade/venv/lib/site-packages/pandas/core/array_algos/take.py?line=157'>158</a>\u001b[0m     out \u001b[39m=\u001b[39m np\u001b[39m.\u001b[39;49mempty(out_shape, dtype\u001b[39m=\u001b[39;49mdtype)\n\u001b[0;32m    <a href='file:///c%3A/Users/V4/Documents/teste-tecnico-data-sciencie-brigade/venv/lib/site-packages/pandas/core/array_algos/take.py?line=159'>160</a>\u001b[0m func \u001b[39m=\u001b[39m _get_take_nd_function(\n\u001b[0;32m    <a href='file:///c%3A/Users/V4/Documents/teste-tecnico-data-sciencie-brigade/venv/lib/site-packages/pandas/core/array_algos/take.py?line=160'>161</a>\u001b[0m     arr\u001b[39m.\u001b[39mndim, arr\u001b[39m.\u001b[39mdtype, out\u001b[39m.\u001b[39mdtype, axis\u001b[39m=\u001b[39maxis, mask_info\u001b[39m=\u001b[39mmask_info\n\u001b[0;32m    <a href='file:///c%3A/Users/V4/Documents/teste-tecnico-data-sciencie-brigade/venv/lib/site-packages/pandas/core/array_algos/take.py?line=161'>162</a>\u001b[0m )\n\u001b[0;32m    <a href='file:///c%3A/Users/V4/Documents/teste-tecnico-data-sciencie-brigade/venv/lib/site-packages/pandas/core/array_algos/take.py?line=162'>163</a>\u001b[0m func(arr, indexer, out, fill_value)\n",
            "\u001b[1;31mMemoryError\u001b[0m: Unable to allocate 3.74 GiB for an array with shape (2, 250687494) and data type object"
          ]
        }
      ],
      "source": [
        "combined_tables = pd.merge(combined_licit, combined_item, how=\"left\", on=['NR_LICITACAO','ANO_LICITACAO', 'CD_TIPO_MODALIDADE'])\n"
      ]
    },
    {
      "cell_type": "code",
      "execution_count": null,
      "metadata": {
        "id": "AA8AY7sS0nSK"
      },
      "outputs": [],
      "source": [
        "combined_tables.shape"
      ]
    },
    {
      "cell_type": "markdown",
      "metadata": {
        "id": "Myw1GsAK0nSK"
      },
      "source": [
        "# As is informed in the documentation, the fields "
      ]
    },
    {
      "cell_type": "markdown",
      "metadata": {
        "id": "i7KN9pKt0nSK"
      },
      "source": [
        "That's it! The tables are merged by the unique identifiers and processed, getting only the licitacoes that are \"compras\", now we can analyse them."
      ]
    },
    {
      "cell_type": "code",
      "execution_count": null,
      "metadata": {
        "id": "zmv3dPTF0nSL"
      },
      "outputs": [],
      "source": [
        "combined_tables.head()"
      ]
    },
    {
      "cell_type": "code",
      "execution_count": null,
      "metadata": {
        "id": "nS3fVK8u0nSL"
      },
      "outputs": [],
      "source": [
        ""
      ]
    },
    {
      "cell_type": "code",
      "execution_count": null,
      "metadata": {
        "id": "PacXdeMC0nSL"
      },
      "outputs": [],
      "source": [
        ""
      ]
    },
    {
      "cell_type": "code",
      "execution_count": null,
      "metadata": {
        "id": "4VmbMm9a0nSL"
      },
      "outputs": [],
      "source": [
        ""
      ]
    },
    {
      "cell_type": "code",
      "execution_count": null,
      "metadata": {
        "id": "Bf3LAX9t0nSM"
      },
      "outputs": [],
      "source": [
        ""
      ]
    },
    {
      "cell_type": "code",
      "execution_count": null,
      "metadata": {
        "id": "LJIpCTTG0nSM"
      },
      "outputs": [],
      "source": [
        "check_fields = combined_licit[['NR_LICITACAO', 'ANO_LICITACAO', 'CD_TIPO_MODALIDADE']].values # get the values from those fields \n",
        "boolean_series = combined_item[['NR_LICITACAO', 'ANO_LICITACAO', 'CD_TIPO_MODALIDADE']].isin(check_fields) # getting the boolean series to filter from combined_item\n",
        "combined_item = combined_item[boolean_series] # filtering from the boolean series\n",
        "combined_item.reset_index(inplace=True, drop=True)\n",
        "combined_item.head()\n"
      ]
    },
    {
      "cell_type": "code",
      "execution_count": null,
      "metadata": {
        "id": "oYgLiktF0nSM"
      },
      "outputs": [],
      "source": [
        "combined_item.head()"
      ]
    },
    {
      "cell_type": "code",
      "execution_count": null,
      "metadata": {
        "id": "0OVMY2U30nSM"
      },
      "outputs": [],
      "source": [
        "combined_licit.head()"
      ]
    }
  ],
  "metadata": {
    "interpreter": {
      "hash": "a4ebc76ad9d7e6de8f1f27745eeb2e994a5682238ecd675a73f317097a250eb4"
    },
    "kernelspec": {
      "display_name": "Python 3.10.2 ('venv': venv)",
      "language": "python",
      "name": "python3"
    },
    "language_info": {
      "codemirror_mode": {
        "name": "ipython",
        "version": 3
      },
      "file_extension": ".py",
      "mimetype": "text/x-python",
      "name": "python",
      "nbconvert_exporter": "python",
      "pygments_lexer": "ipython3",
      "version": "3.10.2"
    },
    "orig_nbformat": 4,
    "colab": {
      "name": "analisys.ipynb",
      "provenance": []
    }
  },
  "nbformat": 4,
  "nbformat_minor": 0
}