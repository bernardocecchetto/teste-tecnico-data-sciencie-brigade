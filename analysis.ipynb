{
  "cells": [
    {
      "cell_type": "markdown",
      "metadata": {
        "id": "oFQeaeDn0nR_"
      },
      "source": [
        "Importing all the packages that will be necessary"
      ]
    },
    {
      "cell_type": "code",
      "execution_count": 1,
      "metadata": {
        "id": "ryYGnHgm0nSC"
      },
      "outputs": [],
      "source": [
        "import pandas as pd\n",
        "import numpy as np\n",
        "import matplotlib.pyplot as plt\n",
        "import seaborn as sns\n",
        "import os\n",
        "import glob\n",
        "import warnings\n",
        "warnings.filterwarnings(\"ignore\")\n"
      ]
    },
    {
      "cell_type": "markdown",
      "metadata": {
        "id": "oEzkOjb-0nSD"
      },
      "source": [
        "Combining all the item's csv files in one dataframe"
      ]
    },
    {
      "cell_type": "code",
      "execution_count": 2,
      "metadata": {
        "colab": {
          "base_uri": "https://localhost:8080/"
        },
        "id": "fNfgntGR0nSE",
        "outputId": "88c14b7e-ff9c-4f21-bdcc-dc41ed0fe644"
      },
      "outputs": [],
      "source": [
        "owd = os.getcwd() #saving in a variable the original directory\n",
        "\n",
        "os.chdir(\"data\\item\") #accessing the directory from the item's files\n",
        "extension = 'csv' #extension of the files\n",
        "all_filenames_item = [i for i in glob.glob('*.{}'.format(extension))] #transforming in a list all the filenames from the directory\n",
        "combined_item = pd.concat([pd.read_csv(f) for f in all_filenames_item ]) #combine all files in the list\n",
        "\n"
      ]
    },
    {
      "cell_type": "markdown",
      "metadata": {
        "id": "0UBaXNGk0nSF"
      },
      "source": [
        "Combining all the licitacao's csv files in one dataframe"
      ]
    },
    {
      "cell_type": "code",
      "execution_count": 3,
      "metadata": {
        "colab": {
          "base_uri": "https://localhost:8080/"
        },
        "id": "lYOxb5kx0nSF",
        "outputId": "95aa4cf5-2554-409a-f580-8aa0b5374fad"
      },
      "outputs": [],
      "source": [
        "os.chdir(owd) #returning to the original directory\n",
        "os.chdir(\"data\\licitacao\") #accessing the directory from the item's files\n",
        "extension = 'csv' #extension of the files\n",
        "all_filenames_licit = [i for i in glob.glob('*.{}'.format(extension))] #transforming in a list all the filenames from the directory\n",
        "combined_licit = pd.concat([pd.read_csv(f) for f in all_filenames_licit ]) #combine all files in the list\n",
        "\n"
      ]
    },
    {
      "cell_type": "code",
      "execution_count": 4,
      "metadata": {
        "colab": {
          "base_uri": "https://localhost:8080/",
          "height": 438
        },
        "id": "rlUm_FEJcabt",
        "outputId": "aa58dcbd-ad29-465e-e4da-2c7acd37033b"
      },
      "outputs": [
        {
          "data": {
            "text/html": [
              "<div>\n",
              "<style scoped>\n",
              "    .dataframe tbody tr th:only-of-type {\n",
              "        vertical-align: middle;\n",
              "    }\n",
              "\n",
              "    .dataframe tbody tr th {\n",
              "        vertical-align: top;\n",
              "    }\n",
              "\n",
              "    .dataframe thead th {\n",
              "        text-align: right;\n",
              "    }\n",
              "</style>\n",
              "<table border=\"1\" class=\"dataframe\">\n",
              "  <thead>\n",
              "    <tr style=\"text-align: right;\">\n",
              "      <th></th>\n",
              "      <th>CD_ORGAO</th>\n",
              "      <th>NM_ORGAO</th>\n",
              "      <th>NR_LICITACAO</th>\n",
              "      <th>ANO_LICITACAO</th>\n",
              "      <th>CD_TIPO_MODALIDADE</th>\n",
              "      <th>NR_COMISSAO</th>\n",
              "      <th>ANO_COMISSAO</th>\n",
              "      <th>TP_COMISSAO</th>\n",
              "      <th>NR_PROCESSO</th>\n",
              "      <th>ANO_PROCESSO</th>\n",
              "      <th>...</th>\n",
              "      <th>TP_DOCUMENTO_FORNECEDOR</th>\n",
              "      <th>NR_DOCUMENTO_FORNECEDOR</th>\n",
              "      <th>TP_DOCUMENTO_VENCEDOR</th>\n",
              "      <th>NR_DOCUMENTO_VENCEDOR</th>\n",
              "      <th>VL_HOMOLOGADO</th>\n",
              "      <th>BL_GERA_DESPESA</th>\n",
              "      <th>DS_OBSERVACAO</th>\n",
              "      <th>PC_TX_ESTIMADA</th>\n",
              "      <th>PC_TX_HOMOLOGADA</th>\n",
              "      <th>BL_COMPARTILHADA</th>\n",
              "    </tr>\n",
              "  </thead>\n",
              "  <tbody>\n",
              "    <tr>\n",
              "      <th>0</th>\n",
              "      <td>84100</td>\n",
              "      <td>PM DE ESPERANÇA DO SUL</td>\n",
              "      <td>1.0</td>\n",
              "      <td>2016</td>\n",
              "      <td>CNV</td>\n",
              "      <td>12.0</td>\n",
              "      <td>2016.0</td>\n",
              "      <td>P</td>\n",
              "      <td>001</td>\n",
              "      <td>2016.0</td>\n",
              "      <td>...</td>\n",
              "      <td>NaN</td>\n",
              "      <td>NaN</td>\n",
              "      <td>J</td>\n",
              "      <td>6233397000148.0</td>\n",
              "      <td>6420.0</td>\n",
              "      <td>S</td>\n",
              "      <td>NaN</td>\n",
              "      <td>NaN</td>\n",
              "      <td>NaN</td>\n",
              "      <td>N</td>\n",
              "    </tr>\n",
              "    <tr>\n",
              "      <th>1</th>\n",
              "      <td>84100</td>\n",
              "      <td>PM DE ESPERANÇA DO SUL</td>\n",
              "      <td>4.0</td>\n",
              "      <td>2016</td>\n",
              "      <td>CNV</td>\n",
              "      <td>12.0</td>\n",
              "      <td>2016.0</td>\n",
              "      <td>P</td>\n",
              "      <td>003</td>\n",
              "      <td>2016.0</td>\n",
              "      <td>...</td>\n",
              "      <td>NaN</td>\n",
              "      <td>NaN</td>\n",
              "      <td>NaN</td>\n",
              "      <td>NaN</td>\n",
              "      <td>NaN</td>\n",
              "      <td>S</td>\n",
              "      <td>NaN</td>\n",
              "      <td>NaN</td>\n",
              "      <td>NaN</td>\n",
              "      <td>N</td>\n",
              "    </tr>\n",
              "    <tr>\n",
              "      <th>2</th>\n",
              "      <td>82701</td>\n",
              "      <td>CM DE XANGRI-LÁ</td>\n",
              "      <td>1.0</td>\n",
              "      <td>2016</td>\n",
              "      <td>PRP</td>\n",
              "      <td>12.0</td>\n",
              "      <td>2016.0</td>\n",
              "      <td>G</td>\n",
              "      <td>01</td>\n",
              "      <td>2016.0</td>\n",
              "      <td>...</td>\n",
              "      <td>NaN</td>\n",
              "      <td>NaN</td>\n",
              "      <td>NaN</td>\n",
              "      <td>NaN</td>\n",
              "      <td>NaN</td>\n",
              "      <td>S</td>\n",
              "      <td>NaN</td>\n",
              "      <td>NaN</td>\n",
              "      <td>NaN</td>\n",
              "      <td>N</td>\n",
              "    </tr>\n",
              "    <tr>\n",
              "      <th>3</th>\n",
              "      <td>84100</td>\n",
              "      <td>PM DE ESPERANÇA DO SUL</td>\n",
              "      <td>6.0</td>\n",
              "      <td>2016</td>\n",
              "      <td>CNV</td>\n",
              "      <td>12.0</td>\n",
              "      <td>2016.0</td>\n",
              "      <td>P</td>\n",
              "      <td>005</td>\n",
              "      <td>2016.0</td>\n",
              "      <td>...</td>\n",
              "      <td>NaN</td>\n",
              "      <td>NaN</td>\n",
              "      <td>NaN</td>\n",
              "      <td>NaN</td>\n",
              "      <td>NaN</td>\n",
              "      <td>S</td>\n",
              "      <td>NaN</td>\n",
              "      <td>NaN</td>\n",
              "      <td>NaN</td>\n",
              "      <td>N</td>\n",
              "    </tr>\n",
              "    <tr>\n",
              "      <th>4</th>\n",
              "      <td>63900</td>\n",
              "      <td>PM DE COTIPORÃ</td>\n",
              "      <td>36.0</td>\n",
              "      <td>2016</td>\n",
              "      <td>PRD</td>\n",
              "      <td>NaN</td>\n",
              "      <td>NaN</td>\n",
              "      <td>NaN</td>\n",
              "      <td>344</td>\n",
              "      <td>2016.0</td>\n",
              "      <td>...</td>\n",
              "      <td>J</td>\n",
              "      <td>9255424000171.0</td>\n",
              "      <td>NaN</td>\n",
              "      <td>NaN</td>\n",
              "      <td>NaN</td>\n",
              "      <td>S</td>\n",
              "      <td>NaN</td>\n",
              "      <td>NaN</td>\n",
              "      <td>NaN</td>\n",
              "      <td>N</td>\n",
              "    </tr>\n",
              "  </tbody>\n",
              "</table>\n",
              "<p>5 rows × 61 columns</p>\n",
              "</div>"
            ],
            "text/plain": [
              "   CD_ORGAO                NM_ORGAO  NR_LICITACAO  ANO_LICITACAO  \\\n",
              "0     84100  PM DE ESPERANÇA DO SUL           1.0           2016   \n",
              "1     84100  PM DE ESPERANÇA DO SUL           4.0           2016   \n",
              "2     82701         CM DE XANGRI-LÁ           1.0           2016   \n",
              "3     84100  PM DE ESPERANÇA DO SUL           6.0           2016   \n",
              "4     63900          PM DE COTIPORÃ          36.0           2016   \n",
              "\n",
              "  CD_TIPO_MODALIDADE  NR_COMISSAO  ANO_COMISSAO TP_COMISSAO NR_PROCESSO  \\\n",
              "0                CNV         12.0        2016.0           P         001   \n",
              "1                CNV         12.0        2016.0           P         003   \n",
              "2                PRP         12.0        2016.0           G          01   \n",
              "3                CNV         12.0        2016.0           P         005   \n",
              "4                PRD          NaN           NaN         NaN         344   \n",
              "\n",
              "   ANO_PROCESSO  ... TP_DOCUMENTO_FORNECEDOR NR_DOCUMENTO_FORNECEDOR  \\\n",
              "0        2016.0  ...                     NaN                     NaN   \n",
              "1        2016.0  ...                     NaN                     NaN   \n",
              "2        2016.0  ...                     NaN                     NaN   \n",
              "3        2016.0  ...                     NaN                     NaN   \n",
              "4        2016.0  ...                       J         9255424000171.0   \n",
              "\n",
              "  TP_DOCUMENTO_VENCEDOR NR_DOCUMENTO_VENCEDOR VL_HOMOLOGADO BL_GERA_DESPESA  \\\n",
              "0                     J       6233397000148.0        6420.0               S   \n",
              "1                   NaN                   NaN           NaN               S   \n",
              "2                   NaN                   NaN           NaN               S   \n",
              "3                   NaN                   NaN           NaN               S   \n",
              "4                   NaN                   NaN           NaN               S   \n",
              "\n",
              "  DS_OBSERVACAO PC_TX_ESTIMADA PC_TX_HOMOLOGADA BL_COMPARTILHADA  \n",
              "0           NaN            NaN              NaN                N  \n",
              "1           NaN            NaN              NaN                N  \n",
              "2           NaN            NaN              NaN                N  \n",
              "3           NaN            NaN              NaN                N  \n",
              "4           NaN            NaN              NaN                N  \n",
              "\n",
              "[5 rows x 61 columns]"
            ]
          },
          "execution_count": 4,
          "metadata": {},
          "output_type": "execute_result"
        }
      ],
      "source": [
        "combined_licit.head()"
      ]
    },
    {
      "cell_type": "markdown",
      "metadata": {
        "id": "_f45aK460nSI"
      },
      "source": [
        "Filtering only the relevant columns and values for the test (advice from the enterprise)"
      ]
    },
    {
      "cell_type": "code",
      "execution_count": 5,
      "metadata": {
        "id": "-NWX26gB0nSI"
      },
      "outputs": [],
      "source": [
        "combined_licit = combined_licit.loc[combined_licit['TP_OBJETO'] == \"COM\"]\n",
        "\n",
        "combined_licit = combined_licit[['NR_LICITACAO','ANO_LICITACAO', 'CD_TIPO_MODALIDADE', 'NM_ORGAO_GERENCIADOR','DS_OBJETO', 'TP_OBJETO']] # filtering only the relevant columns (advice from the company)\n",
        "combined_item = combined_item[['NR_LICITACAO','ANO_LICITACAO', 'CD_TIPO_MODALIDADE', 'NR_LOTE', 'NR_ITEM_ORIGINAL','DS_ITEM', 'VL_UNITARIO_HOMOLOGADO']] # filtering only the relevant columns (advice from the company)"
      ]
    },
    {
      "cell_type": "markdown",
      "metadata": {
        "id": "EyLHrPaKeMI6"
      },
      "source": [
        "Now I will remove (if it exists) duplicates from combined_licit, becase, as the public organ from RS says:\n",
        "\n",
        "***Informações relacionadas aos processos licitatórios sendo realizados.\n",
        "Não podem ser informados, para um mesmo arquivo de leiaute, dois ou mais\n",
        "registros com a mesma combinação de valores dos campos formadores da chave do\n",
        "registro. A chave deste registro é: NR_LICITACAO, ANO_LICITACAO e\n",
        "CD_TIPO_MODALIDADE.***\n",
        "\n",
        "So I dropped those that have these fields duplicated\n",
        "\n",
        "\n"
      ]
    },
    {
      "cell_type": "code",
      "execution_count": 6,
      "metadata": {
        "id": "MhCoorwociPB"
      },
      "outputs": [],
      "source": [
        "combined_licit.drop_duplicates(subset=['NR_LICITACAO', 'ANO_LICITACAO', 'CD_TIPO_MODALIDADE'], inplace=True)"
      ]
    },
    {
      "cell_type": "code",
      "execution_count": 7,
      "metadata": {
        "id": "L8qGGIwbeK7k"
      },
      "outputs": [],
      "source": [
        "combined_licit.reset_index(inplace=True, drop=True) #reseting index"
      ]
    },
    {
      "cell_type": "code",
      "execution_count": 8,
      "metadata": {
        "colab": {
          "base_uri": "https://localhost:8080/",
          "height": 206
        },
        "id": "vTJqDpWgclMb",
        "outputId": "1efab339-d3ba-4757-b04b-eefbfa423787"
      },
      "outputs": [
        {
          "data": {
            "text/html": [
              "<div>\n",
              "<style scoped>\n",
              "    .dataframe tbody tr th:only-of-type {\n",
              "        vertical-align: middle;\n",
              "    }\n",
              "\n",
              "    .dataframe tbody tr th {\n",
              "        vertical-align: top;\n",
              "    }\n",
              "\n",
              "    .dataframe thead th {\n",
              "        text-align: right;\n",
              "    }\n",
              "</style>\n",
              "<table border=\"1\" class=\"dataframe\">\n",
              "  <thead>\n",
              "    <tr style=\"text-align: right;\">\n",
              "      <th></th>\n",
              "      <th>NR_LICITACAO</th>\n",
              "      <th>ANO_LICITACAO</th>\n",
              "      <th>CD_TIPO_MODALIDADE</th>\n",
              "      <th>NM_ORGAO_GERENCIADOR</th>\n",
              "      <th>DS_OBJETO</th>\n",
              "      <th>TP_OBJETO</th>\n",
              "    </tr>\n",
              "  </thead>\n",
              "  <tbody>\n",
              "    <tr>\n",
              "      <th>0</th>\n",
              "      <td>4.0</td>\n",
              "      <td>2016</td>\n",
              "      <td>CNV</td>\n",
              "      <td>NaN</td>\n",
              "      <td>Aquisição de merenda escolar</td>\n",
              "      <td>COM</td>\n",
              "    </tr>\n",
              "    <tr>\n",
              "      <th>1</th>\n",
              "      <td>1.0</td>\n",
              "      <td>2016</td>\n",
              "      <td>PRP</td>\n",
              "      <td>NaN</td>\n",
              "      <td>AQUISIÇÃO DE PROTOCOLADORA E FRAGMENTADORA DE ...</td>\n",
              "      <td>COM</td>\n",
              "    </tr>\n",
              "    <tr>\n",
              "      <th>2</th>\n",
              "      <td>6.0</td>\n",
              "      <td>2016</td>\n",
              "      <td>CNV</td>\n",
              "      <td>NaN</td>\n",
              "      <td>Aquisição de materiais de limpeza para as dive...</td>\n",
              "      <td>COM</td>\n",
              "    </tr>\n",
              "    <tr>\n",
              "      <th>3</th>\n",
              "      <td>3.0</td>\n",
              "      <td>2016</td>\n",
              "      <td>PRP</td>\n",
              "      <td>NaN</td>\n",
              "      <td>Aquisição de tubos de concreto</td>\n",
              "      <td>COM</td>\n",
              "    </tr>\n",
              "    <tr>\n",
              "      <th>4</th>\n",
              "      <td>6.0</td>\n",
              "      <td>2016</td>\n",
              "      <td>PRP</td>\n",
              "      <td>NaN</td>\n",
              "      <td>Aquisição de módulos de comunicação de dados ...</td>\n",
              "      <td>COM</td>\n",
              "    </tr>\n",
              "  </tbody>\n",
              "</table>\n",
              "</div>"
            ],
            "text/plain": [
              "   NR_LICITACAO  ANO_LICITACAO CD_TIPO_MODALIDADE NM_ORGAO_GERENCIADOR  \\\n",
              "0           4.0           2016                CNV                  NaN   \n",
              "1           1.0           2016                PRP                  NaN   \n",
              "2           6.0           2016                CNV                  NaN   \n",
              "3           3.0           2016                PRP                  NaN   \n",
              "4           6.0           2016                PRP                  NaN   \n",
              "\n",
              "                                           DS_OBJETO TP_OBJETO  \n",
              "0                      Aquisição de merenda escolar        COM  \n",
              "1  AQUISIÇÃO DE PROTOCOLADORA E FRAGMENTADORA DE ...       COM  \n",
              "2  Aquisição de materiais de limpeza para as dive...       COM  \n",
              "3                     Aquisição de tubos de concreto       COM  \n",
              "4   Aquisição de módulos de comunicação de dados ...       COM  "
            ]
          },
          "execution_count": 8,
          "metadata": {},
          "output_type": "execute_result"
        }
      ],
      "source": [
        "combined_licit.head()"
      ]
    },
    {
      "cell_type": "markdown",
      "metadata": {
        "id": "FGBm31xxevPZ"
      },
      "source": [
        "Now I will remove (if it exists) duplicates from combined_item, becase, as the public organ from RS says:\n",
        "\n",
        "***Não podem ser informados, para um mesmo arquivo de leiaute, dois ou mais\n",
        "registros com a mesma combinação de valores dos campos formadores da chave do registro. A chave deste registro é: NR_LICITACAO, ANO_LICITACAO,\n",
        "CD_TIPO_MODALIDADE, NR_LOTE e NR_ITEM.***\n",
        "\n",
        "So I dropped those that have these fields duplicated\n",
        "\n"
      ]
    },
    {
      "cell_type": "code",
      "execution_count": 9,
      "metadata": {
        "id": "IzCK1114fB-s"
      },
      "outputs": [],
      "source": [
        "combined_item.drop_duplicates(subset=['NR_LICITACAO', 'ANO_LICITACAO', 'CD_TIPO_MODALIDADE', 'NR_LOTE', 'NR_ITEM_ORIGINAL'], inplace=True)"
      ]
    },
    {
      "cell_type": "code",
      "execution_count": 10,
      "metadata": {
        "id": "a105vfVQfB-t"
      },
      "outputs": [],
      "source": [
        "combined_item.reset_index(inplace=True, drop=True) #reseting index"
      ]
    },
    {
      "cell_type": "code",
      "execution_count": 11,
      "metadata": {
        "colab": {
          "base_uri": "https://localhost:8080/",
          "height": 206
        },
        "id": "x4qNI5CNfB-u",
        "outputId": "6db6d54d-c51b-45f3-f2ad-4f0f2f64c869"
      },
      "outputs": [
        {
          "data": {
            "text/html": [
              "<div>\n",
              "<style scoped>\n",
              "    .dataframe tbody tr th:only-of-type {\n",
              "        vertical-align: middle;\n",
              "    }\n",
              "\n",
              "    .dataframe tbody tr th {\n",
              "        vertical-align: top;\n",
              "    }\n",
              "\n",
              "    .dataframe thead th {\n",
              "        text-align: right;\n",
              "    }\n",
              "</style>\n",
              "<table border=\"1\" class=\"dataframe\">\n",
              "  <thead>\n",
              "    <tr style=\"text-align: right;\">\n",
              "      <th></th>\n",
              "      <th>NR_LICITACAO</th>\n",
              "      <th>ANO_LICITACAO</th>\n",
              "      <th>CD_TIPO_MODALIDADE</th>\n",
              "      <th>NR_LOTE</th>\n",
              "      <th>NR_ITEM_ORIGINAL</th>\n",
              "      <th>DS_ITEM</th>\n",
              "      <th>VL_UNITARIO_HOMOLOGADO</th>\n",
              "    </tr>\n",
              "  </thead>\n",
              "  <tbody>\n",
              "    <tr>\n",
              "      <th>0</th>\n",
              "      <td>15.0</td>\n",
              "      <td>2016</td>\n",
              "      <td>PRP</td>\n",
              "      <td>1</td>\n",
              "      <td>2</td>\n",
              "      <td>Pneu 1000/20 liso radial, dianteiro, 16 lonas,...</td>\n",
              "      <td>1430.0</td>\n",
              "    </tr>\n",
              "    <tr>\n",
              "      <th>1</th>\n",
              "      <td>15.0</td>\n",
              "      <td>2016</td>\n",
              "      <td>PRP</td>\n",
              "      <td>1</td>\n",
              "      <td>4</td>\n",
              "      <td>Pneu 12.4x24 garra baixa, 10 lonas</td>\n",
              "      <td>1258.0</td>\n",
              "    </tr>\n",
              "    <tr>\n",
              "      <th>2</th>\n",
              "      <td>15.0</td>\n",
              "      <td>2016</td>\n",
              "      <td>PRP</td>\n",
              "      <td>1</td>\n",
              "      <td>7</td>\n",
              "      <td>Pneu 1400x24 mínimo 12 lonas</td>\n",
              "      <td>1998.0</td>\n",
              "    </tr>\n",
              "    <tr>\n",
              "      <th>3</th>\n",
              "      <td>15.0</td>\n",
              "      <td>2016</td>\n",
              "      <td>PRP</td>\n",
              "      <td>1</td>\n",
              "      <td>8</td>\n",
              "      <td>Pneu 17.5x25 12 lonas, capacidade mínima de ca...</td>\n",
              "      <td>2978.0</td>\n",
              "    </tr>\n",
              "    <tr>\n",
              "      <th>4</th>\n",
              "      <td>15.0</td>\n",
              "      <td>2016</td>\n",
              "      <td>PRP</td>\n",
              "      <td>1</td>\n",
              "      <td>12</td>\n",
              "      <td>Pneu 18.4x30 garra baixa, mínimo 10 lonas</td>\n",
              "      <td>2500.0</td>\n",
              "    </tr>\n",
              "  </tbody>\n",
              "</table>\n",
              "</div>"
            ],
            "text/plain": [
              "   NR_LICITACAO  ANO_LICITACAO CD_TIPO_MODALIDADE  NR_LOTE NR_ITEM_ORIGINAL  \\\n",
              "0          15.0           2016                PRP        1                2   \n",
              "1          15.0           2016                PRP        1                4   \n",
              "2          15.0           2016                PRP        1                7   \n",
              "3          15.0           2016                PRP        1                8   \n",
              "4          15.0           2016                PRP        1               12   \n",
              "\n",
              "                                             DS_ITEM  VL_UNITARIO_HOMOLOGADO  \n",
              "0  Pneu 1000/20 liso radial, dianteiro, 16 lonas,...                  1430.0  \n",
              "1                 Pneu 12.4x24 garra baixa, 10 lonas                  1258.0  \n",
              "2                       Pneu 1400x24 mínimo 12 lonas                  1998.0  \n",
              "3  Pneu 17.5x25 12 lonas, capacidade mínima de ca...                  2978.0  \n",
              "4          Pneu 18.4x30 garra baixa, mínimo 10 lonas                  2500.0  "
            ]
          },
          "execution_count": 11,
          "metadata": {},
          "output_type": "execute_result"
        }
      ],
      "source": [
        "combined_item.head()"
      ]
    },
    {
      "cell_type": "code",
      "execution_count": 12,
      "metadata": {
        "colab": {
          "base_uri": "https://localhost:8080/"
        },
        "id": "GK_V-4GGfVRq",
        "outputId": "3dee5144-389f-496f-872e-d00ba5d16007"
      },
      "outputs": [
        {
          "name": "stdout",
          "output_type": "stream",
          "text": [
            "Shape from licitacao's dataframe: (13362, 6)\n",
            "Shape from item's dataframe: (1616670, 7)\n"
          ]
        }
      ],
      "source": [
        "print(\"Shape from licitacao's dataframe: \" + str(np.shape(combined_licit)))\n",
        "print(\"Shape from item's dataframe: \" + str(np.shape(combined_item)))"
      ]
    },
    {
      "cell_type": "markdown",
      "metadata": {
        "id": "j4AzmT8LdVxC"
      },
      "source": [
        "## Now we have both dataframes filtered. I would like to merge them, but I will not because of memory usage from my computer, which is a limitation for me."
      ]
    },
    {
      "cell_type": "markdown",
      "metadata": {
        "id": "VeGMnWeKgkGx"
      },
      "source": [
        "As the field 'DS_ITEM' doesn't have a pattern of writting, we will just check how many unique values this has:"
      ]
    },
    {
      "cell_type": "code",
      "execution_count": 13,
      "metadata": {
        "colab": {
          "base_uri": "https://localhost:8080/"
        },
        "id": "5eok1xN5gTJI",
        "outputId": "810e8858-73ff-472e-91ed-645c140b13ba"
      },
      "outputs": [
        {
          "data": {
            "text/plain": [
              "958792"
            ]
          },
          "execution_count": 13,
          "metadata": {},
          "output_type": "execute_result"
        }
      ],
      "source": [
        "len(combined_item['DS_ITEM'].unique())"
      ]
    },
    {
      "cell_type": "markdown",
      "metadata": {
        "id": "IsM5_3JnoA_h"
      },
      "source": [
        "But, first, lets check if has some fields that have some pattern, just to have sure:"
      ]
    },
    {
      "cell_type": "code",
      "execution_count": 14,
      "metadata": {
        "colab": {
          "base_uri": "https://localhost:8080/"
        },
        "id": "Zn1CgJ39nMM7",
        "outputId": "6e6e599f-36ba-4513-9078-975b94f471e6"
      },
      "outputs": [
        {
          "data": {
            "text/plain": [
              "SERVIÇO                      1658\n",
              "LIVRO                        1142\n",
              "MATERIAL                      900\n",
              "MANGUEIRA SILICONE 2.1/2\"     827\n",
              "FILTRO                        669\n",
              "PNEU                          599\n",
              "SERVIÇOS GERAIS               567\n",
              "CENOURA                       554\n",
              "BETERRABA                     538\n",
              "VALE TRANSPORTE               526\n",
              "Name: DS_ITEM, dtype: int64"
            ]
          },
          "execution_count": 14,
          "metadata": {},
          "output_type": "execute_result"
        }
      ],
      "source": [
        "combined_item['DS_ITEM'].value_counts()[:10]"
      ]
    },
    {
      "cell_type": "markdown",
      "metadata": {
        "id": "6p31FPg3oGPx"
      },
      "source": [
        "That's it! So we can realize that some fields have some patterns to be written, e some other, does not. \\\n",
        "\n",
        "So we can see that the most bought item is \"Serviço\", the second, \"Livro\", the third, \"Material\" and etc. But let's see that in a histogram. I will plot just the top 30 most common items. But why the top 30? Because we have too much data, and I think with the top 30 we can have a good view of what's happening."
      ]
    },
    {
      "cell_type": "code",
      "execution_count": 15,
      "metadata": {
        "colab": {
          "base_uri": "https://localhost:8080/",
          "height": 369
        },
        "id": "8VtThp3lovJU",
        "outputId": "4bb933a5-3a13-44b4-d943-04236fbc87a8"
      },
      "outputs": [
        {
          "data": {
            "image/png": "[encoded data removed]",
            "text/plain": [
              "<Figure size 720x360 with 1 Axes>"
            ]
          },
          "metadata": {
            "needs_background": "light"
          },
          "output_type": "display_data"
        }
      ],
      "source": [
        "top = 30\n",
        "from matplotlib.pyplot import figure\n",
        "\n",
        "figure(figsize=(10, 5))\n",
        "combined_item['DS_ITEM'].value_counts()[:top].sort_values().plot.barh()\n",
        "plt.xlabel(\"Count\")\n",
        "plt.tight_layout()\n"
      ]
    },
    {
      "cell_type": "markdown",
      "metadata": {
        "id": "BwR5T84Bw05N"
      },
      "source": [
        "Ok, now we have the top 30 items that was bought. We can see that has some car stuffs and some foods. But, mostly, we have more service items. But lets divide this by year: lets see the most common item bought divided by the year"
      ]
    },
    {
      "cell_type": "code",
      "execution_count": 16,
      "metadata": {
        "colab": {
          "base_uri": "https://localhost:8080/",
          "height": 621
        },
        "id": "Q8GByy8HxTY0",
        "outputId": "984209fc-d3c3-4d3a-e9a4-5d012738b909"
      },
      "outputs": [
        {
          "data": {
            "image/png": "[encoded data removed]",
            "text/plain": [
              "<Figure size 720x720 with 4 Axes>"
            ]
          },
          "metadata": {
            "needs_background": "light"
          },
          "output_type": "display_data"
        }
      ],
      "source": [
        "top = 1\n",
        "from matplotlib.pyplot import figure\n",
        "figure(figsize=(10, 10))\n",
        "plot = 1\n",
        "for i in ([2016, 2017, 2018, 2019]):\n",
        "  plt.subplot(2,2,plot)\n",
        "  plt.title(\"Year: \" + str(i))\n",
        "  combined_item['DS_ITEM'][combined_item['ANO_LICITACAO'] == i].value_counts()[:top].sort_values().plot.barh()\n",
        "  plt.xlabel('Count')\n",
        "  plot+=1"
      ]
    },
    {
      "cell_type": "markdown",
      "metadata": {
        "id": "4Q-wfYPC1CVf"
      },
      "source": [
        "Now we can see that services wasn't all the time the most common bought item. We can see that in 2016 it was materials, and in 2019 was Livro the most common. But lets analyse how much was SPENT with these items. Because Serviço can be the most frequent, but not necessarily is the one that was most spent with it. \\\n",
        "Lets analyse first with all the data, with all the 4 years."
      ]
    },
    {
      "cell_type": "code",
      "execution_count": 17,
      "metadata": {
        "id": "CgkeSGA72MgJ"
      },
      "outputs": [],
      "source": [
        "items = combined_item['DS_ITEM'].value_counts()[:10].keys() # save the top items\n",
        "\n",
        "most_freq_items = combined_item[combined_item['DS_ITEM'].isin(items)] #filtering the dataframe only with the top-10 most frequent items"
      ]
    },
    {
      "cell_type": "code",
      "execution_count": 18,
      "metadata": {
        "colab": {
          "base_uri": "https://localhost:8080/",
          "height": 296
        },
        "id": "4ZSxfSFm4WaQ",
        "outputId": "d7b20335-4be5-4b38-b93c-ce7599cc143d"
      },
      "outputs": [
        {
          "data": {
            "text/plain": [
              "Text(0.5, 0, 'Spent (R$)')"
            ]
          },
          "execution_count": 18,
          "metadata": {},
          "output_type": "execute_result"
        },
        {
          "data": {
            "image/png": "[encoded data removed]",
            "text/plain": [
              "<Figure size 432x288 with 1 Axes>"
            ]
          },
          "metadata": {
            "needs_background": "light"
          },
          "output_type": "display_data"
        }
      ],
      "source": [
        "most_freq_items.groupby('DS_ITEM').sum()['VL_UNITARIO_HOMOLOGADO'].sort_values().plot.barh()\n",
        "plt.xlabel(\"Spent (R$)\")"
      ]
    },
    {
      "cell_type": "markdown",
      "metadata": {
        "id": "NpXTQJjP5Eju"
      },
      "source": [
        "Ok, serviço is, by far, the item, between the most frequent ones, the most spent with it."
      ]
    },
    {
      "cell_type": "markdown",
      "metadata": {
        "id": "pJDnO9QXkkcc"
      },
      "source": [
        "Lets analyse this divider by year. That's it: how much was spent with the most frequent items by year?"
      ]
    },
    {
      "cell_type": "code",
      "execution_count": 19,
      "metadata": {
        "colab": {
          "base_uri": "https://localhost:8080/",
          "height": 1000
        },
        "id": "GqarAceEkr3h",
        "outputId": "65395629-6968-41ed-a134-370c1a7ed564"
      },
      "outputs": [
        {
          "data": {
            "image/png": "[encoded data removed]",
            "text/plain": [
              "<Figure size 1440x2160 with 4 Axes>"
            ]
          },
          "metadata": {
            "needs_background": "light"
          },
          "output_type": "display_data"
        }
      ],
      "source": [
        "from matplotlib.pyplot import figure\n",
        "figure(figsize=(20, 30))\n",
        "plot = 1\n",
        "for i in ([2016, 2017, 2018, 2019]):\n",
        "  plt.subplot(4,1,plot)\n",
        "  plt.title(\"Year: \" + str(i))\n",
        "  most_freq_items[most_freq_items['ANO_LICITACAO'] == i].groupby('DS_ITEM').sum()['VL_UNITARIO_HOMOLOGADO'].sort_values().plot.barh()\n",
        "  plt.xlabel(\"Spent (R$)\")  \n",
        "  plot+=1"
      ]
    },
    {
      "cell_type": "markdown",
      "metadata": {
        "id": "FTgSTUrRlfyR"
      },
      "source": [
        "All the years Serviço was the, between the most frequent ones, the one that was most spent with it. So, even if he wasn't the most frequent in each year, he is the most that was spent with it, between all the most frequent ones."
      ]
    },
    {
      "cell_type": "markdown",
      "metadata": {
        "id": "Lta10C9Q6T_w"
      },
      "source": [
        "Let's now check in the combined_licit dataframe what are those services, seeing the columns that specifies what are these licitations."
      ]
    },
    {
      "cell_type": "code",
      "execution_count": 20,
      "metadata": {
        "colab": {
          "base_uri": "https://localhost:8080/",
          "height": 206
        },
        "id": "rtbxYJJB60tc",
        "outputId": "6709527b-cdd5-4852-e222-f06b9a7a494d"
      },
      "outputs": [
        {
          "data": {
            "text/html": [
              "<div>\n",
              "<style scoped>\n",
              "    .dataframe tbody tr th:only-of-type {\n",
              "        vertical-align: middle;\n",
              "    }\n",
              "\n",
              "    .dataframe tbody tr th {\n",
              "        vertical-align: top;\n",
              "    }\n",
              "\n",
              "    .dataframe thead th {\n",
              "        text-align: right;\n",
              "    }\n",
              "</style>\n",
              "<table border=\"1\" class=\"dataframe\">\n",
              "  <thead>\n",
              "    <tr style=\"text-align: right;\">\n",
              "      <th></th>\n",
              "      <th>NR_LICITACAO</th>\n",
              "      <th>ANO_LICITACAO</th>\n",
              "      <th>CD_TIPO_MODALIDADE</th>\n",
              "      <th>NR_LOTE</th>\n",
              "      <th>NR_ITEM_ORIGINAL</th>\n",
              "      <th>DS_ITEM</th>\n",
              "      <th>VL_UNITARIO_HOMOLOGADO</th>\n",
              "    </tr>\n",
              "  </thead>\n",
              "  <tbody>\n",
              "    <tr>\n",
              "      <th>15793</th>\n",
              "      <td>22.0</td>\n",
              "      <td>2016</td>\n",
              "      <td>PRP</td>\n",
              "      <td>1</td>\n",
              "      <td>6124</td>\n",
              "      <td>SERVIÇO</td>\n",
              "      <td>34711.41</td>\n",
              "    </tr>\n",
              "    <tr>\n",
              "      <th>33406</th>\n",
              "      <td>22.0</td>\n",
              "      <td>2016</td>\n",
              "      <td>PRP</td>\n",
              "      <td>1</td>\n",
              "      <td>6123</td>\n",
              "      <td>SERVIÇO</td>\n",
              "      <td>28260.30</td>\n",
              "    </tr>\n",
              "    <tr>\n",
              "      <th>37221</th>\n",
              "      <td>25.0</td>\n",
              "      <td>2016</td>\n",
              "      <td>PRP</td>\n",
              "      <td>1</td>\n",
              "      <td>6136</td>\n",
              "      <td>SERVIÇO</td>\n",
              "      <td>48600.00</td>\n",
              "    </tr>\n",
              "    <tr>\n",
              "      <th>40543</th>\n",
              "      <td>29.0</td>\n",
              "      <td>2016</td>\n",
              "      <td>PRP</td>\n",
              "      <td>1</td>\n",
              "      <td>19880</td>\n",
              "      <td>SERVIÇO</td>\n",
              "      <td>15500.00</td>\n",
              "    </tr>\n",
              "    <tr>\n",
              "      <th>72282</th>\n",
              "      <td>4.0</td>\n",
              "      <td>2016</td>\n",
              "      <td>TMP</td>\n",
              "      <td>1</td>\n",
              "      <td>5938</td>\n",
              "      <td>SERVIÇO</td>\n",
              "      <td>12830.95</td>\n",
              "    </tr>\n",
              "  </tbody>\n",
              "</table>\n",
              "</div>"
            ],
            "text/plain": [
              "       NR_LICITACAO  ANO_LICITACAO CD_TIPO_MODALIDADE  NR_LOTE  \\\n",
              "15793          22.0           2016                PRP        1   \n",
              "33406          22.0           2016                PRP        1   \n",
              "37221          25.0           2016                PRP        1   \n",
              "40543          29.0           2016                PRP        1   \n",
              "72282           4.0           2016                TMP        1   \n",
              "\n",
              "      NR_ITEM_ORIGINAL  DS_ITEM  VL_UNITARIO_HOMOLOGADO  \n",
              "15793             6124  SERVIÇO                34711.41  \n",
              "33406             6123  SERVIÇO                28260.30  \n",
              "37221             6136  SERVIÇO                48600.00  \n",
              "40543            19880  SERVIÇO                15500.00  \n",
              "72282             5938  SERVIÇO                12830.95  "
            ]
          },
          "execution_count": 20,
          "metadata": {},
          "output_type": "execute_result"
        }
      ],
      "source": [
        "service_items = most_freq_items[most_freq_items['DS_ITEM'] == 'SERVIÇO'] # filtering only the serviços values\n",
        "service_items.head()"
      ]
    },
    {
      "cell_type": "markdown",
      "metadata": {
        "id": "X9VusPDNoiS5"
      },
      "source": [
        "here I am filtering in combined_licit only those fields that match with 'NR_LICITACAO',\t'ANO_LICITACAO' and\t'CD_TIPO_MODALIDADE' from service_items\n"
      ]
    },
    {
      "cell_type": "code",
      "execution_count": 21,
      "metadata": {
        "colab": {
          "base_uri": "https://localhost:8080/",
          "height": 337
        },
        "id": "MIfsOTW96a8p",
        "outputId": "5f341985-939d-4026-811c-b9f45d725b21"
      },
      "outputs": [
        {
          "data": {
            "text/html": [
              "<div>\n",
              "<style scoped>\n",
              "    .dataframe tbody tr th:only-of-type {\n",
              "        vertical-align: middle;\n",
              "    }\n",
              "\n",
              "    .dataframe tbody tr th {\n",
              "        vertical-align: top;\n",
              "    }\n",
              "\n",
              "    .dataframe thead th {\n",
              "        text-align: right;\n",
              "    }\n",
              "</style>\n",
              "<table border=\"1\" class=\"dataframe\">\n",
              "  <thead>\n",
              "    <tr style=\"text-align: right;\">\n",
              "      <th></th>\n",
              "      <th>NR_LICITACAO</th>\n",
              "      <th>ANO_LICITACAO</th>\n",
              "      <th>CD_TIPO_MODALIDADE</th>\n",
              "      <th>NR_LOTE</th>\n",
              "      <th>NR_ITEM_ORIGINAL</th>\n",
              "      <th>DS_ITEM</th>\n",
              "      <th>VL_UNITARIO_HOMOLOGADO</th>\n",
              "      <th>NM_ORGAO_GERENCIADOR</th>\n",
              "      <th>DS_OBJETO</th>\n",
              "      <th>TP_OBJETO</th>\n",
              "    </tr>\n",
              "  </thead>\n",
              "  <tbody>\n",
              "    <tr>\n",
              "      <th>0</th>\n",
              "      <td>22.0</td>\n",
              "      <td>2016</td>\n",
              "      <td>PRP</td>\n",
              "      <td>1</td>\n",
              "      <td>6124</td>\n",
              "      <td>SERVIÇO</td>\n",
              "      <td>34711.41</td>\n",
              "      <td>NaN</td>\n",
              "      <td>Aquisição de 60 t (sessenta toneladas) de Clor...</td>\n",
              "      <td>COM</td>\n",
              "    </tr>\n",
              "    <tr>\n",
              "      <th>1</th>\n",
              "      <td>22.0</td>\n",
              "      <td>2016</td>\n",
              "      <td>PRP</td>\n",
              "      <td>1</td>\n",
              "      <td>6123</td>\n",
              "      <td>SERVIÇO</td>\n",
              "      <td>28260.30</td>\n",
              "      <td>NaN</td>\n",
              "      <td>Aquisição de 60 t (sessenta toneladas) de Clor...</td>\n",
              "      <td>COM</td>\n",
              "    </tr>\n",
              "    <tr>\n",
              "      <th>2</th>\n",
              "      <td>22.0</td>\n",
              "      <td>2016</td>\n",
              "      <td>PRP</td>\n",
              "      <td>1</td>\n",
              "      <td>6125</td>\n",
              "      <td>SERVIÇO</td>\n",
              "      <td>NaN</td>\n",
              "      <td>NaN</td>\n",
              "      <td>Aquisição de 60 t (sessenta toneladas) de Clor...</td>\n",
              "      <td>COM</td>\n",
              "    </tr>\n",
              "    <tr>\n",
              "      <th>3</th>\n",
              "      <td>25.0</td>\n",
              "      <td>2016</td>\n",
              "      <td>PRP</td>\n",
              "      <td>1</td>\n",
              "      <td>6136</td>\n",
              "      <td>SERVIÇO</td>\n",
              "      <td>48600.00</td>\n",
              "      <td>NaN</td>\n",
              "      <td>Aquisição de 90 t (noventa toneladas) de Cloro...</td>\n",
              "      <td>COM</td>\n",
              "    </tr>\n",
              "    <tr>\n",
              "      <th>4</th>\n",
              "      <td>29.0</td>\n",
              "      <td>2016</td>\n",
              "      <td>PRP</td>\n",
              "      <td>1</td>\n",
              "      <td>19880</td>\n",
              "      <td>SERVIÇO</td>\n",
              "      <td>15500.00</td>\n",
              "      <td>NaN</td>\n",
              "      <td>Aquisição de lacres antifraude para extremidad...</td>\n",
              "      <td>COM</td>\n",
              "    </tr>\n",
              "  </tbody>\n",
              "</table>\n",
              "</div>"
            ],
            "text/plain": [
              "   NR_LICITACAO  ANO_LICITACAO CD_TIPO_MODALIDADE  NR_LOTE NR_ITEM_ORIGINAL  \\\n",
              "0          22.0           2016                PRP        1             6124   \n",
              "1          22.0           2016                PRP        1             6123   \n",
              "2          22.0           2016                PRP        1             6125   \n",
              "3          25.0           2016                PRP        1             6136   \n",
              "4          29.0           2016                PRP        1            19880   \n",
              "\n",
              "   DS_ITEM  VL_UNITARIO_HOMOLOGADO NM_ORGAO_GERENCIADOR  \\\n",
              "0  SERVIÇO                34711.41                  NaN   \n",
              "1  SERVIÇO                28260.30                  NaN   \n",
              "2  SERVIÇO                     NaN                  NaN   \n",
              "3  SERVIÇO                48600.00                  NaN   \n",
              "4  SERVIÇO                15500.00                  NaN   \n",
              "\n",
              "                                           DS_OBJETO TP_OBJETO  \n",
              "0  Aquisição de 60 t (sessenta toneladas) de Clor...       COM  \n",
              "1  Aquisição de 60 t (sessenta toneladas) de Clor...       COM  \n",
              "2  Aquisição de 60 t (sessenta toneladas) de Clor...       COM  \n",
              "3  Aquisição de 90 t (noventa toneladas) de Cloro...       COM  \n",
              "4  Aquisição de lacres antifraude para extremidad...       COM  "
            ]
          },
          "execution_count": 21,
          "metadata": {},
          "output_type": "execute_result"
        }
      ],
      "source": [
        "merge_servico_licit = pd.merge(service_items, combined_licit, on=['NR_LICITACAO',\t'ANO_LICITACAO',\t'CD_TIPO_MODALIDADE'], how='inner')\n",
        "\n",
        "merge_servico_licit.head()\n"
      ]
    },
    {
      "cell_type": "code",
      "execution_count": 22,
      "metadata": {
        "colab": {
          "base_uri": "https://localhost:8080/"
        },
        "id": "goxTESAvm4p0",
        "outputId": "246169e1-ee2d-4dea-b175-98130b9700a7"
      },
      "outputs": [
        {
          "data": {
            "text/plain": [
              "CONTRATAÇÃO DE HORAS MECÂNICAS PARA MANUTENÇÃO, RECUPERAÇÃO, AVALIAÇÃO, IDENTIFICAÇÃO E SUBSTITUIÇÃO DE PEÇAS NOS VEÍCULOS DA SMOV, SME, SMUTS E SMADR. O  PROCESSO LICITATÓRIO É EXCLUSIVO ÀS EMPRESAS  BENEFICIÁRIAS DA LC Nº 123/2006.                                                                                                      45\n",
              "Aquisição de alimentos não perecíveis.                                                                                                                                                                                                                                                                                                         45\n",
              "Aquisição de equipamento visando atender as necessidades das Salas multifuncionais das escolas da rede municipal, para atendimento de crianças com necessidades educacionais especiais, por dispensa de licitação, tendo em vista a empresa possuir exclusividade dos produtos oferecidos, para Secretaria Municipal de Educação e Cultura.    29\n",
              "AQUISIÇÃO EMERGENCIAL DE 9.000M³ DE OXIGÊNIO LÍQUIDO PARA O HOSPITAL MUNICIPAL DE SANTO ANTÔNIO DA PATRULHA.                                                                                                                                                                                                                                   24\n",
              "AQUISIÇÃO DE VEICULO AMBULANCIA TIPO A, ZERO KM DESTINADO A MANUTENÇÃO DAS ATIVIDADES DO CENTRO MUNICIPAL DE SAÚDE, PROPOSTA Nº 4305871712181747950                                                                                                                                                                                            24\n",
              "                                                                                                                                                                                                                                                                                                                                               ..\n",
              "Aquisição para vale transporte cerro grande do sul/ eldorado do sul- linha R Ipê x R Itai.                                                                                                                                                                                                                                                      1\n",
              "Aquisição de passagens para o transporte  escolar destinados a alunos do Novo Mais Educação da Escola Municipal de Ensino Fundamental Eva Alves Pereira.                                                                                                                                                                                        1\n",
              "vale transporte sem seguro linha 278, Barra do Ribeiro/ rádio itaí eldorado do sul                                                                                                                                                                                                                                                              1\n",
              "Materiais de consumo para conserto de Respiradores Servo, marca Maquet.                                                                                                                                                                                                                                                                         1\n",
              "Equipamento de processamento TIC - computadores                                                                                                                                                                                                                                                                                                 1\n",
              "Name: DS_OBJETO, Length: 552, dtype: int64"
            ]
          },
          "execution_count": 22,
          "metadata": {},
          "output_type": "execute_result"
        }
      ],
      "source": [
        "merge_servico_licit['DS_OBJETO'].value_counts()"
      ]
    },
    {
      "cell_type": "markdown",
      "metadata": {
        "id": "lUpETvN8pjpB"
      },
      "source": [
        "Here we can see what are these \"Serviço\" items. Mostly, are related to licitations about hiring hours in auto mechanics, or about a aquisition of some stuffs (aliments, equipaments, vehicles and etc).\n",
        "\n",
        "Here we can conclude some patterns observed: Serviço is, in the four years, the most frequent bought item, but not every year, in 2016 was material and in 2019 was livro. But, if we plot the histogram to analyse how much was spent with the items, serviço in all the years was the most frequent item that was most spent with it, between the most frequent items. \\\n",
        "These services have to do with spending on car maintenance, purchases of some products, contracts with companies, etc.\n"
      ]
    },
    {
      "cell_type": "markdown",
      "metadata": {
        "id": "CP1x9Xj_v8FM"
      },
      "source": [
        "Lets analyze now how much percent the Serviço represents from the state's budget. I expect that can be a high percentage. \n"
      ]
    },
    {
      "cell_type": "code",
      "execution_count": 23,
      "metadata": {
        "colab": {
          "base_uri": "https://localhost:8080/"
        },
        "id": "W7RJfKUBphdN",
        "outputId": "c452aa66-4af2-4cde-9014-c6f7648b1136"
      },
      "outputs": [
        {
          "name": "stdout",
          "output_type": "stream",
          "text": [
            "In 4 years, the state spent with licitations R$ 3618477301.0\n",
            " -------------------------------------------------------- \n",
            "R$ 40359705.0 was with serviço item\n",
            " -------------------------------------------------------- \n",
            "Serviço represents 1.0% of the total budget spent\n"
          ]
        }
      ],
      "source": [
        "servico_sum = combined_item['VL_UNITARIO_HOMOLOGADO'][combined_item['DS_ITEM'] == 'SERVIÇO'].sum()\n",
        "total_sum = combined_item['VL_UNITARIO_HOMOLOGADO'].sum()\n",
        "\n",
        "pct_servico = (servico_sum/total_sum)*100\n",
        "print('In 4 years, the state spent with licitations R$ ' + str(np.round(total_sum)))\n",
        "print(' -------------------------------------------------------- ')\n",
        "print('R$ ' + str(np.round(servico_sum)) + ' was with serviço item')\n",
        "print(' -------------------------------------------------------- ')\n",
        "print('Serviço represents ' + str(np.round(pct_servico)) + '% of the total budget spent')"
      ]
    },
    {
      "cell_type": "markdown",
      "metadata": {
        "id": "AG4khLhD0mZ6"
      },
      "source": [
        "The result is not what I was expecting, maybe can have some items that are not so frequent, mas are more expensive than Serviço."
      ]
    },
    {
      "cell_type": "markdown",
      "metadata": {},
      "source": [
        "Lets analyze one other thing: how much was spent in each year, the mean of budget spent and it deviation."
      ]
    },
    {
      "cell_type": "code",
      "execution_count": 24,
      "metadata": {},
      "outputs": [
        {
          "name": "stdout",
          "output_type": "stream",
          "text": [
            "In 2016 was spent an amount of R$ 716166857.0\n",
            "In 2017 was spent an amount of R$ 548529809.0\n",
            "In 2018 was spent an amount of R$ 1639339811.0\n",
            "In 2019 was spent an amount of R$ 714440824.0\n"
          ]
        }
      ],
      "source": [
        "budget_spent = []\n",
        "for i in ([2016, 2017, 2018, 2019]):\n",
        "    print('In ' + str(i) + ' was spent an amount of R$ '+\n",
        "    str(np.round(combined_item['VL_UNITARIO_HOMOLOGADO'][combined_item['ANO_LICITACAO'] == i].sum())))\n",
        "    # here i am saving in a list how much was spent by year just to make some calculations on it\n",
        "    budget_spent.append(np.round(combined_item['VL_UNITARIO_HOMOLOGADO'][combined_item['ANO_LICITACAO'] == i].sum()))\n"
      ]
    },
    {
      "cell_type": "code",
      "execution_count": 25,
      "metadata": {},
      "outputs": [
        {
          "data": {
            "text/plain": [
              "<BarContainer object of 4 artists>"
            ]
          },
          "execution_count": 25,
          "metadata": {},
          "output_type": "execute_result"
        },
        {
          "data": {
            "image/png": "[encoded data removed]",
            "text/plain": [
              "<Figure size 432x288 with 1 Axes>"
            ]
          },
          "metadata": {
            "needs_background": "light"
          },
          "output_type": "display_data"
        }
      ],
      "source": [
        "plt.title(\"Amount spent in each year from 2016 to 2019\")\n",
        "plt.xlabel('Year')\n",
        "plt.ylabel('Amount (R$)')\n",
        "plt.bar(['2016', '2017', '2018', '2019'], budget_spent )"
      ]
    },
    {
      "cell_type": "code",
      "execution_count": 26,
      "metadata": {},
      "outputs": [
        {
          "name": "stdout",
          "output_type": "stream",
          "text": [
            "The mean + std of amount spent is R$ 904619325.0 +/- R$ 429620801.0\n"
          ]
        }
      ],
      "source": [
        "print('The mean + std of amount spent is R$ ' + str(np.round(np.mean(budget_spent))) + ' +/- R$ ' + str(np.round(np.std(budget_spent))))\n"
      ]
    },
    {
      "cell_type": "markdown",
      "metadata": {},
      "source": [
        "So we can see here that the year that had the biggest budget spent it was in 2018, and, right in that year, was the year that was spent the biggest amount of money in the item \"Serviço\", as was introduced previously.\n",
        "\n",
        "Lets see now how much percent the amount spent in 2018 represents in the total spent on the four years"
      ]
    },
    {
      "cell_type": "code",
      "execution_count": 27,
      "metadata": {},
      "outputs": [
        {
          "data": {
            "text/plain": [
              "45.30468687884136"
            ]
          },
          "execution_count": 27,
          "metadata": {},
          "output_type": "execute_result"
        }
      ],
      "source": [
        "budget_spent[2]/np.sum(budget_spent)*100"
      ]
    },
    {
      "cell_type": "markdown",
      "metadata": {},
      "source": [
        "That's a high percentage! Almost 50% of the total amount from 2016 to 2019 was spent in 2018. But why?\n",
        "\n",
        "We know that the elections for the governor of RS happened in 2018, maybe can be this, and is known that, in these years of elections, the number of constructions in the cities increase. But we need to check if that was what happened.\n",
        "\n",
        "We know that, also, from the graphic below, that the most frequent item in 2018 was with Serviço item, and we know that serviço, between the most frequents items, the one that was most spent with it. But lets analyze in the entire data: with what this amount of money, in general, was spent with it?\n",
        "\n",
        "\n",
        "Why I am doing that? Because I suspect that, even serviço if the most frequent item, and, between the most frequent ones, it has the highest budget, he represents only 1% of the entire budget of the year. So I think that other items, not so frequents, has more budget the Serviço. For that, I need to analyze in the entire data."
      ]
    },
    {
      "cell_type": "code",
      "execution_count": 28,
      "metadata": {},
      "outputs": [
        {
          "data": {
            "text/plain": [
              "Text(0.5, 0, 'Count')"
            ]
          },
          "execution_count": 28,
          "metadata": {},
          "output_type": "execute_result"
        },
        {
          "data": {
            "image/png": "[encoded data removed]",
            "text/plain": [
              "<Figure size 432x288 with 1 Axes>"
            ]
          },
          "metadata": {
            "needs_background": "light"
          },
          "output_type": "display_data"
        }
      ],
      "source": [
        "plt.title(\"Most frequent items\")\n",
        "combined_item['DS_ITEM'][combined_item['ANO_LICITACAO'] == 2018].value_counts()[:10].sort_values().plot.barh()\n",
        "plt.xlabel(\"Count\")\n"
      ]
    },
    {
      "cell_type": "code",
      "execution_count": 29,
      "metadata": {},
      "outputs": [
        {
          "data": {
            "text/plain": [
              "DS_ITEM\n",
              "EXECUÇÃO DE OBRAS DE INFRAESTRUTURA ELÉTRICA PARA AGÊNCIA CAIBATÉ/RS                                                                                                                                                                                                                                                                                                                                                                                                                                                    2.075000e+08\n",
              "EXECUÇÃO DE OBRAS CIVIS, ELÉTRICAS, MECÂNICAS, LÓGICAS, SEGURANÇA E AUTOMAÇÃO, EQUIPAMENTOS E PPCI DO EDIFÍCIO DATA CENTER DO BANRISUL NA CIDADE DE PORTO ALEGRE/RS.                                                                                                                                                                                                                                                                                                                                                    6.154296e+07\n",
              "AMPLIAÇÃO E MODERNIZAÇÃO DA ETE MATO GRANDE EM CANOAS/RS.                                                                                                                                                                                                                                                                                                                                                                                                                                                               4.840583e+07\n",
              "SUREG PORTO ALEGRE E SEDE (AG. CENTRAL)                                                                                                                                                                                                                                                                                                                                                                                                                                                                                 3.969435e+07\n",
              "SUBSTITUIÇÃO                                                                                                                                                                                                                                                                                                                                                                                                                                                                                                            3.120285e+07\n",
              "Execução das obras das redes coletoras, ramais prediais, estações de bombeamento e emissários da bacia do Arroio Pinheiro Torto, sistema de esgotamento sanitário do município de Passo Fundo/RS.                                                                                                                                                                                                                                                                                                                       2.688369e+07\n",
              "EXECUÇÃO DA REFORMULAÇÃO E AMPLIAÇÃO DA ETE SANTA MARIA DO SISTEMA DE ESGOTAMENTO SANITÁRIO NO MUNICÍPIO DE SANTA MARIA-RS.                                                                                                                                                                                                                                                                                                                                                                                             2.607501e+07\n",
              "EXECUÇÃO DA ESTAÇÃO DE TRATAMENTO DE ESGOTOS PARQUE DOS ANJOS E EMISSÁRIO FINAL – GRAVATAÍ/RS.                                                                                                                                                                                                                                                                                                                                                                                                                          2.445864e+07\n",
              "PRESTAÇÃO DE SERVIÇOS DE VIGILÂNCIA OSTENSIVA ARMADA, NAS AGÊNCIAS E POSTOS DA SUPERINTENDÊNCIA ALTO URUGUAI.                                                                                                                                                                                                                                                                                                                                                                                                           2.312100e+07\n",
              "FORNECIMENTO, CONSTRUÇÃO, INSTALAÇÃO E OPERAÇÃO ASSISTIDA DE ESTAÇÃO DE TRATAMENTO DE ESGOTO PRÉ-FABRICADA PARA O MUNICÍPIO DE GRAMADO/RS.                                                                                                                                                                                                                                                                                                                                                                              2.299587e+07\n",
              "Name: VL_UNITARIO_HOMOLOGADO, dtype: float64"
            ]
          },
          "execution_count": 29,
          "metadata": {},
          "output_type": "execute_result"
        }
      ],
      "source": [
        "combined_item[combined_item['ANO_LICITACAO'] == 2018].groupby('DS_ITEM')['VL_UNITARIO_HOMOLOGADO'].sum().sort_values(ascending=False)[:10]\n"
      ]
    },
    {
      "cell_type": "markdown",
      "metadata": {},
      "source": [
        "The descriptions of the items are very large, so if difficult to plot and see. But we can see that the money was spent with constructions and maintenance of some cities in 2018, that's why in 2018 the money spent is bigger than other years. Coincidentally, was the year of the elections to RS' governor.\n"
      ]
    },
    {
      "cell_type": "markdown",
      "metadata": {},
      "source": [
        "Lets see, in each year, what was the item that spent the biggest amount of money, in general."
      ]
    },
    {
      "cell_type": "code",
      "execution_count": 30,
      "metadata": {},
      "outputs": [
        {
          "name": "stdout",
          "output_type": "stream",
          "text": [
            "----------------------------------------------------------\n",
            "The biggest amount of money was spent with \"CONSTRUÇÃO DO HOSPITAL PUBLICO REGIONAL\" in the year of 2016\n",
            "----------------------------------------------------------\n",
            "The biggest amount of money was spent with \"Contratação de prestação de serviços continuados sem dedicação exclusiva de mão de obra, de Desenvolvimento, Manutenção e Migração de Sistemas Informatizados em regime de FÁBRICA DE SOFTWARE, de Consultoria Técnica Especializada e Mentoring em Metodologia Ágil e em Design Thinking, de acordo com as \" in the year of 2017\n",
            "----------------------------------------------------------\n",
            "The biggest amount of money was spent with \"EXECUÇÃO DE OBRAS DE INFRAESTRUTURA ELÉTRICA PARA AGÊNCIA CAIBATÉ/RS                                                                                                                                                                                                                                                                                                                                                                                                                                                \" in the year of 2018\n",
            "----------------------------------------------------------\n",
            "The biggest amount of money was spent with \"EXECUÇÃO DA AMPLIAÇÃO DO SISTEMA DE ESGOTAMENTO SANITÁRIO DE IJUÍ – 2ª ETAPA.\" in the year of 2019\n"
          ]
        }
      ],
      "source": [
        "for i in ([2016, 2017, 2018, 2019]):\n",
        "    print('----------------------------------------------------------')\n",
        "    print('The biggest amount of money was spent with \"' + \n",
        "    str(combined_item[combined_item['ANO_LICITACAO'] == i].groupby('DS_ITEM')['VL_UNITARIO_HOMOLOGADO'].sum().sort_values(ascending=False).keys()[0]) + '\" in the year of ' + str(i))\n"
      ]
    },
    {
      "cell_type": "markdown",
      "metadata": {},
      "source": [
        "So we can see, above, with which item the biggest amount of money was spent in each year."
      ]
    },
    {
      "cell_type": "markdown",
      "metadata": {},
      "source": [
        "\n",
        "This can conclude one thing that I realized before: Serviço is the most frequent item, the one that was spent more between all the most frequent items, but it is not the one, in general, that has highest budget in all the data. Constructions have the highest budget, and were the items that were more expensive and the state spent a lot of money with it."
      ]
    },
    {
      "cell_type": "markdown",
      "metadata": {},
      "source": [
        "# Now lets analyze these data by the organ's names, instead the years."
      ]
    },
    {
      "cell_type": "markdown",
      "metadata": {},
      "source": [
        "We already know the items that was most spent with it, introduced above, so lets check which organ spent with these items.\n",
        "\n",
        "First we need to save the licitations keys of these items, to check in the dataframe of licitations (combined_licit)\n"
      ]
    },
    {
      "cell_type": "code",
      "execution_count": 31,
      "metadata": {},
      "outputs": [],
      "source": [
        "items = []\n",
        "for i in  ([2016,2017,2018,2019]):\n",
        "    # saving the name of these items to consult the licitations keys\n",
        "    items.append(combined_item[combined_item['ANO_LICITACAO'] == i].groupby('DS_ITEM')['VL_UNITARIO_HOMOLOGADO'].sum().sort_values(ascending=False).keys()[0])"
      ]
    },
    {
      "cell_type": "code",
      "execution_count": 32,
      "metadata": {},
      "outputs": [
        {
          "name": "stdout",
          "output_type": "stream",
          "text": [
            "The name of the organ that spent with the biggest budget items in each year is Series([], Name: NM_ORGAO_GERENCIADOR, dtype: object)\n",
            "The name of the organ that spent with the biggest budget items in each year is Series([], Name: NM_ORGAO_GERENCIADOR, dtype: object)\n",
            "The name of the organ that spent with the biggest budget items in each year is Series([], Name: NM_ORGAO_GERENCIADOR, dtype: object)\n",
            "The name of the organ that spent with the biggest budget items in each year is 0    NaN\n",
            "Name: NM_ORGAO_GERENCIADOR, dtype: object\n"
          ]
        }
      ],
      "source": [
        "for i in range (len(items)):\n",
        "    print( 'The name of the organ that spent with the biggest budget items in each year is ' + \n",
        "        str(pd.merge(combined_item[combined_item['DS_ITEM'] == items[i]], combined_licit, on=['NR_LICITACAO',\t'ANO_LICITACAO',\t'CD_TIPO_MODALIDADE'], how='inner')['NM_ORGAO_GERENCIADOR']\n",
        "    ))\n",
        "\n"
      ]
    },
    {
      "cell_type": "markdown",
      "metadata": {},
      "source": [
        "Unfortunately, in this data is not specified the name of these organs."
      ]
    },
    {
      "cell_type": "markdown",
      "metadata": {},
      "source": [
        "# Conclusion"
      ]
    },
    {
      "cell_type": "markdown",
      "metadata": {},
      "source": [
        "So, after the anlysis, we can conclude that:\n",
        "1. \"Serviço\" is the most frequent item in general \\\n",
        "    1.1 He is related to some automotive maintenance, aquisition of some stuffs related to foods, car and etc.\n",
        "2. \"Serviço\" was not the most frequent item in the 4 years, like in 2016 and 2019\n",
        "3. He is, between the most frequent items, the one that was most spent with it.\n",
        "4. In 2018 was spent a huge amount of money, resulting in almost 50% of the total amount in the 4 years. \\\n",
        "    4.1 This money spent is related, mostly, about public constructions in this year, and, coincidentally, was the year of the RS' elections for governor.\n",
        "5. The item that is most spent with it, in general, every year, is related to constructions\n",
        "6. Even if \"Serviço\" is the most frequent item, and, between the most frequent items, he is the one that is most spent with it, he is not, in general,\n",
        "the most spent with it by the state. "
      ]
    },
    {
      "cell_type": "markdown",
      "metadata": {},
      "source": [
        "### So we can see a pattern in the items bought: Stuffs related to constructions, car maintance, foods and contracts about services is the most common bought items, and it is on this type of item that most of the money is spent by the state.\n",
        "\n",
        "### Otherwise, the year that has the highest budget is in 2018. Coincidentally, this year happened the elections for governor in the RS state, and is known that, in these years of elections, the number of public constructions increase, how was introduced and proved before.\n",
        "\n"
      ]
    }
  ],
  "metadata": {
    "colab": {
      "collapsed_sections": [],
      "machine_shape": "hm",
      "name": "analisys.ipynb",
      "provenance": []
    },
    "interpreter": {
      "hash": "a4ebc76ad9d7e6de8f1f27745eeb2e994a5682238ecd675a73f317097a250eb4"
    },
    "kernelspec": {
      "display_name": "Python 3.10.2 ('venv': venv)",
      "language": "python",
      "name": "python3"
    },
    "language_info": {
      "codemirror_mode": {
        "name": "ipython",
        "version": 3
      },
      "file_extension": ".py",
      "mimetype": "text/x-python",
      "name": "python",
      "nbconvert_exporter": "python",
      "pygments_lexer": "ipython3",
      "version": "3.10.2"
    },
    "orig_nbformat": 4
  },
  "nbformat": 4,
  "nbformat_minor": 0
}
